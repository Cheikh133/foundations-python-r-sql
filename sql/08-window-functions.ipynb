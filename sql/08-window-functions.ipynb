{
 "cells": [
  {
   "cell_type": "markdown",
   "id": "6edb1a70",
   "metadata": {},
   "source": [
    "# 08 – Window Functions  \n",
    "Core SQL concept: perform advanced calculations across rows related to the current row.  \n",
    "\n",
    "---\n",
    "\n",
    "*Part of the [Foundations: Python, R & SQL](../README.md) repository.*"
   ]
  },
  {
   "cell_type": "code",
   "execution_count": 1,
   "id": "71039e3c",
   "metadata": {},
   "outputs": [],
   "source": [
    "import duckdb"
   ]
  },
  {
   "cell_type": "code",
   "execution_count": 2,
   "id": "5cfe86fe",
   "metadata": {},
   "outputs": [],
   "source": [
    "# Create a sample sales table\n",
    "duckdb.sql(\"\"\"\n",
    "CREATE TABLE sales (\n",
    "  employee TEXT,\n",
    "  department TEXT,\n",
    "  sale_amount INTEGER,\n",
    "  sale_date DATE\n",
    ");\n",
    "\n",
    "INSERT INTO sales VALUES\n",
    "('Alice', 'IT', 5000, '2023-01-10'),\n",
    "('Bob', 'IT', 3000, '2023-01-15'),\n",
    "('Alice', 'IT', 7000, '2023-01-20'),\n",
    "('Clara', 'HR', 4000, '2023-01-12'),\n",
    "('David', 'HR', 6000, '2023-01-18'),\n",
    "('Eva', 'Finance', 8000, '2023-01-25');\n",
    "\"\"\")"
   ]
  },
  {
   "cell_type": "code",
   "execution_count": 3,
   "id": "4e7afcec-7d68-48fa-acdd-cf83bd3fdd5a",
   "metadata": {},
   "outputs": [
    {
     "data": {
      "text/plain": [
       "┌──────────┬────────────┬─────────────┬────────────┐\n",
       "│ employee │ department │ sale_amount │ sale_date  │\n",
       "│ varchar  │  varchar   │    int32    │    date    │\n",
       "├──────────┼────────────┼─────────────┼────────────┤\n",
       "│ Alice    │ IT         │        5000 │ 2023-01-10 │\n",
       "│ Bob      │ IT         │        3000 │ 2023-01-15 │\n",
       "│ Alice    │ IT         │        7000 │ 2023-01-20 │\n",
       "│ Clara    │ HR         │        4000 │ 2023-01-12 │\n",
       "│ David    │ HR         │        6000 │ 2023-01-18 │\n",
       "│ Eva      │ Finance    │        8000 │ 2023-01-25 │\n",
       "└──────────┴────────────┴─────────────┴────────────┘"
      ]
     },
     "execution_count": 3,
     "metadata": {},
     "output_type": "execute_result"
    }
   ],
   "source": [
    "duckdb.sql(\"SELECT * FROM sales\")"
   ]
  },
  {
   "cell_type": "markdown",
   "id": "d7052193",
   "metadata": {},
   "source": [
    "## 1. Running Total by Employee"
   ]
  },
  {
   "cell_type": "code",
   "execution_count": 4,
   "id": "8fed9af8",
   "metadata": {},
   "outputs": [
    {
     "data": {
      "text/plain": [
       "┌──────────┬────────────┬─────────────┬───────────────┐\n",
       "│ employee │ sale_date  │ sale_amount │ running_total │\n",
       "│ varchar  │    date    │    int32    │    int128     │\n",
       "├──────────┼────────────┼─────────────┼───────────────┤\n",
       "│ David    │ 2023-01-18 │        6000 │          6000 │\n",
       "│ Eva      │ 2023-01-25 │        8000 │          8000 │\n",
       "│ Bob      │ 2023-01-15 │        3000 │          3000 │\n",
       "│ Alice    │ 2023-01-10 │        5000 │          5000 │\n",
       "│ Alice    │ 2023-01-20 │        7000 │         12000 │\n",
       "│ Clara    │ 2023-01-12 │        4000 │          4000 │\n",
       "└──────────┴────────────┴─────────────┴───────────────┘"
      ]
     },
     "execution_count": 4,
     "metadata": {},
     "output_type": "execute_result"
    }
   ],
   "source": [
    "duckdb.sql(\"\"\"\n",
    "SELECT\n",
    "  employee,\n",
    "  sale_date,\n",
    "  sale_amount,\n",
    "  SUM(sale_amount) OVER (PARTITION BY employee ORDER BY sale_date) AS running_total\n",
    "FROM sales\n",
    "\"\"\")"
   ]
  },
  {
   "cell_type": "markdown",
   "id": "194c7e3d",
   "metadata": {},
   "source": [
    "## 2. Row Number by Department"
   ]
  },
  {
   "cell_type": "code",
   "execution_count": 5,
   "id": "928c8c88",
   "metadata": {},
   "outputs": [
    {
     "data": {
      "text/plain": [
       "┌──────────┬────────────┬─────────────┬───────────┐\n",
       "│ employee │ department │ sale_amount │ dept_rank │\n",
       "│ varchar  │  varchar   │    int32    │   int64   │\n",
       "├──────────┼────────────┼─────────────┼───────────┤\n",
       "│ David    │ HR         │        6000 │         1 │\n",
       "│ Clara    │ HR         │        4000 │         2 │\n",
       "│ Eva      │ Finance    │        8000 │         1 │\n",
       "│ Alice    │ IT         │        7000 │         1 │\n",
       "│ Alice    │ IT         │        5000 │         2 │\n",
       "│ Bob      │ IT         │        3000 │         3 │\n",
       "└──────────┴────────────┴─────────────┴───────────┘"
      ]
     },
     "execution_count": 5,
     "metadata": {},
     "output_type": "execute_result"
    }
   ],
   "source": [
    "duckdb.sql(\"\"\"\n",
    "SELECT\n",
    "  employee,\n",
    "  department,\n",
    "  sale_amount,\n",
    "  ROW_NUMBER() OVER (PARTITION BY department ORDER BY sale_amount DESC) AS dept_rank\n",
    "FROM sales\n",
    "\"\"\")"
   ]
  },
  {
   "cell_type": "markdown",
   "id": "a6b6401a",
   "metadata": {},
   "source": [
    "## 3. RANK vs DENSE_RANK"
   ]
  },
  {
   "cell_type": "code",
   "execution_count": 6,
   "id": "874f159e",
   "metadata": {},
   "outputs": [
    {
     "data": {
      "text/plain": [
       "┌──────────┬────────────┬─────────────┬───────┬────────────┐\n",
       "│ employee │ department │ sale_amount │ rank  │ dense_rank │\n",
       "│ varchar  │  varchar   │    int32    │ int64 │   int64    │\n",
       "├──────────┼────────────┼─────────────┼───────┼────────────┤\n",
       "│ Eva      │ Finance    │        8000 │     1 │          1 │\n",
       "│ David    │ HR         │        6000 │     1 │          1 │\n",
       "│ Clara    │ HR         │        4000 │     2 │          2 │\n",
       "│ Alice    │ IT         │        7000 │     1 │          1 │\n",
       "│ Alice    │ IT         │        5000 │     2 │          2 │\n",
       "│ Bob      │ IT         │        3000 │     3 │          3 │\n",
       "└──────────┴────────────┴─────────────┴───────┴────────────┘"
      ]
     },
     "execution_count": 6,
     "metadata": {},
     "output_type": "execute_result"
    }
   ],
   "source": [
    "duckdb.sql(\"\"\"\n",
    "SELECT\n",
    "  employee,\n",
    "  department,\n",
    "  sale_amount,\n",
    "  RANK() OVER (PARTITION BY department ORDER BY sale_amount DESC) AS rank,\n",
    "  DENSE_RANK() OVER (PARTITION BY department ORDER BY sale_amount DESC) AS dense_rank\n",
    "FROM sales\n",
    "\"\"\")"
   ]
  },
  {
   "cell_type": "markdown",
   "id": "4a1e5e41",
   "metadata": {},
   "source": [
    "## Summary\n",
    "\n",
    "- Use `OVER()` with functions like `SUM`, `AVG`, `ROW_NUMBER`, `RANK`, etc.\n",
    "- `PARTITION BY` splits data into groups (like GROUP BY but doesn't collapse rows).\n",
    "- `ORDER BY` inside `OVER()` allows calculations across sorted rows.\n"
   ]
  }
 ],
 "metadata": {
  "kernelspec": {
   "display_name": "Python [conda env:base] *",
   "language": "python",
   "name": "conda-base-py"
  },
  "language_info": {
   "codemirror_mode": {
    "name": "ipython",
    "version": 3
   },
   "file_extension": ".py",
   "mimetype": "text/x-python",
   "name": "python",
   "nbconvert_exporter": "python",
   "pygments_lexer": "ipython3",
   "version": "3.12.7"
  }
 },
 "nbformat": 4,
 "nbformat_minor": 5
}
