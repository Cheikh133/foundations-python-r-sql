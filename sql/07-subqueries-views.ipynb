{
 "cells": [
  {
   "cell_type": "markdown",
   "id": "ead94822",
   "metadata": {},
   "source": [
    "# 07 – Subqueries & Views\n",
    "\n",
    "Core SQL concepts: subqueries, derived tables, and views.\n",
    "\n",
    "---\n",
    "\n",
    "*Part of the [Foundations: Python, R & SQL](../README.md) repository.*\n"
   ]
  },
  {
   "cell_type": "code",
   "execution_count": 1,
   "id": "c6f31b2f",
   "metadata": {},
   "outputs": [],
   "source": [
    "import duckdb"
   ]
  },
  {
   "cell_type": "code",
   "execution_count": 2,
   "id": "b629f42f",
   "metadata": {},
   "outputs": [],
   "source": [
    "# Create table for subquery examples\n",
    "duckdb.sql(\"\"\"\n",
    "CREATE TABLE sales (\n",
    "    id INTEGER,\n",
    "    product TEXT,\n",
    "    quantity INTEGER,\n",
    "    price FLOAT\n",
    ");\n",
    "\n",
    "INSERT INTO sales VALUES\n",
    "(1, 'Laptop', 2, 999.99),\n",
    "(2, 'Tablet', 4, 450.00),\n",
    "(3, 'Laptop', 1, 999.99),\n",
    "(4, 'Phone', 5, 699.00),\n",
    "(5, 'Tablet', 2, 450.00);\n",
    "\"\"\")"
   ]
  },
  {
   "cell_type": "code",
   "execution_count": 3,
   "id": "fd2720d0-1dda-4726-8326-fb51962a7cb8",
   "metadata": {},
   "outputs": [
    {
     "data": {
      "text/plain": [
       "┌───────┬─────────┬──────────┬────────┐\n",
       "│  id   │ product │ quantity │ price  │\n",
       "│ int32 │ varchar │  int32   │ float  │\n",
       "├───────┼─────────┼──────────┼────────┤\n",
       "│     1 │ Laptop  │        2 │ 999.99 │\n",
       "│     2 │ Tablet  │        4 │  450.0 │\n",
       "│     3 │ Laptop  │        1 │ 999.99 │\n",
       "│     4 │ Phone   │        5 │  699.0 │\n",
       "│     5 │ Tablet  │        2 │  450.0 │\n",
       "└───────┴─────────┴──────────┴────────┘"
      ]
     },
     "execution_count": 3,
     "metadata": {},
     "output_type": "execute_result"
    }
   ],
   "source": [
    "duckdb.sql(\"SELECT * FROM sales\")"
   ]
  },
  {
   "cell_type": "markdown",
   "id": "073aae33",
   "metadata": {},
   "source": [
    "## 1. Subqueries in SELECT\n",
    "\n",
    "Use subqueries to compute derived values.\n"
   ]
  },
  {
   "cell_type": "code",
   "execution_count": 4,
   "id": "54fc02a6",
   "metadata": {},
   "outputs": [
    {
     "data": {
      "text/plain": [
       "┌───────┬─────────┬──────────┬────────┬─────────┐\n",
       "│  id   │ product │ quantity │ price  │  total  │\n",
       "│ int32 │ varchar │  int32   │ float  │  float  │\n",
       "├───────┼─────────┼──────────┼────────┼─────────┤\n",
       "│     1 │ Laptop  │        2 │ 999.99 │ 1999.98 │\n",
       "│     2 │ Tablet  │        4 │  450.0 │  1800.0 │\n",
       "│     3 │ Laptop  │        1 │ 999.99 │  999.99 │\n",
       "│     4 │ Phone   │        5 │  699.0 │  3495.0 │\n",
       "│     5 │ Tablet  │        2 │  450.0 │   900.0 │\n",
       "└───────┴─────────┴──────────┴────────┴─────────┘"
      ]
     },
     "execution_count": 4,
     "metadata": {},
     "output_type": "execute_result"
    }
   ],
   "source": [
    "# Total revenue per sale\n",
    "duckdb.sql(\"\"\"\n",
    "SELECT *,\n",
    "       quantity * price AS total\n",
    "FROM sales;\n",
    "\"\"\")"
   ]
  },
  {
   "cell_type": "markdown",
   "id": "2c72427b",
   "metadata": {},
   "source": [
    "## 2. Subqueries in WHERE\n",
    "\n",
    "Filter results using conditions based on another query.\n"
   ]
  },
  {
   "cell_type": "code",
   "execution_count": 5,
   "id": "a7746352",
   "metadata": {},
   "outputs": [
    {
     "data": {
      "text/plain": [
       "┌───────┬─────────┬──────────┬────────┐\n",
       "│  id   │ product │ quantity │ price  │\n",
       "│ int32 │ varchar │  int32   │ float  │\n",
       "├───────┼─────────┼──────────┼────────┤\n",
       "│     1 │ Laptop  │        2 │ 999.99 │\n",
       "│     3 │ Laptop  │        1 │ 999.99 │\n",
       "└───────┴─────────┴──────────┴────────┘"
      ]
     },
     "execution_count": 5,
     "metadata": {},
     "output_type": "execute_result"
    }
   ],
   "source": [
    "# Show rows where price is higher than the average\n",
    "duckdb.sql(\"\"\"\n",
    "SELECT *\n",
    "FROM sales\n",
    "WHERE price > (SELECT AVG(price) FROM sales);\n",
    "\"\"\")"
   ]
  },
  {
   "cell_type": "markdown",
   "id": "5b24c2ba",
   "metadata": {},
   "source": [
    "## 3. Subqueries in FROM\n",
    "\n",
    "Use derived tables for intermediate computation.\n"
   ]
  },
  {
   "cell_type": "code",
   "execution_count": 6,
   "id": "411701a8",
   "metadata": {},
   "outputs": [
    {
     "data": {
      "text/plain": [
       "┌─────────┬──────────────┐\n",
       "│ product │ avg_quantity │\n",
       "│ varchar │    double    │\n",
       "├─────────┼──────────────┤\n",
       "│ Laptop  │          1.5 │\n",
       "│ Tablet  │          3.0 │\n",
       "└─────────┴──────────────┘"
      ]
     },
     "execution_count": 6,
     "metadata": {},
     "output_type": "execute_result"
    }
   ],
   "source": [
    "duckdb.sql(\"\"\"\n",
    "SELECT product, AVG(quantity) AS avg_quantity\n",
    "FROM (\n",
    "    SELECT * FROM sales WHERE product != 'Phone'\n",
    ")\n",
    "GROUP BY product;\n",
    "\"\"\")"
   ]
  },
  {
   "cell_type": "markdown",
   "id": "95623a17",
   "metadata": {},
   "source": [
    "## 4. Views\n",
    "\n",
    "Views are virtual tables based on SQL queries.\n"
   ]
  },
  {
   "cell_type": "code",
   "execution_count": 7,
   "id": "eed05eff",
   "metadata": {},
   "outputs": [],
   "source": [
    "# Create a view for high-value sales\n",
    "duckdb.sql(\"\"\"\n",
    "CREATE VIEW high_sales AS\n",
    "SELECT *\n",
    "FROM sales\n",
    "WHERE quantity * price > 2000;\n",
    "\"\"\")"
   ]
  },
  {
   "cell_type": "code",
   "execution_count": 8,
   "id": "fee1e183",
   "metadata": {},
   "outputs": [
    {
     "data": {
      "text/plain": [
       "┌───────┬─────────┬──────────┬───────┐\n",
       "│  id   │ product │ quantity │ price │\n",
       "│ int32 │ varchar │  int32   │ float │\n",
       "├───────┼─────────┼──────────┼───────┤\n",
       "│     4 │ Phone   │        5 │ 699.0 │\n",
       "└───────┴─────────┴──────────┴───────┘"
      ]
     },
     "execution_count": 8,
     "metadata": {},
     "output_type": "execute_result"
    }
   ],
   "source": [
    "# Query the view\n",
    "duckdb.sql(\"SELECT * FROM high_sales\")"
   ]
  },
  {
   "cell_type": "markdown",
   "id": "8c01bf4e",
   "metadata": {},
   "source": [
    "## Summary\n",
    "\n",
    "- Use subqueries to create intermediate logic inside `SELECT`, `WHERE`, and `FROM`.\n",
    "- Views help simplify repeated queries."
   ]
  }
 ],
 "metadata": {
  "kernelspec": {
   "display_name": "Python [conda env:base] *",
   "language": "python",
   "name": "conda-base-py"
  },
  "language_info": {
   "codemirror_mode": {
    "name": "ipython",
    "version": 3
   },
   "file_extension": ".py",
   "mimetype": "text/x-python",
   "name": "python",
   "nbconvert_exporter": "python",
   "pygments_lexer": "ipython3",
   "version": "3.12.7"
  }
 },
 "nbformat": 4,
 "nbformat_minor": 5
}
