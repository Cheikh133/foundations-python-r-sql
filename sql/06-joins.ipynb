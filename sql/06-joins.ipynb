{
 "cells": [
  {
   "cell_type": "markdown",
   "id": "4699a983",
   "metadata": {},
   "source": [
    "# 06 – SQL Joins\n",
    "\n",
    "Core SQL concepts: joining tables using INNER, LEFT, RIGHT, and FULL joins.\n",
    "\n",
    "*Part of the [Foundations: Python, R & SQL](../README.md) repository.*"
   ]
  },
  {
   "cell_type": "markdown",
   "id": "a90dab0b",
   "metadata": {},
   "source": [
    "## 1. Sample Tables"
   ]
  },
  {
   "cell_type": "code",
   "execution_count": 1,
   "id": "3a3464be",
   "metadata": {},
   "outputs": [],
   "source": [
    "import duckdb\n",
    "\n",
    "duckdb.sql(\"\"\"\n",
    "CREATE TABLE departments (\n",
    "  dept_id INTEGER,\n",
    "  dept_name TEXT\n",
    ");\n",
    "\n",
    "INSERT INTO departments VALUES\n",
    "(1, 'HR'),\n",
    "(2, 'IT'),\n",
    "(3, 'Finance');\n",
    "\n",
    "CREATE TABLE employees (\n",
    "  emp_id INTEGER,\n",
    "  name TEXT,\n",
    "  dept_id INTEGER\n",
    ");\n",
    "\n",
    "INSERT INTO employees VALUES\n",
    "(101, 'Alice', 1),\n",
    "(102, 'Bob', 2),\n",
    "(103, 'Clara', 4),  -- unknown dept\n",
    "(104, 'David', NULL);\n",
    "\"\"\")"
   ]
  },
  {
   "cell_type": "code",
   "execution_count": 2,
   "id": "83113c8c-e533-4a5d-aadc-2bbb879b1674",
   "metadata": {},
   "outputs": [
    {
     "data": {
      "text/plain": [
       "┌─────────┬───────────┐\n",
       "│ dept_id │ dept_name │\n",
       "│  int32  │  varchar  │\n",
       "├─────────┼───────────┤\n",
       "│       1 │ HR        │\n",
       "│       2 │ IT        │\n",
       "│       3 │ Finance   │\n",
       "└─────────┴───────────┘"
      ]
     },
     "execution_count": 2,
     "metadata": {},
     "output_type": "execute_result"
    }
   ],
   "source": [
    "duckdb.sql(\"SELECT * FROM departments\")"
   ]
  },
  {
   "cell_type": "code",
   "execution_count": 3,
   "id": "cf7f2285-891f-4380-aa0c-2a354f187685",
   "metadata": {},
   "outputs": [
    {
     "data": {
      "text/plain": [
       "┌────────┬─────────┬─────────┐\n",
       "│ emp_id │  name   │ dept_id │\n",
       "│ int32  │ varchar │  int32  │\n",
       "├────────┼─────────┼─────────┤\n",
       "│    101 │ Alice   │       1 │\n",
       "│    102 │ Bob     │       2 │\n",
       "│    103 │ Clara   │       4 │\n",
       "│    104 │ David   │    NULL │\n",
       "└────────┴─────────┴─────────┘"
      ]
     },
     "execution_count": 3,
     "metadata": {},
     "output_type": "execute_result"
    }
   ],
   "source": [
    "duckdb.sql(\"SELECT * FROM employees\")"
   ]
  },
  {
   "cell_type": "markdown",
   "id": "179b4e87",
   "metadata": {},
   "source": [
    "## 2. INNER JOIN\n",
    "\n",
    "Returns only matching rows between both tables."
   ]
  },
  {
   "cell_type": "code",
   "execution_count": 4,
   "id": "29374eee",
   "metadata": {},
   "outputs": [
    {
     "data": {
      "text/plain": [
       "┌────────┬─────────┬───────────┐\n",
       "│ emp_id │  name   │ dept_name │\n",
       "│ int32  │ varchar │  varchar  │\n",
       "├────────┼─────────┼───────────┤\n",
       "│    101 │ Alice   │ HR        │\n",
       "│    102 │ Bob     │ IT        │\n",
       "└────────┴─────────┴───────────┘"
      ]
     },
     "execution_count": 4,
     "metadata": {},
     "output_type": "execute_result"
    }
   ],
   "source": [
    "duckdb.sql(\"\"\"\n",
    "SELECT emp_id, name, dept_name\n",
    "FROM employees\n",
    "INNER JOIN departments\n",
    "ON employees.dept_id = departments.dept_id;\n",
    "\"\"\")"
   ]
  },
  {
   "cell_type": "markdown",
   "id": "987a746a",
   "metadata": {},
   "source": [
    "## 3. LEFT JOIN\n",
    "\n",
    "Returns all rows from the left table, even if no match."
   ]
  },
  {
   "cell_type": "code",
   "execution_count": 5,
   "id": "a037ff27",
   "metadata": {},
   "outputs": [
    {
     "data": {
      "text/plain": [
       "┌────────┬─────────┬───────────┐\n",
       "│ emp_id │  name   │ dept_name │\n",
       "│ int32  │ varchar │  varchar  │\n",
       "├────────┼─────────┼───────────┤\n",
       "│    101 │ Alice   │ HR        │\n",
       "│    102 │ Bob     │ IT        │\n",
       "│    103 │ Clara   │ NULL      │\n",
       "│    104 │ David   │ NULL      │\n",
       "└────────┴─────────┴───────────┘"
      ]
     },
     "execution_count": 5,
     "metadata": {},
     "output_type": "execute_result"
    }
   ],
   "source": [
    "duckdb.sql(\"\"\"\n",
    "SELECT emp_id, name, dept_name\n",
    "FROM employees\n",
    "LEFT JOIN departments\n",
    "ON employees.dept_id = departments.dept_id;\n",
    "\"\"\")"
   ]
  },
  {
   "cell_type": "markdown",
   "id": "6a2b7bc7",
   "metadata": {},
   "source": [
    "## 4. RIGHT JOIN\n",
    "\n",
    "DuckDB does not support RIGHT JOIN directly. Use LEFT JOIN by switching table order."
   ]
  },
  {
   "cell_type": "code",
   "execution_count": 6,
   "id": "ab69a729",
   "metadata": {},
   "outputs": [
    {
     "data": {
      "text/plain": [
       "┌───────────┬─────────┐\n",
       "│ dept_name │  name   │\n",
       "│  varchar  │ varchar │\n",
       "├───────────┼─────────┤\n",
       "│ HR        │ Alice   │\n",
       "│ IT        │ Bob     │\n",
       "│ Finance   │ NULL    │\n",
       "└───────────┴─────────┘"
      ]
     },
     "execution_count": 6,
     "metadata": {},
     "output_type": "execute_result"
    }
   ],
   "source": [
    "duckdb.sql(\"\"\"\n",
    "SELECT dept_name, name\n",
    "FROM departments\n",
    "LEFT JOIN employees\n",
    "ON employees.dept_id = departments.dept_id;\n",
    "\"\"\")"
   ]
  },
  {
   "cell_type": "markdown",
   "id": "74d298ae",
   "metadata": {},
   "source": [
    "## 5. FULL OUTER JOIN"
   ]
  },
  {
   "cell_type": "code",
   "execution_count": 7,
   "id": "470add8c",
   "metadata": {},
   "outputs": [
    {
     "data": {
      "text/plain": [
       "┌────────┬─────────┬─────────┬─────────┬───────────┐\n",
       "│ emp_id │  name   │ dept_id │ dept_id │ dept_name │\n",
       "│ int32  │ varchar │  int32  │  int32  │  varchar  │\n",
       "├────────┼─────────┼─────────┼─────────┼───────────┤\n",
       "│    101 │ Alice   │       1 │       1 │ HR        │\n",
       "│    102 │ Bob     │       2 │       2 │ IT        │\n",
       "│    103 │ Clara   │       4 │    NULL │ NULL      │\n",
       "│    104 │ David   │    NULL │    NULL │ NULL      │\n",
       "│   NULL │ NULL    │    NULL │       3 │ Finance   │\n",
       "└────────┴─────────┴─────────┴─────────┴───────────┘"
      ]
     },
     "execution_count": 7,
     "metadata": {},
     "output_type": "execute_result"
    }
   ],
   "source": [
    "duckdb.sql(\"\"\"\n",
    "SELECT *\n",
    "FROM employees\n",
    "FULL OUTER JOIN departments\n",
    "ON employees.dept_id = departments.dept_id;\n",
    "\"\"\")"
   ]
  },
  {
   "cell_type": "markdown",
   "id": "e59b16d0",
   "metadata": {},
   "source": [
    "## Summary\n",
    "\n",
    "- Use `INNER JOIN` to match rows in both tables.\n",
    "- Use `LEFT JOIN` to keep all left rows even if unmatched.\n",
    "- Use `RIGHT JOIN` by switching order in `LEFT JOIN` (DuckDB workaround).\n",
    "- Use `FULL OUTER JOIN` to retain all data from both tables."
   ]
  }
 ],
 "metadata": {
  "kernelspec": {
   "display_name": "Python [conda env:base] *",
   "language": "python",
   "name": "conda-base-py"
  },
  "language_info": {
   "codemirror_mode": {
    "name": "ipython",
    "version": 3
   },
   "file_extension": ".py",
   "mimetype": "text/x-python",
   "name": "python",
   "nbconvert_exporter": "python",
   "pygments_lexer": "ipython3",
   "version": "3.12.7"
  }
 },
 "nbformat": 4,
 "nbformat_minor": 5
}
