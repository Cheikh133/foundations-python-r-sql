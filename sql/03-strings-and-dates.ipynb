{
 "cells": [
  {
   "cell_type": "markdown",
   "id": "c7727dea",
   "metadata": {},
   "source": [
    "# 03 – Strings and Dates\n",
    "\n",
    "Core SQL concepts: working with text and date data using built-in functions.\n",
    "\n",
    "Part of the [Foundations: Python, R & SQL](../README.md) repository."
   ]
  },
  {
   "cell_type": "code",
   "execution_count": 1,
   "id": "c35bb04c",
   "metadata": {},
   "outputs": [],
   "source": [
    "import duckdb\n",
    "\n",
    "# Create a sample table\n",
    "duckdb.sql(\"\"\"\n",
    "CREATE TABLE employees (\n",
    "  id INTEGER,\n",
    "  name TEXT,\n",
    "  department TEXT,\n",
    "  salary INTEGER,\n",
    "  hire_date DATE\n",
    ");\n",
    "\n",
    "INSERT INTO employees VALUES\n",
    "(1, 'Alice Johnson', 'IT', 60000, '2019-01-15'),\n",
    "(2, 'Bob Smith', 'HR', 50000, '2020-03-22'),\n",
    "(3, 'Clara Davis', 'Finance', 65000, '2018-07-30'),\n",
    "(4, 'David Brown', 'IT', 55000, '2021-05-10'),\n",
    "(5, 'Eva Green', 'HR', 48000, '2022-09-01');\n",
    "\"\"\")"
   ]
  },
  {
   "cell_type": "code",
   "execution_count": 2,
   "id": "d1d5c895-6707-4458-9425-b9b92397905e",
   "metadata": {},
   "outputs": [
    {
     "data": {
      "text/plain": [
       "┌───────┬───────────────┬────────────┬────────┬────────────┐\n",
       "│  id   │     name      │ department │ salary │ hire_date  │\n",
       "│ int32 │    varchar    │  varchar   │ int32  │    date    │\n",
       "├───────┼───────────────┼────────────┼────────┼────────────┤\n",
       "│     1 │ Alice Johnson │ IT         │  60000 │ 2019-01-15 │\n",
       "│     2 │ Bob Smith     │ HR         │  50000 │ 2020-03-22 │\n",
       "│     3 │ Clara Davis   │ Finance    │  65000 │ 2018-07-30 │\n",
       "│     4 │ David Brown   │ IT         │  55000 │ 2021-05-10 │\n",
       "│     5 │ Eva Green     │ HR         │  48000 │ 2022-09-01 │\n",
       "└───────┴───────────────┴────────────┴────────┴────────────┘"
      ]
     },
     "execution_count": 2,
     "metadata": {},
     "output_type": "execute_result"
    }
   ],
   "source": [
    "duckdb.sql(\"SELECT * FROM employees\")"
   ]
  },
  {
   "cell_type": "markdown",
   "id": "e8b62c03",
   "metadata": {},
   "source": [
    "## 1. String Functions\n",
    "Use functions like `UPPER`, `LOWER`, `LENGTH`, and `SUBSTR` to manipulate text."
   ]
  },
  {
   "cell_type": "code",
   "execution_count": 3,
   "id": "ee627efb",
   "metadata": {},
   "outputs": [
    {
     "data": {
      "text/plain": [
       "┌───────────────┬───────────────┬───────────────┬─────────────┬────────────┐\n",
       "│     name      │  name_upper   │  name_lower   │ name_length │ name_short │\n",
       "│    varchar    │    varchar    │    varchar    │    int64    │  varchar   │\n",
       "├───────────────┼───────────────┼───────────────┼─────────────┼────────────┤\n",
       "│ Alice Johnson │ ALICE JOHNSON │ alice johnson │          13 │ Alice      │\n",
       "│ Bob Smith     │ BOB SMITH     │ bob smith     │           9 │ Bob S      │\n",
       "│ Clara Davis   │ CLARA DAVIS   │ clara davis   │          11 │ Clara      │\n",
       "│ David Brown   │ DAVID BROWN   │ david brown   │          11 │ David      │\n",
       "│ Eva Green     │ EVA GREEN     │ eva green     │           9 │ Eva G      │\n",
       "└───────────────┴───────────────┴───────────────┴─────────────┴────────────┘"
      ]
     },
     "execution_count": 3,
     "metadata": {},
     "output_type": "execute_result"
    }
   ],
   "source": [
    "duckdb.sql(\"\"\"\n",
    "SELECT \n",
    "  name,\n",
    "  UPPER(name) AS name_upper,\n",
    "  LOWER(name) AS name_lower,\n",
    "  LENGTH(name) AS name_length,\n",
    "  SUBSTR(name, 1, 5) AS name_short\n",
    "FROM employees;\n",
    "\"\"\")"
   ]
  },
  {
   "cell_type": "markdown",
   "id": "e452c225",
   "metadata": {},
   "source": [
    "## 2. Date Functions\n",
    "Extract parts of a date and perform date arithmetic."
   ]
  },
  {
   "cell_type": "code",
   "execution_count": 4,
   "id": "6d912646",
   "metadata": {},
   "outputs": [
    {
     "data": {
      "text/plain": [
       "┌───────────────┬────────────┬────────────┬─────────────┬───────────────┐\n",
       "│     name      │ hire_date  │ year_hired │ month_hired │ days_employed │\n",
       "│    varchar    │    date    │   int64    │    int64    │     int64     │\n",
       "├───────────────┼────────────┼────────────┼─────────────┼───────────────┤\n",
       "│ Alice Johnson │ 2019-01-15 │       2019 │           1 │          2342 │\n",
       "│ Bob Smith     │ 2020-03-22 │       2020 │           3 │          1910 │\n",
       "│ Clara Davis   │ 2018-07-30 │       2018 │           7 │          2511 │\n",
       "│ David Brown   │ 2021-05-10 │       2021 │           5 │          1496 │\n",
       "│ Eva Green     │ 2022-09-01 │       2022 │           9 │          1017 │\n",
       "└───────────────┴────────────┴────────────┴─────────────┴───────────────┘"
      ]
     },
     "execution_count": 4,
     "metadata": {},
     "output_type": "execute_result"
    }
   ],
   "source": [
    "duckdb.sql(\"\"\"\n",
    "SELECT \n",
    "  name,\n",
    "  hire_date,\n",
    "  EXTRACT(year FROM hire_date) AS year_hired,\n",
    "  EXTRACT(month FROM hire_date) AS month_hired,\n",
    "  CURRENT_DATE - hire_date AS days_employed\n",
    "FROM employees;\n",
    "\"\"\")"
   ]
  },
  {
   "cell_type": "markdown",
   "id": "1bafcd44",
   "metadata": {},
   "source": [
    "## 3. Filtering with Text and Dates\n",
    "Use `LIKE` and comparisons for filtering."
   ]
  },
  {
   "cell_type": "code",
   "execution_count": 5,
   "id": "b5dfc5b6",
   "metadata": {},
   "outputs": [
    {
     "data": {
      "text/plain": [
       "┌───────┬───────────────┬────────────┬────────┬────────────┐\n",
       "│  id   │     name      │ department │ salary │ hire_date  │\n",
       "│ int32 │    varchar    │  varchar   │ int32  │    date    │\n",
       "├───────┼───────────────┼────────────┼────────┼────────────┤\n",
       "│     1 │ Alice Johnson │ IT         │  60000 │ 2019-01-15 │\n",
       "└───────┴───────────────┴────────────┴────────┴────────────┘"
      ]
     },
     "execution_count": 5,
     "metadata": {},
     "output_type": "execute_result"
    }
   ],
   "source": [
    "duckdb.sql(\"\"\"\n",
    "SELECT *\n",
    "FROM employees\n",
    "WHERE name LIKE 'A%';\n",
    "\"\"\")"
   ]
  },
  {
   "cell_type": "code",
   "execution_count": 6,
   "id": "f2577d82",
   "metadata": {},
   "outputs": [
    {
     "data": {
      "text/plain": [
       "┌───────┬─────────────┬────────────┬────────┬────────────┐\n",
       "│  id   │    name     │ department │ salary │ hire_date  │\n",
       "│ int32 │   varchar   │  varchar   │ int32  │    date    │\n",
       "├───────┼─────────────┼────────────┼────────┼────────────┤\n",
       "│     2 │ Bob Smith   │ HR         │  50000 │ 2020-03-22 │\n",
       "│     4 │ David Brown │ IT         │  55000 │ 2021-05-10 │\n",
       "│     5 │ Eva Green   │ HR         │  48000 │ 2022-09-01 │\n",
       "└───────┴─────────────┴────────────┴────────┴────────────┘"
      ]
     },
     "execution_count": 6,
     "metadata": {},
     "output_type": "execute_result"
    }
   ],
   "source": [
    "duckdb.sql(\"\"\"\n",
    "SELECT *\n",
    "FROM employees\n",
    "WHERE hire_date > '2020-01-01';\n",
    "\"\"\")"
   ]
  },
  {
   "cell_type": "markdown",
   "id": "9db5901c",
   "metadata": {},
   "source": [
    "## Summary\n",
    "\n",
    "- Use **string functions** to transform or extract parts of text.\n",
    "- Use **date functions** for calendar-based logic and arithmetic.\n",
    "- Filter with `LIKE` and date comparisons for dynamic queries."
   ]
  }
 ],
 "metadata": {
  "kernelspec": {
   "display_name": "Python [conda env:base] *",
   "language": "python",
   "name": "conda-base-py"
  },
  "language_info": {
   "codemirror_mode": {
    "name": "ipython",
    "version": 3
   },
   "file_extension": ".py",
   "mimetype": "text/x-python",
   "name": "python",
   "nbconvert_exporter": "python",
   "pygments_lexer": "ipython3",
   "version": "3.12.7"
  }
 },
 "nbformat": 4,
 "nbformat_minor": 5
}
