{
 "cells": [
  {
   "cell_type": "markdown",
   "id": "f9d5062c",
   "metadata": {},
   "source": [
    "# 09 – Mini Project\n",
    "\n",
    "Core SQL concepts: Practice and consolidate key SQL skills with a small project.\n",
    "\n",
    "---\n",
    "\n",
    "*Part of the [Foundations: Python, R & SQL](../README.md) repository.*"
   ]
  },
  {
   "cell_type": "code",
   "execution_count": 1,
   "id": "0bfe2fad",
   "metadata": {},
   "outputs": [],
   "source": [
    "import duckdb"
   ]
  },
  {
   "cell_type": "markdown",
   "id": "d326f5ca",
   "metadata": {},
   "source": [
    "## 1. Create tables"
   ]
  },
  {
   "cell_type": "code",
   "execution_count": 2,
   "id": "86a5cfef",
   "metadata": {},
   "outputs": [],
   "source": [
    "duckdb.sql(\"\"\"\n",
    "CREATE TABLE employees (\n",
    "  id INTEGER,\n",
    "  name TEXT,\n",
    "  department TEXT,\n",
    "  salary INTEGER,\n",
    "  hire_date DATE\n",
    ");\n",
    "\n",
    "INSERT INTO employees VALUES\n",
    "(1, 'Alice', 'IT', 60000, '2019-01-15'),\n",
    "(2, 'Bob', 'HR', 50000, '2020-03-22'),\n",
    "(3, 'Clara', 'Finance', 65000, '2018-07-30'),\n",
    "(4, 'David', 'IT', 55000, '2021-05-10'),\n",
    "(5, 'Eva', 'HR', 48000, '2022-09-01');\n",
    "\"\"\")\n",
    "\n",
    "duckdb.sql(\"\"\"\n",
    "CREATE TABLE projects (\n",
    "  project_id INTEGER,\n",
    "  employee_id INTEGER,\n",
    "  project_name TEXT,\n",
    "  hours_worked INTEGER\n",
    ");\n",
    "\n",
    "INSERT INTO projects VALUES\n",
    "(101, 1, 'Migration', 120),\n",
    "(102, 2, 'Onboarding', 80),\n",
    "(103, 1, 'Security Audit', 100),\n",
    "(104, 3, 'Budget Planning', 90),\n",
    "(105, 4, 'Cloud Setup', 130);\n",
    "\"\"\")"
   ]
  },
  {
   "cell_type": "code",
   "execution_count": 3,
   "id": "a2b3a940-96c2-47be-adfe-913e19be1562",
   "metadata": {},
   "outputs": [
    {
     "data": {
      "text/plain": [
       "┌───────┬─────────┬────────────┬────────┬────────────┐\n",
       "│  id   │  name   │ department │ salary │ hire_date  │\n",
       "│ int32 │ varchar │  varchar   │ int32  │    date    │\n",
       "├───────┼─────────┼────────────┼────────┼────────────┤\n",
       "│     1 │ Alice   │ IT         │  60000 │ 2019-01-15 │\n",
       "│     2 │ Bob     │ HR         │  50000 │ 2020-03-22 │\n",
       "│     3 │ Clara   │ Finance    │  65000 │ 2018-07-30 │\n",
       "│     4 │ David   │ IT         │  55000 │ 2021-05-10 │\n",
       "│     5 │ Eva     │ HR         │  48000 │ 2022-09-01 │\n",
       "└───────┴─────────┴────────────┴────────┴────────────┘"
      ]
     },
     "execution_count": 3,
     "metadata": {},
     "output_type": "execute_result"
    }
   ],
   "source": [
    "duckdb.sql(\"SELECT * FROM employees\")"
   ]
  },
  {
   "cell_type": "code",
   "execution_count": 4,
   "id": "383cb0b3-e212-4fcd-893f-da04430c18bd",
   "metadata": {},
   "outputs": [
    {
     "data": {
      "text/plain": [
       "┌────────────┬─────────────┬─────────────────┬──────────────┐\n",
       "│ project_id │ employee_id │  project_name   │ hours_worked │\n",
       "│   int32    │    int32    │     varchar     │    int32     │\n",
       "├────────────┼─────────────┼─────────────────┼──────────────┤\n",
       "│        101 │           1 │ Migration       │          120 │\n",
       "│        102 │           2 │ Onboarding      │           80 │\n",
       "│        103 │           1 │ Security Audit  │          100 │\n",
       "│        104 │           3 │ Budget Planning │           90 │\n",
       "│        105 │           4 │ Cloud Setup     │          130 │\n",
       "└────────────┴─────────────┴─────────────────┴──────────────┘"
      ]
     },
     "execution_count": 4,
     "metadata": {},
     "output_type": "execute_result"
    }
   ],
   "source": [
    "duckdb.sql(\"SELECT * FROM projects\")"
   ]
  },
  {
   "cell_type": "markdown",
   "id": "9ddb54ee",
   "metadata": {},
   "source": [
    "## 2. Queries and Insights"
   ]
  },
  {
   "cell_type": "code",
   "execution_count": 5,
   "id": "78336aa6",
   "metadata": {},
   "outputs": [
    {
     "data": {
      "text/plain": [
       "┌────────────┬────────────┐\n",
       "│ department │ avg_salary │\n",
       "│  varchar   │   double   │\n",
       "├────────────┼────────────┤\n",
       "│ IT         │    57500.0 │\n",
       "│ Finance    │    65000.0 │\n",
       "│ HR         │    49000.0 │\n",
       "└────────────┴────────────┘"
      ]
     },
     "execution_count": 5,
     "metadata": {},
     "output_type": "execute_result"
    }
   ],
   "source": [
    "duckdb.sql(\"\"\"\n",
    "SELECT department, AVG(salary) AS avg_salary\n",
    "FROM employees\n",
    "GROUP BY department;\n",
    "\"\"\")"
   ]
  },
  {
   "cell_type": "code",
   "execution_count": 6,
   "id": "63c4964f",
   "metadata": {},
   "outputs": [
    {
     "data": {
      "text/plain": [
       "┌─────────┬────────────┬─────────────────┬──────────────┐\n",
       "│  name   │ department │  project_name   │ hours_worked │\n",
       "│ varchar │  varchar   │     varchar     │    int32     │\n",
       "├─────────┼────────────┼─────────────────┼──────────────┤\n",
       "│ David   │ IT         │ Cloud Setup     │          130 │\n",
       "│ Alice   │ IT         │ Migration       │          120 │\n",
       "│ Alice   │ IT         │ Security Audit  │          100 │\n",
       "│ Clara   │ Finance    │ Budget Planning │           90 │\n",
       "│ Bob     │ HR         │ Onboarding      │           80 │\n",
       "└─────────┴────────────┴─────────────────┴──────────────┘"
      ]
     },
     "execution_count": 6,
     "metadata": {},
     "output_type": "execute_result"
    }
   ],
   "source": [
    "duckdb.sql(\"\"\"\n",
    "SELECT e.name, e.department, p.project_name, p.hours_worked\n",
    "FROM employees e\n",
    "JOIN projects p\n",
    "ON e.id = p.employee_id\n",
    "ORDER BY p.hours_worked DESC;\n",
    "\"\"\")"
   ]
  },
  {
   "cell_type": "code",
   "execution_count": 7,
   "id": "40b7db9e",
   "metadata": {},
   "outputs": [
    {
     "data": {
      "text/plain": [
       "┌─────────┬─────────────┬───────────────┐\n",
       "│  name   │ total_hours │ workload_rank │\n",
       "│ varchar │   int128    │     int64     │\n",
       "├─────────┼─────────────┼───────────────┤\n",
       "│ Alice   │         220 │             1 │\n",
       "│ David   │         130 │             2 │\n",
       "│ Clara   │          90 │             3 │\n",
       "│ Bob     │          80 │             4 │\n",
       "└─────────┴─────────────┴───────────────┘"
      ]
     },
     "execution_count": 7,
     "metadata": {},
     "output_type": "execute_result"
    }
   ],
   "source": [
    "duckdb.sql(\"\"\"\n",
    "SELECT name, SUM(hours_worked) AS total_hours,\n",
    "       RANK() OVER (ORDER BY SUM(hours_worked) DESC) AS workload_rank\n",
    "FROM employees e\n",
    "JOIN projects p ON e.id = p.employee_id\n",
    "GROUP BY name;\n",
    "\"\"\")"
   ]
  },
  {
   "cell_type": "markdown",
   "id": "e82f8f36",
   "metadata": {},
   "source": [
    "## 3. Summary\n",
    "\n",
    "- Joined employee and project data to understand workload and salary trends.\n",
    "- Used aggregation, joins, and window functions."
   ]
  }
 ],
 "metadata": {
  "kernelspec": {
   "display_name": "Python [conda env:base] *",
   "language": "python",
   "name": "conda-base-py"
  },
  "language_info": {
   "codemirror_mode": {
    "name": "ipython",
    "version": 3
   },
   "file_extension": ".py",
   "mimetype": "text/x-python",
   "name": "python",
   "nbconvert_exporter": "python",
   "pygments_lexer": "ipython3",
   "version": "3.12.7"
  }
 },
 "nbformat": 4,
 "nbformat_minor": 5
}
