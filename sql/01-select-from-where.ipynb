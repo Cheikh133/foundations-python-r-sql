{
 "cells": [
  {
   "cell_type": "markdown",
   "id": "43709a2f",
   "metadata": {},
   "source": [
    "# 01 – SELECT, FROM, WHERE\n",
    "\n",
    "Core SQL concepts: selecting columns, filtering rows.\n",
    "\n",
    "Part of the [Foundations: Python, R & SQL](../README.md) repository.\n",
    "\n",
    "\n",
    "---\n",
    "\n",
    "## Setup\n",
    "\n",
    "Run the following cell first:\n",
    "```python\n",
    "!pip install -q duckdb duckdb-engine\n",
    "import duckdb\n",
    "```\n",
    "Then you can execute SQL queries using Python directly:\n",
    "\n",
    "```python\n",
    "duckdb.sql(\"\"\"\n",
    "SELECT 1 + 1 AS result\n",
    "\"\"\")\n",
    "```\n"
   ]
  },
  {
   "cell_type": "code",
   "execution_count": 1,
   "id": "8276be4d",
   "metadata": {},
   "outputs": [],
   "source": [
    "!pip install -q duckdb duckdb-engine\n",
    "import duckdb"
   ]
  },
  {
   "cell_type": "markdown",
   "id": "e2a59b71",
   "metadata": {},
   "source": [
    "## Create Sample Table"
   ]
  },
  {
   "cell_type": "code",
   "execution_count": 2,
   "id": "2c7ff40e",
   "metadata": {},
   "outputs": [],
   "source": [
    "duckdb.sql(\"\"\"\n",
    "CREATE TABLE employees (\n",
    "  id INTEGER,\n",
    "  name TEXT,\n",
    "  department TEXT,\n",
    "  salary INTEGER,\n",
    "  hire_date DATE\n",
    ");\n",
    "\n",
    "INSERT INTO employees VALUES\n",
    "(1, 'Alice', 'IT', 60000, '2019-01-15'),\n",
    "(2, 'Bob', 'HR', 50000, '2020-03-22'),\n",
    "(3, 'Clara', 'Finance', 65000, '2018-07-30'),\n",
    "(4, 'David', 'IT', 55000, '2021-05-10'),\n",
    "(5, 'Eva', 'HR', 48000, '2022-09-01');\n",
    "\"\"\")"
   ]
  },
  {
   "cell_type": "code",
   "execution_count": 3,
   "id": "e1af55ae-4b78-4de6-96b8-bf4b0c5f783d",
   "metadata": {},
   "outputs": [
    {
     "data": {
      "text/plain": [
       "┌───────┬─────────┬────────────┬────────┬────────────┐\n",
       "│  id   │  name   │ department │ salary │ hire_date  │\n",
       "│ int32 │ varchar │  varchar   │ int32  │    date    │\n",
       "├───────┼─────────┼────────────┼────────┼────────────┤\n",
       "│     1 │ Alice   │ IT         │  60000 │ 2019-01-15 │\n",
       "│     2 │ Bob     │ HR         │  50000 │ 2020-03-22 │\n",
       "│     3 │ Clara   │ Finance    │  65000 │ 2018-07-30 │\n",
       "│     4 │ David   │ IT         │  55000 │ 2021-05-10 │\n",
       "│     5 │ Eva     │ HR         │  48000 │ 2022-09-01 │\n",
       "└───────┴─────────┴────────────┴────────┴────────────┘"
      ]
     },
     "execution_count": 3,
     "metadata": {},
     "output_type": "execute_result"
    }
   ],
   "source": [
    "duckdb.sql(\"SELECT * FROM employees\")"
   ]
  },
  {
   "cell_type": "markdown",
   "id": "8e4dcb9d",
   "metadata": {},
   "source": [
    "## 1. SELECT – Basic Column Retrieval"
   ]
  },
  {
   "cell_type": "code",
   "execution_count": 4,
   "id": "0e1937a3",
   "metadata": {},
   "outputs": [
    {
     "data": {
      "text/plain": [
       "┌─────────┬────────────┐\n",
       "│  name   │ department │\n",
       "│ varchar │  varchar   │\n",
       "├─────────┼────────────┤\n",
       "│ Alice   │ IT         │\n",
       "│ Bob     │ HR         │\n",
       "│ Clara   │ Finance    │\n",
       "│ David   │ IT         │\n",
       "│ Eva     │ HR         │\n",
       "└─────────┴────────────┘"
      ]
     },
     "execution_count": 4,
     "metadata": {},
     "output_type": "execute_result"
    }
   ],
   "source": [
    "duckdb.sql(\"\"\"\n",
    "SELECT name, department FROM employees;\n",
    "\"\"\")"
   ]
  },
  {
   "cell_type": "markdown",
   "id": "2641429a",
   "metadata": {},
   "source": [
    "## 2. WHERE – Filtering Rows"
   ]
  },
  {
   "cell_type": "code",
   "execution_count": 5,
   "id": "d9ae6473",
   "metadata": {},
   "outputs": [
    {
     "data": {
      "text/plain": [
       "┌───────┬─────────┬────────────┬────────┬────────────┐\n",
       "│  id   │  name   │ department │ salary │ hire_date  │\n",
       "│ int32 │ varchar │  varchar   │ int32  │    date    │\n",
       "├───────┼─────────┼────────────┼────────┼────────────┤\n",
       "│     1 │ Alice   │ IT         │  60000 │ 2019-01-15 │\n",
       "│     4 │ David   │ IT         │  55000 │ 2021-05-10 │\n",
       "└───────┴─────────┴────────────┴────────┴────────────┘"
      ]
     },
     "execution_count": 5,
     "metadata": {},
     "output_type": "execute_result"
    }
   ],
   "source": [
    "duckdb.sql(\"\"\"\n",
    "SELECT * FROM employees\n",
    "WHERE department = 'IT';\n",
    "\"\"\")"
   ]
  },
  {
   "cell_type": "markdown",
   "id": "7d278066",
   "metadata": {},
   "source": [
    "## 3. Filtering with Multiple Conditions"
   ]
  },
  {
   "cell_type": "code",
   "execution_count": 6,
   "id": "8c4ea6b3",
   "metadata": {},
   "outputs": [
    {
     "data": {
      "text/plain": [
       "┌─────────┬────────┐\n",
       "│  name   │ salary │\n",
       "│ varchar │ int32  │\n",
       "├─────────┼────────┤\n",
       "│ Alice   │  60000 │\n",
       "└─────────┴────────┘"
      ]
     },
     "execution_count": 6,
     "metadata": {},
     "output_type": "execute_result"
    }
   ],
   "source": [
    "duckdb.sql(\"\"\"\n",
    "SELECT name, salary FROM employees\n",
    "WHERE department = 'IT' AND salary > 55000;\n",
    "\"\"\")"
   ]
  },
  {
   "cell_type": "markdown",
   "id": "1b8a1e7a",
   "metadata": {},
   "source": [
    "## 4. Filtering by Date"
   ]
  },
  {
   "cell_type": "code",
   "execution_count": 7,
   "id": "fea9a307",
   "metadata": {},
   "outputs": [
    {
     "data": {
      "text/plain": [
       "┌───────┬─────────┬────────────┬────────┬────────────┐\n",
       "│  id   │  name   │ department │ salary │ hire_date  │\n",
       "│ int32 │ varchar │  varchar   │ int32  │    date    │\n",
       "├───────┼─────────┼────────────┼────────┼────────────┤\n",
       "│     2 │ Bob     │ HR         │  50000 │ 2020-03-22 │\n",
       "│     4 │ David   │ IT         │  55000 │ 2021-05-10 │\n",
       "│     5 │ Eva     │ HR         │  48000 │ 2022-09-01 │\n",
       "└───────┴─────────┴────────────┴────────┴────────────┘"
      ]
     },
     "execution_count": 7,
     "metadata": {},
     "output_type": "execute_result"
    }
   ],
   "source": [
    "duckdb.sql(\"\"\"\n",
    "SELECT * FROM employees\n",
    "WHERE hire_date >= '2020-01-01';\n",
    "\"\"\")"
   ]
  },
  {
   "cell_type": "markdown",
   "id": "42c27657",
   "metadata": {},
   "source": [
    "## Summary\n",
    "\n",
    "- Use `SELECT` to choose which columns to return.\n",
    "- Use `FROM` to specify the table.\n",
    "- Use `WHERE` to filter rows based on conditions.\n",
    "- You can combine conditions using `AND`, `OR`, and use operators like `=`, `>`, `<`, `!=`, `>=`, `<=`.\n",
    "- DuckDB allows clean and fast execution of SQL inside Python notebooks.\n"
   ]
  }
 ],
 "metadata": {
  "kernelspec": {
   "display_name": "Python [conda env:base] *",
   "language": "python",
   "name": "conda-base-py"
  },
  "language_info": {
   "codemirror_mode": {
    "name": "ipython",
    "version": 3
   },
   "file_extension": ".py",
   "mimetype": "text/x-python",
   "name": "python",
   "nbconvert_exporter": "python",
   "pygments_lexer": "ipython3",
   "version": "3.12.7"
  }
 },
 "nbformat": 4,
 "nbformat_minor": 5
}
