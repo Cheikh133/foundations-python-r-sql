{
 "cells": [
  {
   "cell_type": "markdown",
   "id": "11c64342",
   "metadata": {},
   "source": [
    "# 04 – Aggregations, GROUP BY, and HAVING\n",
    "\n",
    "Core SQL concepts: aggregating data, grouping rows, and filtering grouped results.\n",
    "\n",
    "Part of the [Foundations: Python, R & SQL](../README.md) repository.\n"
   ]
  },
  {
   "cell_type": "markdown",
   "id": "ec2fdfb4",
   "metadata": {},
   "source": [
    "## 1. Sample Table"
   ]
  },
  {
   "cell_type": "code",
   "execution_count": 1,
   "id": "00e4a56f",
   "metadata": {},
   "outputs": [],
   "source": [
    "import duckdb\n",
    "\n",
    "duckdb.sql(\"\"\"\n",
    "CREATE TABLE sales (\n",
    "  id INTEGER,\n",
    "  region TEXT,\n",
    "  sales_rep TEXT,\n",
    "  amount INTEGER,\n",
    "  sale_date DATE\n",
    ");\n",
    "\n",
    "INSERT INTO sales VALUES\n",
    "(1, 'North', 'Alice', 5000, '2023-01-05'),\n",
    "(2, 'South', 'Bob', 7000, '2023-01-07'),\n",
    "(3, 'North', 'Alice', 6000, '2023-02-12'),\n",
    "(4, 'East', 'Clara', 4000, '2023-02-15'),\n",
    "(5, 'West', 'David', 3000, '2023-02-20'),\n",
    "(6, 'South', 'Bob', 9000, '2023-03-01'),\n",
    "(7, 'East', 'Clara', 3500, '2023-03-05');\n",
    "\"\"\")"
   ]
  },
  {
   "cell_type": "code",
   "execution_count": 2,
   "id": "c697db96-25e8-454b-beee-ec161f75b0e4",
   "metadata": {},
   "outputs": [
    {
     "data": {
      "text/plain": [
       "┌───────┬─────────┬───────────┬────────┬────────────┐\n",
       "│  id   │ region  │ sales_rep │ amount │ sale_date  │\n",
       "│ int32 │ varchar │  varchar  │ int32  │    date    │\n",
       "├───────┼─────────┼───────────┼────────┼────────────┤\n",
       "│     1 │ North   │ Alice     │   5000 │ 2023-01-05 │\n",
       "│     2 │ South   │ Bob       │   7000 │ 2023-01-07 │\n",
       "│     3 │ North   │ Alice     │   6000 │ 2023-02-12 │\n",
       "│     4 │ East    │ Clara     │   4000 │ 2023-02-15 │\n",
       "│     5 │ West    │ David     │   3000 │ 2023-02-20 │\n",
       "│     6 │ South   │ Bob       │   9000 │ 2023-03-01 │\n",
       "│     7 │ East    │ Clara     │   3500 │ 2023-03-05 │\n",
       "└───────┴─────────┴───────────┴────────┴────────────┘"
      ]
     },
     "execution_count": 2,
     "metadata": {},
     "output_type": "execute_result"
    }
   ],
   "source": [
    "duckdb.sql(\"SELECT * FROM sales\")"
   ]
  },
  {
   "cell_type": "markdown",
   "id": "259f3a1e",
   "metadata": {},
   "source": [
    "## 2. Aggregation Functions"
   ]
  },
  {
   "cell_type": "code",
   "execution_count": 3,
   "id": "b0e6b5a4",
   "metadata": {},
   "outputs": [
    {
     "data": {
      "text/plain": [
       "┌─────────────┬──────────────┬───────────────────┬────────────┬────────────┐\n",
       "│ total_sales │ total_amount │    avg_amount     │ min_amount │ max_amount │\n",
       "│    int64    │    int128    │      double       │   int32    │   int32    │\n",
       "├─────────────┼──────────────┼───────────────────┼────────────┼────────────┤\n",
       "│           7 │        37500 │ 5357.142857142857 │       3000 │       9000 │\n",
       "└─────────────┴──────────────┴───────────────────┴────────────┴────────────┘"
      ]
     },
     "execution_count": 3,
     "metadata": {},
     "output_type": "execute_result"
    }
   ],
   "source": [
    "duckdb.sql(\"\"\"\n",
    "SELECT\n",
    "  COUNT(*) AS total_sales,\n",
    "  SUM(amount) AS total_amount,\n",
    "  AVG(amount) AS avg_amount,\n",
    "  MIN(amount) AS min_amount,\n",
    "  MAX(amount) AS max_amount\n",
    "FROM sales;\n",
    "\"\"\")"
   ]
  },
  {
   "cell_type": "markdown",
   "id": "9bd52589",
   "metadata": {},
   "source": [
    "## 3. GROUP BY Clause"
   ]
  },
  {
   "cell_type": "code",
   "execution_count": 4,
   "id": "4767bfd2",
   "metadata": {},
   "outputs": [
    {
     "data": {
      "text/plain": [
       "┌─────────┬─────────────┬──────────────┐\n",
       "│ region  │ sales_count │ total_amount │\n",
       "│ varchar │    int64    │    int128    │\n",
       "├─────────┼─────────────┼──────────────┤\n",
       "│ East    │           2 │         7500 │\n",
       "│ West    │           1 │         3000 │\n",
       "│ North   │           2 │        11000 │\n",
       "│ South   │           2 │        16000 │\n",
       "└─────────┴─────────────┴──────────────┘"
      ]
     },
     "execution_count": 4,
     "metadata": {},
     "output_type": "execute_result"
    }
   ],
   "source": [
    "duckdb.sql(\"\"\"\n",
    "SELECT\n",
    "  region,\n",
    "  COUNT(*) AS sales_count,\n",
    "  SUM(amount) AS total_amount\n",
    "FROM sales\n",
    "GROUP BY region;\n",
    "\"\"\")"
   ]
  },
  {
   "cell_type": "markdown",
   "id": "5f9314d3",
   "metadata": {},
   "source": [
    "## 4. Filtering Grouped Results with HAVING"
   ]
  },
  {
   "cell_type": "code",
   "execution_count": 5,
   "id": "118f7987",
   "metadata": {},
   "outputs": [
    {
     "data": {
      "text/plain": [
       "┌─────────┬─────────────┬──────────────┐\n",
       "│ region  │ sales_count │ total_amount │\n",
       "│ varchar │    int64    │    int128    │\n",
       "├─────────┼─────────────┼──────────────┤\n",
       "│ South   │           2 │        16000 │\n",
       "│ North   │           2 │        11000 │\n",
       "└─────────┴─────────────┴──────────────┘"
      ]
     },
     "execution_count": 5,
     "metadata": {},
     "output_type": "execute_result"
    }
   ],
   "source": [
    "duckdb.sql(\"\"\"\n",
    "SELECT\n",
    "  region,\n",
    "  COUNT(*) AS sales_count,\n",
    "  SUM(amount) AS total_amount\n",
    "FROM sales\n",
    "GROUP BY region\n",
    "HAVING total_amount > 8000;\n",
    "\"\"\")"
   ]
  },
  {
   "cell_type": "markdown",
   "id": "964c66ff",
   "metadata": {},
   "source": [
    "## Summary\n",
    "\n",
    "- Use **aggregation functions** (`SUM`, `AVG`, `MIN`, `MAX`, `COUNT`) to compute summaries.\n",
    "- Use **GROUP BY** to aggregate over categories.\n",
    "- Use **HAVING** to filter after grouping.\n"
   ]
  }
 ],
 "metadata": {
  "kernelspec": {
   "display_name": "Python [conda env:base] *",
   "language": "python",
   "name": "conda-base-py"
  },
  "language_info": {
   "codemirror_mode": {
    "name": "ipython",
    "version": 3
   },
   "file_extension": ".py",
   "mimetype": "text/x-python",
   "name": "python",
   "nbconvert_exporter": "python",
   "pygments_lexer": "ipython3",
   "version": "3.12.7"
  }
 },
 "nbformat": 4,
 "nbformat_minor": 5
}
