{
 "cells": [
  {
   "cell_type": "markdown",
   "id": "62904cff",
   "metadata": {},
   "source": [
    "# 05 – ORDER BY, DISTINCT, and CASE\n",
    "\n",
    "Core SQL concepts: sorting results, removing duplicates, and conditional logic with `CASE`.\n",
    "\n",
    "Part of the [Foundations: Python, R & SQL](../README.md) repository.\n"
   ]
  },
  {
   "cell_type": "code",
   "execution_count": 1,
   "id": "9eab77fb",
   "metadata": {},
   "outputs": [],
   "source": [
    "import duckdb\n",
    "\n",
    "duckdb.sql(\"\"\"\n",
    "CREATE TABLE employees (\n",
    "  id INTEGER,\n",
    "  name TEXT,\n",
    "  department TEXT,\n",
    "  salary INTEGER,\n",
    "  hire_date DATE\n",
    ");\n",
    "\n",
    "INSERT INTO employees VALUES\n",
    "(1, 'Alice', 'IT', 60000, '2019-01-15'),\n",
    "(2, 'Bob', 'HR', 50000, '2020-03-22'),\n",
    "(3, 'Clara', 'Finance', 65000, '2018-07-30'),\n",
    "(4, 'David', 'IT', 55000, '2021-05-10'),\n",
    "(5, 'Eva', 'HR', 48000, '2022-09-01');\n",
    "\"\"\")"
   ]
  },
  {
   "cell_type": "code",
   "execution_count": 2,
   "id": "4fb7a2f2-ea33-4b03-8af3-cb39f6d8b38c",
   "metadata": {},
   "outputs": [
    {
     "data": {
      "text/plain": [
       "┌───────┬─────────┬────────────┬────────┬────────────┐\n",
       "│  id   │  name   │ department │ salary │ hire_date  │\n",
       "│ int32 │ varchar │  varchar   │ int32  │    date    │\n",
       "├───────┼─────────┼────────────┼────────┼────────────┤\n",
       "│     1 │ Alice   │ IT         │  60000 │ 2019-01-15 │\n",
       "│     2 │ Bob     │ HR         │  50000 │ 2020-03-22 │\n",
       "│     3 │ Clara   │ Finance    │  65000 │ 2018-07-30 │\n",
       "│     4 │ David   │ IT         │  55000 │ 2021-05-10 │\n",
       "│     5 │ Eva     │ HR         │  48000 │ 2022-09-01 │\n",
       "└───────┴─────────┴────────────┴────────┴────────────┘"
      ]
     },
     "execution_count": 2,
     "metadata": {},
     "output_type": "execute_result"
    }
   ],
   "source": [
    "duckdb.sql(\"SELECT * FROM employees\")"
   ]
  },
  {
   "cell_type": "markdown",
   "id": "ba69db58",
   "metadata": {},
   "source": [
    "## 1. ORDER BY\n",
    "\n",
    "Sort results in ascending (`ASC`) or descending (`DESC`) order.\n",
    "\n",
    "- By default, `ORDER BY` is ascending.\n",
    "- Can sort by one or more columns.\n"
   ]
  },
  {
   "cell_type": "code",
   "execution_count": 3,
   "id": "156af2a7",
   "metadata": {},
   "outputs": [
    {
     "data": {
      "text/plain": [
       "┌─────────┬────────┐\n",
       "│  name   │ salary │\n",
       "│ varchar │ int32  │\n",
       "├─────────┼────────┤\n",
       "│ Eva     │  48000 │\n",
       "│ Bob     │  50000 │\n",
       "│ David   │  55000 │\n",
       "│ Alice   │  60000 │\n",
       "│ Clara   │  65000 │\n",
       "└─────────┴────────┘"
      ]
     },
     "execution_count": 3,
     "metadata": {},
     "output_type": "execute_result"
    }
   ],
   "source": [
    "# Order by salary ascending\n",
    "duckdb.sql(\"\"\"\n",
    "SELECT name, salary\n",
    "FROM employees\n",
    "ORDER BY salary\n",
    "\"\"\")"
   ]
  },
  {
   "cell_type": "code",
   "execution_count": 4,
   "id": "fc3a43f9",
   "metadata": {},
   "outputs": [
    {
     "data": {
      "text/plain": [
       "┌─────────┬────────────┐\n",
       "│  name   │ hire_date  │\n",
       "│ varchar │    date    │\n",
       "├─────────┼────────────┤\n",
       "│ Eva     │ 2022-09-01 │\n",
       "│ David   │ 2021-05-10 │\n",
       "│ Bob     │ 2020-03-22 │\n",
       "│ Alice   │ 2019-01-15 │\n",
       "│ Clara   │ 2018-07-30 │\n",
       "└─────────┴────────────┘"
      ]
     },
     "execution_count": 4,
     "metadata": {},
     "output_type": "execute_result"
    }
   ],
   "source": [
    "# Order by hire_date descending\n",
    "duckdb.sql(\"\"\"\n",
    "SELECT name, hire_date\n",
    "FROM employees\n",
    "ORDER BY hire_date DESC\n",
    "\"\"\")"
   ]
  },
  {
   "cell_type": "markdown",
   "id": "875b7060",
   "metadata": {},
   "source": [
    "## 2. DISTINCT\n",
    "\n",
    "Remove duplicate rows from result.\n"
   ]
  },
  {
   "cell_type": "code",
   "execution_count": 5,
   "id": "2137b0bf",
   "metadata": {},
   "outputs": [
    {
     "data": {
      "text/plain": [
       "┌────────────┐\n",
       "│ department │\n",
       "│  varchar   │\n",
       "├────────────┤\n",
       "│ IT         │\n",
       "│ Finance    │\n",
       "│ HR         │\n",
       "└────────────┘"
      ]
     },
     "execution_count": 5,
     "metadata": {},
     "output_type": "execute_result"
    }
   ],
   "source": [
    "# Select unique departments\n",
    "duckdb.sql(\"\"\"\n",
    "SELECT DISTINCT department\n",
    "FROM employees\n",
    "\"\"\")"
   ]
  },
  {
   "cell_type": "markdown",
   "id": "18104626",
   "metadata": {},
   "source": [
    "## 3. CASE\n",
    "\n",
    "Add conditional logic in SELECT or WHERE.\n",
    "\n",
    "Use `CASE WHEN` to create new columns based on conditions.\n"
   ]
  },
  {
   "cell_type": "code",
   "execution_count": 6,
   "id": "9789f73b",
   "metadata": {},
   "outputs": [
    {
     "data": {
      "text/plain": [
       "┌─────────┬────────┬──────────────┐\n",
       "│  name   │ salary │ salary_level │\n",
       "│ varchar │ int32  │   varchar    │\n",
       "├─────────┼────────┼──────────────┤\n",
       "│ Alice   │  60000 │ High         │\n",
       "│ Bob     │  50000 │ Medium       │\n",
       "│ Clara   │  65000 │ High         │\n",
       "│ David   │  55000 │ Medium       │\n",
       "│ Eva     │  48000 │ Low          │\n",
       "└─────────┴────────┴──────────────┘"
      ]
     },
     "execution_count": 6,
     "metadata": {},
     "output_type": "execute_result"
    }
   ],
   "source": [
    "# Classify salaries\n",
    "duckdb.sql(\"\"\"\n",
    "SELECT name, salary,\n",
    "  CASE\n",
    "    WHEN salary >= 60000 THEN 'High'\n",
    "    WHEN salary >= 50000 THEN 'Medium'\n",
    "    ELSE 'Low'\n",
    "  END AS salary_level\n",
    "FROM employees\n",
    "\"\"\")"
   ]
  },
  {
   "cell_type": "markdown",
   "id": "3acaed1e",
   "metadata": {},
   "source": [
    "## Summary\n",
    "\n",
    "- Use `ORDER BY` to sort results.\n",
    "- Use `DISTINCT` to eliminate duplicates.\n",
    "- Use `CASE` for conditional logic in queries.\n"
   ]
  }
 ],
 "metadata": {
  "kernelspec": {
   "display_name": "Python [conda env:base] *",
   "language": "python",
   "name": "conda-base-py"
  },
  "language_info": {
   "codemirror_mode": {
    "name": "ipython",
    "version": 3
   },
   "file_extension": ".py",
   "mimetype": "text/x-python",
   "name": "python",
   "nbconvert_exporter": "python",
   "pygments_lexer": "ipython3",
   "version": "3.12.7"
  }
 },
 "nbformat": 4,
 "nbformat_minor": 5
}
