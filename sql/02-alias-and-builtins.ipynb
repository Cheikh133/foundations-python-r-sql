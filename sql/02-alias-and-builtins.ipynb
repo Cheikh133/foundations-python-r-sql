{
 "cells": [
  {
   "cell_type": "markdown",
   "id": "3ba305da",
   "metadata": {},
   "source": [
    "# 02 – Aliases and Built-in Functions\n",
    "\n",
    "Core SQL concepts: column and table aliases, built-in functions for math, text, and date operations.\n",
    "\n",
    "Part of the [Foundations: Python, R & SQL](../README.md) repository."
   ]
  },
  {
   "cell_type": "code",
   "execution_count": 1,
   "id": "cac2a1e4",
   "metadata": {},
   "outputs": [],
   "source": [
    "# Uncomment if running on Colab\n",
    "# !pip install duckdb"
   ]
  },
  {
   "cell_type": "code",
   "execution_count": 2,
   "id": "05000b2b",
   "metadata": {},
   "outputs": [],
   "source": [
    "import duckdb"
   ]
  },
  {
   "cell_type": "code",
   "execution_count": 3,
   "id": "cfd437ec",
   "metadata": {},
   "outputs": [],
   "source": [
    "duckdb.sql(\"\"\"\n",
    "CREATE TABLE employees (\n",
    "  id INTEGER,\n",
    "  name TEXT,\n",
    "  department TEXT,\n",
    "  salary INTEGER,\n",
    "  hire_date DATE\n",
    ");\n",
    "\n",
    "INSERT INTO employees VALUES\n",
    "(1, 'Alice', 'IT', 60000, '2019-01-15'),\n",
    "(2, 'Bob', 'HR', 50000, '2020-03-22'),\n",
    "(3, 'Clara', 'Finance', 65000, '2018-07-30'),\n",
    "(4, 'David', 'IT', 55000, '2021-05-10'),\n",
    "(5, 'Eva', 'HR', 48000, '2022-09-01');\n",
    "\"\"\")"
   ]
  },
  {
   "cell_type": "code",
   "execution_count": 4,
   "id": "904390f5-13f0-4d3f-a8dd-96c0cdc5f195",
   "metadata": {},
   "outputs": [
    {
     "data": {
      "text/plain": [
       "┌───────┬─────────┬────────────┬────────┬────────────┐\n",
       "│  id   │  name   │ department │ salary │ hire_date  │\n",
       "│ int32 │ varchar │  varchar   │ int32  │    date    │\n",
       "├───────┼─────────┼────────────┼────────┼────────────┤\n",
       "│     1 │ Alice   │ IT         │  60000 │ 2019-01-15 │\n",
       "│     2 │ Bob     │ HR         │  50000 │ 2020-03-22 │\n",
       "│     3 │ Clara   │ Finance    │  65000 │ 2018-07-30 │\n",
       "│     4 │ David   │ IT         │  55000 │ 2021-05-10 │\n",
       "│     5 │ Eva     │ HR         │  48000 │ 2022-09-01 │\n",
       "└───────┴─────────┴────────────┴────────┴────────────┘"
      ]
     },
     "execution_count": 4,
     "metadata": {},
     "output_type": "execute_result"
    }
   ],
   "source": [
    "duckdb.sql(\"SELECT * FROM employees\")"
   ]
  },
  {
   "cell_type": "markdown",
   "id": "4b3b7220",
   "metadata": {},
   "source": [
    "## 1. Column and Table Aliases\n",
    "Use `AS` to rename columns or tables for readability."
   ]
  },
  {
   "cell_type": "code",
   "execution_count": 5,
   "id": "6286d2c6",
   "metadata": {},
   "outputs": [
    {
     "data": {
      "text/plain": [
       "┌───────────────┬───────────────┐\n",
       "│ employee_name │ annual_salary │\n",
       "│    varchar    │     int32     │\n",
       "├───────────────┼───────────────┤\n",
       "│ Alice         │         60000 │\n",
       "│ Bob           │         50000 │\n",
       "│ Clara         │         65000 │\n",
       "│ David         │         55000 │\n",
       "│ Eva           │         48000 │\n",
       "└───────────────┴───────────────┘"
      ]
     },
     "execution_count": 5,
     "metadata": {},
     "output_type": "execute_result"
    }
   ],
   "source": [
    "duckdb.sql(\"\"\"\n",
    "SELECT \n",
    "  name AS employee_name, \n",
    "  salary AS annual_salary\n",
    "FROM employees AS e;\n",
    "\"\"\")"
   ]
  },
  {
   "cell_type": "markdown",
   "id": "97627cf0",
   "metadata": {},
   "source": [
    "## 2. Built-in String Functions"
   ]
  },
  {
   "cell_type": "code",
   "execution_count": 6,
   "id": "65382399",
   "metadata": {},
   "outputs": [
    {
     "data": {
      "text/plain": [
       "┌─────────┬─────────────┬────────────┬────────────┐\n",
       "│  name   │ name_length │ name_upper │ name_lower │\n",
       "│ varchar │    int64    │  varchar   │  varchar   │\n",
       "├─────────┼─────────────┼────────────┼────────────┤\n",
       "│ Alice   │           5 │ ALICE      │ alice      │\n",
       "│ Bob     │           3 │ BOB        │ bob        │\n",
       "│ Clara   │           5 │ CLARA      │ clara      │\n",
       "│ David   │           5 │ DAVID      │ david      │\n",
       "│ Eva     │           3 │ EVA        │ eva        │\n",
       "└─────────┴─────────────┴────────────┴────────────┘"
      ]
     },
     "execution_count": 6,
     "metadata": {},
     "output_type": "execute_result"
    }
   ],
   "source": [
    "duckdb.sql(\"\"\"\n",
    "SELECT \n",
    "  name, \n",
    "  LENGTH(name) AS name_length,\n",
    "  UPPER(name) AS name_upper,\n",
    "  LOWER(name) AS name_lower\n",
    "FROM employees;\n",
    "\"\"\")"
   ]
  },
  {
   "cell_type": "markdown",
   "id": "068fb950",
   "metadata": {},
   "source": [
    "## 3. Math Functions"
   ]
  },
  {
   "cell_type": "code",
   "execution_count": 7,
   "id": "2f7f6b2c",
   "metadata": {},
   "outputs": [
    {
     "data": {
      "text/plain": [
       "┌─────────┬────────┬───────────────────┬────────────┐\n",
       "│  name   │ salary │ salary_plus_10pct │ rounded_up │\n",
       "│ varchar │ int32  │   decimal(12,0)   │   double   │\n",
       "├─────────┼────────┼───────────────────┼────────────┤\n",
       "│ Alice   │  60000 │             66000 │    60000.0 │\n",
       "│ Bob     │  50000 │             55000 │    50000.0 │\n",
       "│ Clara   │  65000 │             71500 │    65000.0 │\n",
       "│ David   │  55000 │             60500 │    55000.0 │\n",
       "│ Eva     │  48000 │             52800 │    48000.0 │\n",
       "└─────────┴────────┴───────────────────┴────────────┘"
      ]
     },
     "execution_count": 7,
     "metadata": {},
     "output_type": "execute_result"
    }
   ],
   "source": [
    "duckdb.sql(\"\"\"\n",
    "SELECT \n",
    "  name,\n",
    "  salary,\n",
    "  ROUND(salary * 1.1, 0) AS salary_plus_10pct,\n",
    "  CEIL(salary / 1000) * 1000 AS rounded_up\n",
    "FROM employees;\n",
    "\"\"\")"
   ]
  },
  {
   "cell_type": "markdown",
   "id": "0013c906",
   "metadata": {},
   "source": [
    "## 4. Date Functions"
   ]
  },
  {
   "cell_type": "code",
   "execution_count": 8,
   "id": "f32acc72",
   "metadata": {},
   "outputs": [
    {
     "data": {
      "text/plain": [
       "┌─────────┬────────────┬───────────┬────────────┐\n",
       "│  name   │ hire_date  │ hire_year │ hire_month │\n",
       "│ varchar │    date    │   int64   │   int64    │\n",
       "├─────────┼────────────┼───────────┼────────────┤\n",
       "│ Alice   │ 2019-01-15 │      2019 │          1 │\n",
       "│ Bob     │ 2020-03-22 │      2020 │          3 │\n",
       "│ Clara   │ 2018-07-30 │      2018 │          7 │\n",
       "│ David   │ 2021-05-10 │      2021 │          5 │\n",
       "│ Eva     │ 2022-09-01 │      2022 │          9 │\n",
       "└─────────┴────────────┴───────────┴────────────┘"
      ]
     },
     "execution_count": 8,
     "metadata": {},
     "output_type": "execute_result"
    }
   ],
   "source": [
    "duckdb.sql(\"\"\"\n",
    "SELECT \n",
    "  name,\n",
    "  hire_date,\n",
    "  YEAR(hire_date) AS hire_year,\n",
    "  MONTH(hire_date) AS hire_month\n",
    "FROM employees;\n",
    "\"\"\")"
   ]
  },
  {
   "cell_type": "markdown",
   "id": "46704cf4",
   "metadata": {},
   "source": [
    "## Summary\n",
    "\n",
    "- Use `AS` to create readable column or table aliases.\n",
    "- SQL includes built-in functions for:\n",
    "  - String manipulation: `LENGTH()`, `UPPER()`, `LOWER()`\n",
    "  - Arithmetic: `ROUND()`, `CEIL()`, etc.\n",
    "  - Date processing: `YEAR()`, `MONTH()`, etc.\n"
   ]
  }
 ],
 "metadata": {
  "kernelspec": {
   "display_name": "Python [conda env:base] *",
   "language": "python",
   "name": "conda-base-py"
  },
  "language_info": {
   "codemirror_mode": {
    "name": "ipython",
    "version": 3
   },
   "file_extension": ".py",
   "mimetype": "text/x-python",
   "name": "python",
   "nbconvert_exporter": "python",
   "pygments_lexer": "ipython3",
   "version": "3.12.7"
  }
 },
 "nbformat": 4,
 "nbformat_minor": 5
}
