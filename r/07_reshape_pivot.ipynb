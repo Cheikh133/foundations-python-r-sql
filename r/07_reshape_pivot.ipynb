{
 "cells": [
  {
   "cell_type": "markdown",
   "id": "UIskSwGiZoAK",
   "metadata": {
    "id": "UIskSwGiZoAK"
   },
   "source": [
    "# 07 – Reshape and Pivot\n",
    "\n",
    "Core R concepts: transforming data shapes using `pivot_longer`, `pivot_wider`\n",
    "\n",
    "---\n",
    "\n",
    "*This notebook is part of the [Foundations: Python, R & SQL](../README.md) series.*\n",
    "\n",
    "---"
   ]
  },
  {
   "cell_type": "code",
   "execution_count": 8,
   "id": "Tmm6NhibZoAM",
   "metadata": {
    "colab": {
     "base_uri": "https://localhost:8080/"
    },
    "id": "Tmm6NhibZoAM",
    "outputId": "3fe6e12d-3b1f-460f-8dcf-a404c895620e"
   },
   "outputs": [
    {
     "name": "stdout",
     "output_type": "stream",
     "text": [
      "The rpy2.ipython extension is already loaded. To reload it, use:\n",
      "  %reload_ext rpy2.ipython\n"
     ]
    }
   ],
   "source": [
    "!pip install -q rpy2\n",
    "%load_ext rpy2.ipython"
   ]
  },
  {
   "cell_type": "code",
   "execution_count": 9,
   "id": "io7tDY1rZoAN",
   "metadata": {
    "id": "io7tDY1rZoAN"
   },
   "outputs": [],
   "source": [
    "%%R\n",
    "# Load necessary libraries\n",
    "library(tidyr)\n",
    "library(dplyr)"
   ]
  },
  {
   "cell_type": "markdown",
   "id": "lOCfpYlSZoAN",
   "metadata": {
    "id": "lOCfpYlSZoAN"
   },
   "source": [
    "## 1. pivot_longer()\n",
    "\n",
    "Used to reshape wide data to long format."
   ]
  },
  {
   "cell_type": "code",
   "execution_count": 10,
   "id": "g01bVi6QZoAO",
   "metadata": {
    "colab": {
     "base_uri": "https://localhost:8080/"
    },
    "id": "g01bVi6QZoAO",
    "outputId": "4f0facad-76f5-49f4-e2bf-6be8eff75126"
   },
   "outputs": [
    {
     "name": "stdout",
     "output_type": "stream",
     "text": [
      "  student math english\n",
      "1   Alice   90      88\n",
      "2     Bob   80      85\n",
      "3   Clara   85      91\n"
     ]
    }
   ],
   "source": [
    "%%R\n",
    "# Create wide format data\n",
    "scores <- data.frame(\n",
    "  student = c(\"Alice\", \"Bob\", \"Clara\"),\n",
    "  math = c(90, 80, 85),\n",
    "  english = c(88, 85, 91)\n",
    ")\n",
    "scores"
   ]
  },
  {
   "cell_type": "code",
   "execution_count": 11,
   "id": "iJghD4cyZ2ji",
   "metadata": {
    "colab": {
     "base_uri": "https://localhost:8080/"
    },
    "id": "iJghD4cyZ2ji",
    "outputId": "c14c474a-b07a-48ad-897b-d429016e162f"
   },
   "outputs": [
    {
     "name": "stdout",
     "output_type": "stream",
     "text": [
      "# A tibble: 6 × 3\n",
      "  student subject score\n",
      "  <chr>   <chr>   <dbl>\n",
      "1 Alice   math       90\n",
      "2 Alice   english    88\n",
      "3 Bob     math       80\n",
      "4 Bob     english    85\n",
      "5 Clara   math       85\n",
      "6 Clara   english    91\n"
     ]
    }
   ],
   "source": [
    "%%R\n",
    "# Convert to long format\n",
    "long_scores <- pivot_longer(scores,\n",
    "                            cols = c(math, english),\n",
    "                            names_to = \"subject\",\n",
    "                            values_to = \"score\")\n",
    "\n",
    "long_scores"
   ]
  },
  {
   "cell_type": "markdown",
   "id": "3A7sKaIlZoAO",
   "metadata": {
    "id": "3A7sKaIlZoAO"
   },
   "source": [
    "## 2. pivot_wider()\n",
    "\n",
    "Used to reshape long data back to wide format."
   ]
  },
  {
   "cell_type": "code",
   "execution_count": 12,
   "id": "KHmfUXAeZoAO",
   "metadata": {
    "colab": {
     "base_uri": "https://localhost:8080/"
    },
    "id": "KHmfUXAeZoAO",
    "outputId": "797881b8-5bec-407f-a2b5-cff044866979"
   },
   "outputs": [
    {
     "name": "stdout",
     "output_type": "stream",
     "text": [
      "# A tibble: 3 × 3\n",
      "  student  math english\n",
      "  <chr>   <dbl>   <dbl>\n",
      "1 Alice      90      88\n",
      "2 Bob        80      85\n",
      "3 Clara      85      91\n"
     ]
    }
   ],
   "source": [
    "%%R\n",
    "# Convert back to wide format\n",
    "wide_scores <- pivot_wider(long_scores,\n",
    "                           names_from = subject,\n",
    "                           values_from = score)\n",
    "\n",
    "wide_scores"
   ]
  },
  {
   "cell_type": "markdown",
   "id": "e9GZQRhkZoAP",
   "metadata": {
    "id": "e9GZQRhkZoAP"
   },
   "source": [
    "## 3. Separate and unite columns"
   ]
  },
  {
   "cell_type": "code",
   "execution_count": 13,
   "id": "o9btMsNuZoAP",
   "metadata": {
    "colab": {
     "base_uri": "https://localhost:8080/"
    },
    "id": "o9btMsNuZoAP",
    "outputId": "6af450fb-81f6-4f18-836f-6ead3c18a425"
   },
   "outputs": [
    {
     "name": "stdout",
     "output_type": "stream",
     "text": [
      "  first  last\n",
      "1  John   Doe\n",
      "2  Jane Smith\n"
     ]
    }
   ],
   "source": [
    "%%R\n",
    "# Separate columns\n",
    "data <- data.frame(name = c(\"John_Doe\", \"Jane_Smith\"))\n",
    "separated <- separate(data, name, into = c(\"first\", \"last\"), sep = \"_\")\n",
    "\n",
    "separated"
   ]
  },
  {
   "cell_type": "code",
   "execution_count": 14,
   "id": "xP5DE7h4aL68",
   "metadata": {
    "colab": {
     "base_uri": "https://localhost:8080/"
    },
    "id": "xP5DE7h4aL68",
    "outputId": "b1ed7238-c177-4220-8bf3-1f13eeac61a0"
   },
   "outputs": [
    {
     "name": "stdout",
     "output_type": "stream",
     "text": [
      "   full_name\n",
      "1   John Doe\n",
      "2 Jane Smith\n"
     ]
    }
   ],
   "source": [
    "%%R\n",
    "# Unite columns\n",
    "united <- unite(separated, full_name, first, last, sep = \" \")\n",
    "\n",
    "united"
   ]
  },
  {
   "cell_type": "markdown",
   "id": "MNK40rcXZoAQ",
   "metadata": {
    "id": "MNK40rcXZoAQ"
   },
   "source": [
    "## Summary\n",
    "\n",
    "| Function         | Purpose                         |\n",
    "|------------------|---------------------------------|\n",
    "| `pivot_longer()` | Wide → long format              |\n",
    "| `pivot_wider()`  | Long → wide format              |\n",
    "| `separate()`     | Split column into multiple      |\n",
    "| `unite()`        | Merge multiple columns into one |"
   ]
  }
 ],
 "metadata": {
  "colab": {
   "provenance": []
  },
  "kernelspec": {
   "display_name": "Python 3",
   "language": "python",
   "name": "python3"
  },
  "language_info": {
   "name": "python",
   "version": ""
  }
 },
 "nbformat": 4,
 "nbformat_minor": 5
}
