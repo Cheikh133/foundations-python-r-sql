{
 "cells": [
  {
   "cell_type": "markdown",
   "id": "755d5a25",
   "metadata": {
    "id": "755d5a25"
   },
   "source": [
    "# 05 – dplyr\n",
    "\n",
    "Core R concepts: data manipulation with `dplyr`.\n",
    "\n",
    "*Part of the [Foundations: Python, R & SQL](../README.md) repository.*"
   ]
  },
  {
   "cell_type": "code",
   "execution_count": 10,
   "id": "fbb96938",
   "metadata": {
    "colab": {
     "base_uri": "https://localhost:8080/"
    },
    "id": "fbb96938",
    "outputId": "96358a14-3b3c-4fef-8f57-eba186871d99"
   },
   "outputs": [
    {
     "name": "stdout",
     "output_type": "stream",
     "text": [
      "The rpy2.ipython extension is already loaded. To reload it, use:\n",
      "  %reload_ext rpy2.ipython\n"
     ]
    }
   ],
   "source": [
    "!pip install -q rpy2\n",
    "%load_ext rpy2.ipython"
   ]
  },
  {
   "cell_type": "code",
   "execution_count": 11,
   "id": "qxeTHLb8Xda5",
   "metadata": {
    "id": "qxeTHLb8Xda5"
   },
   "outputs": [],
   "source": [
    "%%R\n",
    "library(dplyr)"
   ]
  },
  {
   "cell_type": "markdown",
   "id": "67bee60b",
   "metadata": {
    "id": "67bee60b"
   },
   "source": [
    "## 1. Load dplyr and prepare data"
   ]
  },
  {
   "cell_type": "code",
   "execution_count": 12,
   "id": "377e3707",
   "metadata": {
    "colab": {
     "base_uri": "https://localhost:8080/"
    },
    "id": "377e3707",
    "outputId": "75a233fd-f2a7-4292-a3ac-fedd6906b147"
   },
   "outputs": [
    {
     "name": "stdout",
     "output_type": "stream",
     "text": [
      "   name age salary department\n",
      "1 Alice  25  40000         HR\n",
      "2   Bob  30  50000         IT\n",
      "3 Clara  28  45000         IT\n",
      "4 David  22  38000    Finance\n",
      "5   Eva  35  60000         HR\n"
     ]
    }
   ],
   "source": [
    "%%R\n",
    "# Sample data\n",
    "df <- data.frame(\n",
    "  name = c(\"Alice\", \"Bob\", \"Clara\", \"David\", \"Eva\"),\n",
    "  age = c(25, 30, 28, 22, 35),\n",
    "  salary = c(40000, 50000, 45000, 38000, 60000),\n",
    "  department = c(\"HR\", \"IT\", \"IT\", \"Finance\", \"HR\")\n",
    ")\n",
    "\n",
    "df"
   ]
  },
  {
   "cell_type": "markdown",
   "id": "c82712a8",
   "metadata": {
    "id": "c82712a8"
   },
   "source": [
    "## 2. Filter rows"
   ]
  },
  {
   "cell_type": "code",
   "execution_count": 13,
   "id": "e0f98d77",
   "metadata": {
    "colab": {
     "base_uri": "https://localhost:8080/"
    },
    "id": "e0f98d77",
    "outputId": "d57f1ab3-ee8b-4d04-d022-f692a2c01a61"
   },
   "outputs": [
    {
     "name": "stdout",
     "output_type": "stream",
     "text": [
      "  name age salary department\n",
      "1  Bob  30  50000         IT\n",
      "2  Eva  35  60000         HR\n"
     ]
    }
   ],
   "source": [
    "%%R\n",
    "# People older than 28\n",
    "filter(df, age > 28)"
   ]
  },
  {
   "cell_type": "markdown",
   "id": "77d03c84",
   "metadata": {
    "id": "77d03c84"
   },
   "source": [
    "## 3. Select columns"
   ]
  },
  {
   "cell_type": "code",
   "execution_count": 14,
   "id": "9e1b11e6",
   "metadata": {
    "colab": {
     "base_uri": "https://localhost:8080/"
    },
    "id": "9e1b11e6",
    "outputId": "e78e9014-e7ea-4f23-c975-36bf0940c4cf"
   },
   "outputs": [
    {
     "name": "stdout",
     "output_type": "stream",
     "text": [
      "   name salary\n",
      "1 Alice  40000\n",
      "2   Bob  50000\n",
      "3 Clara  45000\n",
      "4 David  38000\n",
      "5   Eva  60000\n"
     ]
    }
   ],
   "source": [
    "%%R\n",
    "# Select name and salary\n",
    "select(df, name, salary)"
   ]
  },
  {
   "cell_type": "markdown",
   "id": "4cc63bf4",
   "metadata": {
    "id": "4cc63bf4"
   },
   "source": [
    "## 4. Arrange rows"
   ]
  },
  {
   "cell_type": "code",
   "execution_count": 15,
   "id": "e3dd3f49",
   "metadata": {
    "colab": {
     "base_uri": "https://localhost:8080/"
    },
    "id": "e3dd3f49",
    "outputId": "4fd9d890-229a-43f0-ec21-5b3b3c4d3e53"
   },
   "outputs": [
    {
     "name": "stdout",
     "output_type": "stream",
     "text": [
      "   name age salary department\n",
      "1   Eva  35  60000         HR\n",
      "2   Bob  30  50000         IT\n",
      "3 Clara  28  45000         IT\n",
      "4 Alice  25  40000         HR\n",
      "5 David  22  38000    Finance\n"
     ]
    }
   ],
   "source": [
    "%%R\n",
    "# Sort by salary descending\n",
    "arrange(df, desc(salary))"
   ]
  },
  {
   "cell_type": "markdown",
   "id": "3ff42de7",
   "metadata": {
    "id": "3ff42de7"
   },
   "source": [
    "## 5. Mutate new columns"
   ]
  },
  {
   "cell_type": "code",
   "execution_count": 16,
   "id": "0a774332",
   "metadata": {
    "colab": {
     "base_uri": "https://localhost:8080/"
    },
    "id": "0a774332",
    "outputId": "dce1f269-f8f4-4f30-9901-d7be943802ef"
   },
   "outputs": [
    {
     "name": "stdout",
     "output_type": "stream",
     "text": [
      "   name age salary department salary_raised\n",
      "1 Alice  25  40000         HR         44000\n",
      "2   Bob  30  50000         IT         55000\n",
      "3 Clara  28  45000         IT         49500\n",
      "4 David  22  38000    Finance         41800\n",
      "5   Eva  35  60000         HR         66000\n"
     ]
    }
   ],
   "source": [
    "%%R\n",
    "# Add a 10% salary increase\n",
    "mutate(df, salary_raised = salary * 1.1)"
   ]
  },
  {
   "cell_type": "markdown",
   "id": "1e8cadc0",
   "metadata": {
    "id": "1e8cadc0"
   },
   "source": [
    "## 6. Summarize and group"
   ]
  },
  {
   "cell_type": "code",
   "execution_count": 17,
   "id": "8a2c7576",
   "metadata": {
    "colab": {
     "base_uri": "https://localhost:8080/"
    },
    "id": "8a2c7576",
    "outputId": "82de35e0-01da-4f71-dd6c-cf9104780236"
   },
   "outputs": [
    {
     "name": "stdout",
     "output_type": "stream",
     "text": [
      "# A tibble: 3 × 2\n",
      "  department avg_salary\n",
      "  <chr>           <dbl>\n",
      "1 Finance         38000\n",
      "2 HR              50000\n",
      "3 IT              47500\n"
     ]
    }
   ],
   "source": [
    "%%R\n",
    "# Average salary per department\n",
    "df %>%\n",
    "  group_by(department) %>%\n",
    "  summarize(avg_salary = mean(salary))"
   ]
  },
  {
   "cell_type": "markdown",
   "id": "bc375ac6",
   "metadata": {
    "id": "bc375ac6"
   },
   "source": [
    "## 7. Pipe chaining"
   ]
  },
  {
   "cell_type": "code",
   "execution_count": 18,
   "id": "fec28525",
   "metadata": {
    "colab": {
     "base_uri": "https://localhost:8080/"
    },
    "id": "fec28525",
    "outputId": "f28ffd76-373c-49ac-e9c3-e6f801c78a18"
   },
   "outputs": [
    {
     "name": "stdout",
     "output_type": "stream",
     "text": [
      "   name salary\n",
      "1 Clara  45000\n",
      "2   Bob  50000\n",
      "3   Eva  60000\n"
     ]
    }
   ],
   "source": [
    "%%R\n",
    "# Filter, select, and sort in one step\n",
    "df %>%\n",
    "  filter(age > 25) %>%\n",
    "  select(name, salary) %>%\n",
    "  arrange(salary)"
   ]
  },
  {
   "cell_type": "markdown",
   "id": "2043eb87",
   "metadata": {
    "id": "2043eb87"
   },
   "source": [
    "## Summary\n",
    "\n",
    "| Function   | Description                 |\n",
    "|------------|-----------------------------|\n",
    "| `filter()` | Filter rows by condition    |\n",
    "| `select()` | Select specific columns     |\n",
    "| `arrange()`| Sort rows                   |\n",
    "| `mutate()` | Add or transform columns    |\n",
    "| `summarize()` | Aggregate values         |\n",
    "| `group_by()` | Group rows for summary    |\n",
    "| Pipe `%>%` | Chain operations            |"
   ]
  }
 ],
 "metadata": {
  "colab": {
   "provenance": []
  },
  "kernelspec": {
   "display_name": "Python [conda env:base] *",
   "language": "python",
   "name": "conda-base-py"
  },
  "language_info": {
   "codemirror_mode": {
    "name": "ipython",
    "version": 3
   },
   "file_extension": ".py",
   "mimetype": "text/x-python",
   "name": "python",
   "nbconvert_exporter": "python",
   "pygments_lexer": "ipython3",
   "version": "3.12.7"
  }
 },
 "nbformat": 4,
 "nbformat_minor": 5
}
