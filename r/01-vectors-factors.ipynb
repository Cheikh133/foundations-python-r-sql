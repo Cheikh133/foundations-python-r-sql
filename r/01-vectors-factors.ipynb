{
 "cells": [
  {
   "cell_type": "markdown",
   "id": "612b3925",
   "metadata": {},
   "source": [
    "# 01 – Vectors and Factors\n",
    "\n",
    "Core R concepts: working with vectors, indexing, and categorical data using factors.\n",
    "\n",
    "*Part of the [Foundations: Python, R & SQL](../README.md) series.*"
   ]
  },
  {
   "cell_type": "markdown",
   "id": "cf2ac7ef",
   "metadata": {},
   "source": [
    "## 1. Vectors\n",
    "\n",
    "Vectors are basic 1D data structures in R. They can contain elements of the same type (numeric, character, logical, etc.)."
   ]
  },
  {
   "cell_type": "code",
   "execution_count": 1,
   "id": "7af53d74",
   "metadata": {},
   "outputs": [
    {
     "name": "stdout",
     "output_type": "stream",
     "text": [
      "[1] 22 36 31 29\n"
     ]
    },
    {
     "data": {
      "text/html": [
       "'Bob'"
      ],
      "text/latex": [
       "'Bob'"
      ],
      "text/markdown": [
       "'Bob'"
      ],
      "text/plain": [
       "[1] \"Bob\""
      ]
     },
     "metadata": {},
     "output_type": "display_data"
    }
   ],
   "source": [
    "# Create numeric and character vectors\n",
    "ages <- c(21, 35, 30, 28)\n",
    "names <- c(\"Alice\", \"Bob\", \"Clara\", \"David\")\n",
    "\n",
    "# Vector operations\n",
    "print(ages + 1)\n",
    "names[2]"
   ]
  },
  {
   "cell_type": "markdown",
   "id": "669ff8bf",
   "metadata": {},
   "source": [
    "### Vector Indexing\n",
    "\n",
    "You can index vectors by position or condition."
   ]
  },
  {
   "cell_type": "code",
   "execution_count": 2,
   "id": "d1055528",
   "metadata": {},
   "outputs": [
    {
     "data": {
      "text/html": [
       "21"
      ],
      "text/latex": [
       "21"
      ],
      "text/markdown": [
       "21"
      ],
      "text/plain": [
       "[1] 21"
      ]
     },
     "metadata": {},
     "output_type": "display_data"
    },
    {
     "data": {
      "text/html": [
       "<ol class=list-inline>\n",
       "\t<li>35</li>\n",
       "\t<li>30</li>\n",
       "</ol>\n"
      ],
      "text/latex": [
       "\\begin{enumerate*}\n",
       "\\item 35\n",
       "\\item 30\n",
       "\\end{enumerate*}\n"
      ],
      "text/markdown": [
       "1. 35\n",
       "2. 30\n",
       "\n",
       "\n"
      ],
      "text/plain": [
       "[1] 35 30"
      ]
     },
     "metadata": {},
     "output_type": "display_data"
    },
    {
     "data": {
      "text/html": [
       "35"
      ],
      "text/latex": [
       "35"
      ],
      "text/markdown": [
       "35"
      ],
      "text/plain": [
       "[1] 35"
      ]
     },
     "metadata": {},
     "output_type": "display_data"
    }
   ],
   "source": [
    "# Indexing by position\n",
    "ages[1]\n",
    "ages[2:3]\n",
    "\n",
    "# Logical indexing\n",
    "ages[ages > 30]"
   ]
  },
  {
   "cell_type": "markdown",
   "id": "ca42cddb",
   "metadata": {},
   "source": [
    "## 2. Factors\n",
    "\n",
    "Factors are used to represent categorical variables."
   ]
  },
  {
   "cell_type": "code",
   "execution_count": 3,
   "id": "e189c50f",
   "metadata": {},
   "outputs": [
    {
     "data": {
      "text/html": [
       "<ol class=list-inline>\n",
       "\t<li>'Female'</li>\n",
       "\t<li>'Male'</li>\n",
       "</ol>\n"
      ],
      "text/latex": [
       "\\begin{enumerate*}\n",
       "\\item 'Female'\n",
       "\\item 'Male'\n",
       "\\end{enumerate*}\n"
      ],
      "text/markdown": [
       "1. 'Female'\n",
       "2. 'Male'\n",
       "\n",
       "\n"
      ],
      "text/plain": [
       "[1] \"Female\" \"Male\"  "
      ]
     },
     "metadata": {},
     "output_type": "display_data"
    },
    {
     "data": {
      "text/plain": [
       "gender\n",
       "Female   Male \n",
       "     2      2 "
      ]
     },
     "metadata": {},
     "output_type": "display_data"
    }
   ],
   "source": [
    "# Create a factor\n",
    "gender <- factor(c(\"Male\", \"Female\", \"Female\", \"Male\"))\n",
    "\n",
    "# Levels of the factor\n",
    "levels(gender)\n",
    "\n",
    "# Count occurrences\n",
    "table(gender)"
   ]
  },
  {
   "cell_type": "markdown",
   "id": "cf92008c",
   "metadata": {},
   "source": [
    "### Ordered Factors\n",
    "\n",
    "Useful for ordered categories like grades or satisfaction levels."
   ]
  },
  {
   "cell_type": "code",
   "execution_count": 4,
   "id": "3849cde1",
   "metadata": {},
   "outputs": [
    {
     "data": {
      "text/html": [
       "<ol class=list-inline>\n",
       "\t<li>High</li>\n",
       "\t<li>Low</li>\n",
       "\t<li>Medium</li>\n",
       "\t<li>High</li>\n",
       "</ol>\n",
       "\n",
       "<details>\n",
       "\t<summary style=display:list-item;cursor:pointer>\n",
       "\t\t<strong>Levels</strong>:\n",
       "\t</summary>\n",
       "\t<ol class=list-inline>\n",
       "\t\t<li>'Low'</li>\n",
       "\t\t<li>'Medium'</li>\n",
       "\t\t<li>'High'</li>\n",
       "\t</ol>\n",
       "</details>"
      ],
      "text/latex": [
       "\\begin{enumerate*}\n",
       "\\item High\n",
       "\\item Low\n",
       "\\item Medium\n",
       "\\item High\n",
       "\\end{enumerate*}\n",
       "\n",
       "\\emph{Levels}: \\begin{enumerate*}\n",
       "\\item 'Low'\n",
       "\\item 'Medium'\n",
       "\\item 'High'\n",
       "\\end{enumerate*}\n"
      ],
      "text/markdown": [
       "1. High\n",
       "2. Low\n",
       "3. Medium\n",
       "4. High\n",
       "\n",
       "\n",
       "\n",
       "**Levels**: 1. 'Low'\n",
       "2. 'Medium'\n",
       "3. 'High'\n",
       "\n",
       "\n"
      ],
      "text/plain": [
       "[1] High   Low    Medium High  \n",
       "Levels: Low < Medium < High"
      ]
     },
     "metadata": {},
     "output_type": "display_data"
    },
    {
     "data": {
      "text/html": [
       "TRUE"
      ],
      "text/latex": [
       "TRUE"
      ],
      "text/markdown": [
       "TRUE"
      ],
      "text/plain": [
       "[1] TRUE"
      ]
     },
     "metadata": {},
     "output_type": "display_data"
    }
   ],
   "source": [
    "# Create an ordered factor for satisfaction levels\n",
    "satisfaction <- factor(\n",
    "  c(\"High\", \"Low\", \"Medium\", \"High\"),\n",
    "  levels = c(\"Low\", \"Medium\", \"High\"),  # Custom order\n",
    "  ordered = TRUE\n",
    ")\n",
    "\n",
    "# Display the factor\n",
    "satisfaction\n",
    "\n",
    "# Compare levels\n",
    "satisfaction[1] > satisfaction[2]"
   ]
  },
  {
   "cell_type": "markdown",
   "id": "5795eca5",
   "metadata": {},
   "source": [
    "## Summary\n",
    "\n",
    "| Concept   | Description |\n",
    "|-----------|-------------|\n",
    "| Vector    | 1D structure, same type values |\n",
    "| Indexing  | Access elements by position or condition |\n",
    "| Factor    | Categorical variable with levels |\n",
    "| Ordered Factor | Factor with a meaningful order |"
   ]
  }
 ],
 "metadata": {
  "kernelspec": {
   "display_name": "R",
   "language": "R",
   "name": "ir"
  },
  "language_info": {
   "codemirror_mode": "r",
   "file_extension": ".r",
   "mimetype": "text/x-r-source",
   "name": "R",
   "pygments_lexer": "r",
   "version": "3.6.1"
  }
 },
 "nbformat": 4,
 "nbformat_minor": 5
}
