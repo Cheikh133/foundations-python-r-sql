{
  "cells": [
    {
      "cell_type": "markdown",
      "metadata": {
        "id": "tsX3WfcPwcKg"
      },
      "source": [
        "# 10 – Mini Project\n",
        "\n",
        "**Applied example combining key concepts from previous lessons.**\n",
        "\n",
        "*Part of the [Foundations: Python, R & SQL](../README.md) repository.*\n",
        "\n",
        "---"
      ],
      "id": "tsX3WfcPwcKg"
    },
    {
      "cell_type": "markdown",
      "metadata": {
        "id": "cnCwc29LwcKj"
      },
      "source": [
        "## Objective\n",
        "\n",
        "We will analyze a small dataset simulating employee records. The goal is to:\n",
        "- Clean and transform the data using **dplyr**\n",
        "- Summarize and visualize using **ggplot2**\n",
        "- Practice string and date operations"
      ],
      "id": "cnCwc29LwcKj"
    },
    {
      "cell_type": "code",
      "source": [
        "!pip install -q rpy2\n",
        "%load_ext rpy2.ipython"
      ],
      "metadata": {
        "colab": {
          "base_uri": "https://localhost:8080/"
        },
        "id": "QhsNJZPZwvaL",
        "outputId": "9c233be5-36ad-4e3a-9548-c8780ded9466"
      },
      "id": "QhsNJZPZwvaL",
      "execution_count": 16,
      "outputs": [
        {
          "output_type": "stream",
          "name": "stdout",
          "text": [
            "The rpy2.ipython extension is already loaded. To reload it, use:\n",
            "  %reload_ext rpy2.ipython\n"
          ]
        }
      ]
    },
    {
      "cell_type": "code",
      "execution_count": 17,
      "metadata": {
        "tags": [
          "setup"
        ],
        "id": "5wFpZnCJwcKl"
      },
      "outputs": [],
      "source": [
        "%%R\n",
        "# Load necessary packages\n",
        "library(dplyr)\n",
        "library(ggplot2)\n",
        "library(lubridate)\n",
        "library(stringr)"
      ],
      "id": "5wFpZnCJwcKl"
    },
    {
      "cell_type": "code",
      "source": [
        "%%R\n",
        "# Sample data frame\n",
        "employees <- data.frame(\n",
        "  name = c(\"Alice Smith\", \"Bob Johnson\", \"Carla Gomez\", \"David Lee\", \"Eva Zhang\",\"Cheikh LO\"),\n",
        "  department = c(\"HR\", \"IT\", \"Finance\", \"IT\", \"HR\",\"Finance\"),\n",
        "  start_date = as.Date(c(\"2022-01-15\", \"2021-06-10\", \"2023-03-01\", \"2022-07-20\", \"2020-09-05\",\"2022-03-01\")),\n",
        "  salary = c(42000, 55000, 49000, 47000, 60000,70000),\n",
        "  stringsAsFactors = FALSE\n",
        ")\n",
        "\n",
        "employees"
      ],
      "metadata": {
        "colab": {
          "base_uri": "https://localhost:8080/"
        },
        "id": "70THtef8xpES",
        "outputId": "3e9b7e3f-9b60-4123-e3fb-8054ed6e5820"
      },
      "id": "70THtef8xpES",
      "execution_count": 18,
      "outputs": [
        {
          "output_type": "stream",
          "name": "stdout",
          "text": [
            "         name department start_date salary\n",
            "1 Alice Smith         HR 2022-01-15  42000\n",
            "2 Bob Johnson         IT 2021-06-10  55000\n",
            "3 Carla Gomez    Finance 2023-03-01  49000\n",
            "4   David Lee         IT 2022-07-20  47000\n",
            "5   Eva Zhang         HR 2020-09-05  60000\n",
            "6   Cheikh LO    Finance 2022-03-01  70000\n"
          ]
        }
      ]
    },
    {
      "cell_type": "markdown",
      "metadata": {
        "id": "e_7ftdNUwcKn"
      },
      "source": [
        "## 1. Clean and Prepare\n",
        "- Add name initials\n",
        "- Calculate tenure in months"
      ],
      "id": "e_7ftdNUwcKn"
    },
    {
      "cell_type": "code",
      "execution_count": 19,
      "metadata": {
        "colab": {
          "base_uri": "https://localhost:8080/"
        },
        "id": "PgWrrnOvwcKn",
        "outputId": "c877e53d-7738-4bea-fcd3-bfcbfd985bfb"
      },
      "outputs": [
        {
          "output_type": "stream",
          "name": "stdout",
          "text": [
            "         name department start_date salary initials tenure_months\n",
            "1 Alice Smith         HR 2022-01-15  42000        A            40\n",
            "2 Bob Johnson         IT 2021-06-10  55000        B            48\n",
            "3 Carla Gomez    Finance 2023-03-01  49000        C            27\n",
            "4   David Lee         IT 2022-07-20  47000        D            34\n",
            "5   Eva Zhang         HR 2020-09-05  60000        E            57\n",
            "6   Cheikh LO    Finance 2022-03-01  70000        C            39\n"
          ]
        }
      ],
      "source": [
        "%%R\n",
        "employees <- employees %>%\n",
        "  mutate(\n",
        "    initials = str_extract(name, \"[A-Z]\"),\n",
        "    tenure_months = interval(start_date, Sys.Date()) %/% months(1)\n",
        "  )\n",
        "\n",
        "head(employees)"
      ],
      "id": "PgWrrnOvwcKn"
    },
    {
      "cell_type": "markdown",
      "metadata": {
        "id": "AXjlQrSBwcKo"
      },
      "source": [
        "## 2. Summary Statistics by Department"
      ],
      "id": "AXjlQrSBwcKo"
    },
    {
      "cell_type": "code",
      "execution_count": 20,
      "metadata": {
        "colab": {
          "base_uri": "https://localhost:8080/"
        },
        "id": "JUbWWOfVwcKo",
        "outputId": "125d01f1-4ce2-4397-c542-cdcd81385cad"
      },
      "outputs": [
        {
          "output_type": "stream",
          "name": "stdout",
          "text": [
            "# A tibble: 3 × 3\n",
            "  department avg_salary median_tenure\n",
            "  <chr>           <dbl>         <dbl>\n",
            "1 Finance         59500          33  \n",
            "2 HR              51000          48.5\n",
            "3 IT              51000          41  \n"
          ]
        }
      ],
      "source": [
        "%%R\n",
        "employees %>%\n",
        "  group_by(department) %>%\n",
        "  summarise(\n",
        "    avg_salary = mean(salary),\n",
        "    median_tenure = median(tenure_months)\n",
        "  )"
      ],
      "id": "JUbWWOfVwcKo"
    },
    {
      "cell_type": "markdown",
      "metadata": {
        "id": "O1WaSvwjwcKo"
      },
      "source": [
        "## 3. Visualization\n",
        "Compare salaries across departments."
      ],
      "id": "O1WaSvwjwcKo"
    },
    {
      "cell_type": "code",
      "execution_count": 21,
      "metadata": {
        "colab": {
          "base_uri": "https://localhost:8080/",
          "height": 497
        },
        "id": "qu6vqdlowcKp",
        "outputId": "3d1882ef-65f8-46f2-d99c-1117ae2742f5"
      },
      "outputs": [
        {
          "output_type": "display_data",
          "data": {
            "image/png": "[encoded data removed]",
            "text/plain": [
              "<IPython.core.display.Image object>"
            ]
          },
          "metadata": {}
        }
      ],
      "source": [
        "%%R\n",
        "ggplot(employees, aes(x = department, y = salary, fill = department)) +\n",
        "  geom_boxplot() +\n",
        "  labs(title = \"Salary Distribution by Department\", y = \"Salary\") +\n",
        "  theme_minimal()"
      ],
      "id": "qu6vqdlowcKp"
    },
    {
      "cell_type": "markdown",
      "metadata": {
        "id": "AkFma68dwcKp"
      },
      "source": [
        "## Summary\n",
        "\n",
        "- Used `dplyr` for data manipulation and summary\n",
        "- Applied `stringr` and `lubridate` for string and date handling\n",
        "- Visualized salary patterns with `ggplot2`"
      ],
      "id": "AkFma68dwcKp"
    }
  ],
  "metadata": {
    "kernelspec": {
      "display_name": "Python 3",
      "language": "python",
      "name": "python3"
    },
    "language_info": {
      "name": "python"
    },
    "colab": {
      "provenance": [],
      "toc_visible": true
    }
  },
  "nbformat": 4,
  "nbformat_minor": 5
}