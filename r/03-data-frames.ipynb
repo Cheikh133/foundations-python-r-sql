{
 "cells": [
  {
   "cell_type": "markdown",
   "id": "11fed34c",
   "metadata": {},
   "source": [
    "# 03 – Data Frames\n",
    "\n",
    "Core R concepts: working with tabular data using data frames.\n",
    "\n",
    "*Part of the [Foundations: Python, R & SQL](../README.md) series.*"
   ]
  },
  {
   "cell_type": "markdown",
   "id": "96d766f8",
   "metadata": {},
   "source": [
    "## 1. Creating a Data Frame\n",
    "\n",
    "Use `data.frame()` to create tabular data."
   ]
  },
  {
   "cell_type": "code",
   "execution_count": 1,
   "id": "bfd42919",
   "metadata": {},
   "outputs": [
    {
     "data": {
      "text/html": [
       "<table>\n",
       "<thead><tr><th scope=col>name</th><th scope=col>age</th><th scope=col>salary</th></tr></thead>\n",
       "<tbody>\n",
       "\t<tr><td>Alice  </td><td>25     </td><td>50000  </td></tr>\n",
       "\t<tr><td>Bob    </td><td>30     </td><td>60000  </td></tr>\n",
       "\t<tr><td>Charlie</td><td>22     </td><td>45000  </td></tr>\n",
       "</tbody>\n",
       "</table>\n"
      ],
      "text/latex": [
       "\\begin{tabular}{r|lll}\n",
       " name & age & salary\\\\\n",
       "\\hline\n",
       "\t Alice   & 25      & 50000  \\\\\n",
       "\t Bob     & 30      & 60000  \\\\\n",
       "\t Charlie & 22      & 45000  \\\\\n",
       "\\end{tabular}\n"
      ],
      "text/markdown": [
       "\n",
       "| name | age | salary |\n",
       "|---|---|---|\n",
       "| Alice   | 25      | 50000   |\n",
       "| Bob     | 30      | 60000   |\n",
       "| Charlie | 22      | 45000   |\n",
       "\n"
      ],
      "text/plain": [
       "  name    age salary\n",
       "1 Alice   25  50000 \n",
       "2 Bob     30  60000 \n",
       "3 Charlie 22  45000 "
      ]
     },
     "metadata": {},
     "output_type": "display_data"
    }
   ],
   "source": [
    "# Create a data frame\n",
    "df <- data.frame(\n",
    "  name = c(\"Alice\", \"Bob\", \"Charlie\"),\n",
    "  age = c(25, 30, 22),\n",
    "  salary = c(50000, 60000, 45000)\n",
    ")\n",
    "df"
   ]
  },
  {
   "cell_type": "markdown",
   "id": "122ee2c3",
   "metadata": {},
   "source": [
    "## 2. Inspecting a Data Frame"
   ]
  },
  {
   "cell_type": "code",
   "execution_count": 2,
   "id": "5c0145db",
   "metadata": {},
   "outputs": [
    {
     "data": {
      "text/html": [
       "<table>\n",
       "<thead><tr><th scope=col>name</th><th scope=col>age</th><th scope=col>salary</th></tr></thead>\n",
       "<tbody>\n",
       "\t<tr><td>Alice  </td><td>25     </td><td>50000  </td></tr>\n",
       "\t<tr><td>Bob    </td><td>30     </td><td>60000  </td></tr>\n",
       "\t<tr><td>Charlie</td><td>22     </td><td>45000  </td></tr>\n",
       "</tbody>\n",
       "</table>\n"
      ],
      "text/latex": [
       "\\begin{tabular}{r|lll}\n",
       " name & age & salary\\\\\n",
       "\\hline\n",
       "\t Alice   & 25      & 50000  \\\\\n",
       "\t Bob     & 30      & 60000  \\\\\n",
       "\t Charlie & 22      & 45000  \\\\\n",
       "\\end{tabular}\n"
      ],
      "text/markdown": [
       "\n",
       "| name | age | salary |\n",
       "|---|---|---|\n",
       "| Alice   | 25      | 50000   |\n",
       "| Bob     | 30      | 60000   |\n",
       "| Charlie | 22      | 45000   |\n",
       "\n"
      ],
      "text/plain": [
       "  name    age salary\n",
       "1 Alice   25  50000 \n",
       "2 Bob     30  60000 \n",
       "3 Charlie 22  45000 "
      ]
     },
     "metadata": {},
     "output_type": "display_data"
    }
   ],
   "source": [
    "head(df)"
   ]
  },
  {
   "cell_type": "code",
   "execution_count": 3,
   "id": "007cffd6-f34a-48e8-9a13-7840f292fff6",
   "metadata": {},
   "outputs": [
    {
     "name": "stdout",
     "output_type": "stream",
     "text": [
      "'data.frame':\t3 obs. of  3 variables:\n",
      " $ name  : Factor w/ 3 levels \"Alice\",\"Bob\",..: 1 2 3\n",
      " $ age   : num  25 30 22\n",
      " $ salary: num  50000 60000 45000\n"
     ]
    }
   ],
   "source": [
    "str(df)"
   ]
  },
  {
   "cell_type": "code",
   "execution_count": 4,
   "id": "f3504f2e-a233-4c6c-92c5-8e75e513f6d2",
   "metadata": {},
   "outputs": [
    {
     "data": {
      "text/plain": [
       "      name        age            salary     \n",
       " Alice  :1   Min.   :22.00   Min.   :45000  \n",
       " Bob    :1   1st Qu.:23.50   1st Qu.:47500  \n",
       " Charlie:1   Median :25.00   Median :50000  \n",
       "             Mean   :25.67   Mean   :51667  \n",
       "             3rd Qu.:27.50   3rd Qu.:55000  \n",
       "             Max.   :30.00   Max.   :60000  "
      ]
     },
     "metadata": {},
     "output_type": "display_data"
    }
   ],
   "source": [
    "summary(df)"
   ]
  },
  {
   "cell_type": "code",
   "execution_count": 5,
   "id": "881cb6aa-be63-482b-b7f6-29f7ade42d80",
   "metadata": {},
   "outputs": [
    {
     "data": {
      "text/html": [
       "3"
      ],
      "text/latex": [
       "3"
      ],
      "text/markdown": [
       "3"
      ],
      "text/plain": [
       "[1] 3"
      ]
     },
     "metadata": {},
     "output_type": "display_data"
    }
   ],
   "source": [
    "nrow(df)"
   ]
  },
  {
   "cell_type": "code",
   "execution_count": 6,
   "id": "4ade40d1-e2fb-4c4d-abf2-469b9c80f661",
   "metadata": {},
   "outputs": [
    {
     "data": {
      "text/html": [
       "3"
      ],
      "text/latex": [
       "3"
      ],
      "text/markdown": [
       "3"
      ],
      "text/plain": [
       "[1] 3"
      ]
     },
     "metadata": {},
     "output_type": "display_data"
    }
   ],
   "source": [
    "ncol(df)"
   ]
  },
  {
   "cell_type": "code",
   "execution_count": 7,
   "id": "8c2b16b3-1dde-47ca-aa41-4d3d7a1e98d5",
   "metadata": {},
   "outputs": [
    {
     "data": {
      "text/html": [
       "<ol class=list-inline>\n",
       "\t<li>'name'</li>\n",
       "\t<li>'age'</li>\n",
       "\t<li>'salary'</li>\n",
       "</ol>\n"
      ],
      "text/latex": [
       "\\begin{enumerate*}\n",
       "\\item 'name'\n",
       "\\item 'age'\n",
       "\\item 'salary'\n",
       "\\end{enumerate*}\n"
      ],
      "text/markdown": [
       "1. 'name'\n",
       "2. 'age'\n",
       "3. 'salary'\n",
       "\n",
       "\n"
      ],
      "text/plain": [
       "[1] \"name\"   \"age\"    \"salary\""
      ]
     },
     "metadata": {},
     "output_type": "display_data"
    }
   ],
   "source": [
    "colnames(df)"
   ]
  },
  {
   "cell_type": "markdown",
   "id": "88b81db5",
   "metadata": {},
   "source": [
    "## 3. Accessing Data"
   ]
  },
  {
   "cell_type": "code",
   "execution_count": 8,
   "id": "6f0860bd",
   "metadata": {},
   "outputs": [
    {
     "data": {
      "text/html": [
       "<ol class=list-inline>\n",
       "\t<li>Alice</li>\n",
       "\t<li>Bob</li>\n",
       "\t<li>Charlie</li>\n",
       "</ol>\n",
       "\n",
       "<details>\n",
       "\t<summary style=display:list-item;cursor:pointer>\n",
       "\t\t<strong>Levels</strong>:\n",
       "\t</summary>\n",
       "\t<ol class=list-inline>\n",
       "\t\t<li>'Alice'</li>\n",
       "\t\t<li>'Bob'</li>\n",
       "\t\t<li>'Charlie'</li>\n",
       "\t</ol>\n",
       "</details>"
      ],
      "text/latex": [
       "\\begin{enumerate*}\n",
       "\\item Alice\n",
       "\\item Bob\n",
       "\\item Charlie\n",
       "\\end{enumerate*}\n",
       "\n",
       "\\emph{Levels}: \\begin{enumerate*}\n",
       "\\item 'Alice'\n",
       "\\item 'Bob'\n",
       "\\item 'Charlie'\n",
       "\\end{enumerate*}\n"
      ],
      "text/markdown": [
       "1. Alice\n",
       "2. Bob\n",
       "3. Charlie\n",
       "\n",
       "\n",
       "\n",
       "**Levels**: 1. 'Alice'\n",
       "2. 'Bob'\n",
       "3. 'Charlie'\n",
       "\n",
       "\n"
      ],
      "text/plain": [
       "[1] Alice   Bob     Charlie\n",
       "Levels: Alice Bob Charlie"
      ]
     },
     "metadata": {},
     "output_type": "display_data"
    }
   ],
   "source": [
    "# Column by name\n",
    "df$name              "
   ]
  },
  {
   "cell_type": "code",
   "execution_count": 9,
   "id": "6612a378-2f8c-476f-8524-7530310eb200",
   "metadata": {},
   "outputs": [
    {
     "data": {
      "text/html": [
       "<ol class=list-inline>\n",
       "\t<li>25</li>\n",
       "\t<li>30</li>\n",
       "\t<li>22</li>\n",
       "</ol>\n"
      ],
      "text/latex": [
       "\\begin{enumerate*}\n",
       "\\item 25\n",
       "\\item 30\n",
       "\\item 22\n",
       "\\end{enumerate*}\n"
      ],
      "text/markdown": [
       "1. 25\n",
       "2. 30\n",
       "3. 22\n",
       "\n",
       "\n"
      ],
      "text/plain": [
       "[1] 25 30 22"
      ]
     },
     "metadata": {},
     "output_type": "display_data"
    }
   ],
   "source": [
    "# Column by name (alternative)\n",
    "df[[\"age\"]]          "
   ]
  },
  {
   "cell_type": "code",
   "execution_count": 10,
   "id": "2892f226-dbdf-452b-98ee-2e5bb439512b",
   "metadata": {},
   "outputs": [
    {
     "data": {
      "text/html": [
       "<table>\n",
       "<thead><tr><th scope=col>name</th><th scope=col>age</th><th scope=col>salary</th></tr></thead>\n",
       "<tbody>\n",
       "\t<tr><td>Alice</td><td>25   </td><td>50000</td></tr>\n",
       "</tbody>\n",
       "</table>\n"
      ],
      "text/latex": [
       "\\begin{tabular}{r|lll}\n",
       " name & age & salary\\\\\n",
       "\\hline\n",
       "\t Alice & 25    & 50000\\\\\n",
       "\\end{tabular}\n"
      ],
      "text/markdown": [
       "\n",
       "| name | age | salary |\n",
       "|---|---|---|\n",
       "| Alice | 25    | 50000 |\n",
       "\n"
      ],
      "text/plain": [
       "  name  age salary\n",
       "1 Alice 25  50000 "
      ]
     },
     "metadata": {},
     "output_type": "display_data"
    }
   ],
   "source": [
    "# First row\n",
    "df[1, ]              "
   ]
  },
  {
   "cell_type": "code",
   "execution_count": 11,
   "id": "bf657054-cd1b-4972-a645-49e7389d8517",
   "metadata": {},
   "outputs": [
    {
     "data": {
      "text/html": [
       "<ol class=list-inline>\n",
       "\t<li>50000</li>\n",
       "\t<li>60000</li>\n",
       "\t<li>45000</li>\n",
       "</ol>\n"
      ],
      "text/latex": [
       "\\begin{enumerate*}\n",
       "\\item 50000\n",
       "\\item 60000\n",
       "\\item 45000\n",
       "\\end{enumerate*}\n"
      ],
      "text/markdown": [
       "1. 50000\n",
       "2. 60000\n",
       "3. 45000\n",
       "\n",
       "\n"
      ],
      "text/plain": [
       "[1] 50000 60000 45000"
      ]
     },
     "metadata": {},
     "output_type": "display_data"
    }
   ],
   "source": [
    "# Column by name\n",
    "df[, \"salary\"]       "
   ]
  },
  {
   "cell_type": "code",
   "execution_count": 12,
   "id": "f17aa2e9-7572-42b3-a77d-2d6f3e9b8541",
   "metadata": {},
   "outputs": [
    {
     "data": {
      "text/html": [
       "<table>\n",
       "<thead><tr><th scope=col>name</th><th scope=col>salary</th></tr></thead>\n",
       "<tbody>\n",
       "\t<tr><td>Alice</td><td>50000</td></tr>\n",
       "\t<tr><td>Bob  </td><td>60000</td></tr>\n",
       "</tbody>\n",
       "</table>\n"
      ],
      "text/latex": [
       "\\begin{tabular}{r|ll}\n",
       " name & salary\\\\\n",
       "\\hline\n",
       "\t Alice & 50000\\\\\n",
       "\t Bob   & 60000\\\\\n",
       "\\end{tabular}\n"
      ],
      "text/markdown": [
       "\n",
       "| name | salary |\n",
       "|---|---|\n",
       "| Alice | 50000 |\n",
       "| Bob   | 60000 |\n",
       "\n"
      ],
      "text/plain": [
       "  name  salary\n",
       "1 Alice 50000 \n",
       "2 Bob   60000 "
      ]
     },
     "metadata": {},
     "output_type": "display_data"
    }
   ],
   "source": [
    "# Subset by row and column\n",
    "df[1:2, c(\"name\", \"salary\")]  "
   ]
  },
  {
   "cell_type": "markdown",
   "id": "de2841e7",
   "metadata": {},
   "source": [
    "## 4. Filtering Rows"
   ]
  },
  {
   "cell_type": "code",
   "execution_count": 13,
   "id": "c29f2841",
   "metadata": {},
   "outputs": [
    {
     "data": {
      "text/html": [
       "<table>\n",
       "<thead><tr><th scope=col>name</th><th scope=col>age</th><th scope=col>salary</th></tr></thead>\n",
       "<tbody>\n",
       "\t<tr><td>Alice</td><td>25   </td><td>50000</td></tr>\n",
       "\t<tr><td>Bob  </td><td>30   </td><td>60000</td></tr>\n",
       "</tbody>\n",
       "</table>\n"
      ],
      "text/latex": [
       "\\begin{tabular}{r|lll}\n",
       " name & age & salary\\\\\n",
       "\\hline\n",
       "\t Alice & 25    & 50000\\\\\n",
       "\t Bob   & 30    & 60000\\\\\n",
       "\\end{tabular}\n"
      ],
      "text/markdown": [
       "\n",
       "| name | age | salary |\n",
       "|---|---|---|\n",
       "| Alice | 25    | 50000 |\n",
       "| Bob   | 30    | 60000 |\n",
       "\n"
      ],
      "text/plain": [
       "  name  age salary\n",
       "1 Alice 25  50000 \n",
       "2 Bob   30  60000 "
      ]
     },
     "metadata": {},
     "output_type": "display_data"
    },
    {
     "data": {
      "text/html": [
       "<table>\n",
       "<thead><tr><th scope=col>name</th><th scope=col>age</th><th scope=col>salary</th></tr></thead>\n",
       "<tbody>\n",
       "\t<tr><td>Alice</td><td>25   </td><td>50000</td></tr>\n",
       "</tbody>\n",
       "</table>\n"
      ],
      "text/latex": [
       "\\begin{tabular}{r|lll}\n",
       " name & age & salary\\\\\n",
       "\\hline\n",
       "\t Alice & 25    & 50000\\\\\n",
       "\\end{tabular}\n"
      ],
      "text/markdown": [
       "\n",
       "| name | age | salary |\n",
       "|---|---|---|\n",
       "| Alice | 25    | 50000 |\n",
       "\n"
      ],
      "text/plain": [
       "  name  age salary\n",
       "1 Alice 25  50000 "
      ]
     },
     "metadata": {},
     "output_type": "display_data"
    }
   ],
   "source": [
    "# Filter with logical conditions\n",
    "df[df$age > 24, ]\n",
    "df[df$salary >= 50000 & df$age < 30, ]"
   ]
  },
  {
   "cell_type": "markdown",
   "id": "eadded53",
   "metadata": {},
   "source": [
    "## 5. Adding and Removing Columns"
   ]
  },
  {
   "cell_type": "code",
   "execution_count": 14,
   "id": "7c7018ec",
   "metadata": {},
   "outputs": [
    {
     "data": {
      "text/html": [
       "<table>\n",
       "<thead><tr><th scope=col>name</th><th scope=col>age</th><th scope=col>salary</th><th scope=col>senior</th></tr></thead>\n",
       "<tbody>\n",
       "\t<tr><td>Alice  </td><td>25     </td><td>50000  </td><td>FALSE  </td></tr>\n",
       "\t<tr><td>Bob    </td><td>30     </td><td>60000  </td><td> TRUE  </td></tr>\n",
       "\t<tr><td>Charlie</td><td>22     </td><td>45000  </td><td>FALSE  </td></tr>\n",
       "</tbody>\n",
       "</table>\n"
      ],
      "text/latex": [
       "\\begin{tabular}{r|llll}\n",
       " name & age & salary & senior\\\\\n",
       "\\hline\n",
       "\t Alice   & 25      & 50000   & FALSE  \\\\\n",
       "\t Bob     & 30      & 60000   &  TRUE  \\\\\n",
       "\t Charlie & 22      & 45000   & FALSE  \\\\\n",
       "\\end{tabular}\n"
      ],
      "text/markdown": [
       "\n",
       "| name | age | salary | senior |\n",
       "|---|---|---|---|\n",
       "| Alice   | 25      | 50000   | FALSE   |\n",
       "| Bob     | 30      | 60000   |  TRUE   |\n",
       "| Charlie | 22      | 45000   | FALSE   |\n",
       "\n"
      ],
      "text/plain": [
       "  name    age salary senior\n",
       "1 Alice   25  50000  FALSE \n",
       "2 Bob     30  60000   TRUE \n",
       "3 Charlie 22  45000  FALSE "
      ]
     },
     "metadata": {},
     "output_type": "display_data"
    }
   ],
   "source": [
    "# Add new column\n",
    "df$senior = df$age > 28\n",
    "df"
   ]
  },
  {
   "cell_type": "code",
   "execution_count": 15,
   "id": "def8cbe7-072d-4cc6-b321-be8d5946e3b2",
   "metadata": {},
   "outputs": [
    {
     "data": {
      "text/html": [
       "<table>\n",
       "<thead><tr><th scope=col>name</th><th scope=col>age</th><th scope=col>salary</th></tr></thead>\n",
       "<tbody>\n",
       "\t<tr><td>Alice  </td><td>25     </td><td>50000  </td></tr>\n",
       "\t<tr><td>Bob    </td><td>30     </td><td>60000  </td></tr>\n",
       "\t<tr><td>Charlie</td><td>22     </td><td>45000  </td></tr>\n",
       "</tbody>\n",
       "</table>\n"
      ],
      "text/latex": [
       "\\begin{tabular}{r|lll}\n",
       " name & age & salary\\\\\n",
       "\\hline\n",
       "\t Alice   & 25      & 50000  \\\\\n",
       "\t Bob     & 30      & 60000  \\\\\n",
       "\t Charlie & 22      & 45000  \\\\\n",
       "\\end{tabular}\n"
      ],
      "text/markdown": [
       "\n",
       "| name | age | salary |\n",
       "|---|---|---|\n",
       "| Alice   | 25      | 50000   |\n",
       "| Bob     | 30      | 60000   |\n",
       "| Charlie | 22      | 45000   |\n",
       "\n"
      ],
      "text/plain": [
       "  name    age salary\n",
       "1 Alice   25  50000 \n",
       "2 Bob     30  60000 \n",
       "3 Charlie 22  45000 "
      ]
     },
     "metadata": {},
     "output_type": "display_data"
    }
   ],
   "source": [
    "# Remove a column\n",
    "df$senior = NULL\n",
    "df"
   ]
  },
  {
   "cell_type": "markdown",
   "id": "c85df372",
   "metadata": {},
   "source": [
    "## 6. Sorting Data"
   ]
  },
  {
   "cell_type": "code",
   "execution_count": 16,
   "id": "bc21c0a9",
   "metadata": {},
   "outputs": [
    {
     "data": {
      "text/html": [
       "<table>\n",
       "<thead><tr><th></th><th scope=col>name</th><th scope=col>age</th><th scope=col>salary</th></tr></thead>\n",
       "<tbody>\n",
       "\t<tr><th scope=row>3</th><td>Charlie</td><td>22     </td><td>45000  </td></tr>\n",
       "\t<tr><th scope=row>1</th><td>Alice  </td><td>25     </td><td>50000  </td></tr>\n",
       "\t<tr><th scope=row>2</th><td>Bob    </td><td>30     </td><td>60000  </td></tr>\n",
       "</tbody>\n",
       "</table>\n"
      ],
      "text/latex": [
       "\\begin{tabular}{r|lll}\n",
       "  & name & age & salary\\\\\n",
       "\\hline\n",
       "\t3 & Charlie & 22      & 45000  \\\\\n",
       "\t1 & Alice   & 25      & 50000  \\\\\n",
       "\t2 & Bob     & 30      & 60000  \\\\\n",
       "\\end{tabular}\n"
      ],
      "text/markdown": [
       "\n",
       "| <!--/--> | name | age | salary |\n",
       "|---|---|---|---|\n",
       "| 3 | Charlie | 22      | 45000   |\n",
       "| 1 | Alice   | 25      | 50000   |\n",
       "| 2 | Bob     | 30      | 60000   |\n",
       "\n"
      ],
      "text/plain": [
       "  name    age salary\n",
       "3 Charlie 22  45000 \n",
       "1 Alice   25  50000 \n",
       "2 Bob     30  60000 "
      ]
     },
     "metadata": {},
     "output_type": "display_data"
    }
   ],
   "source": [
    "# Order by salary (ascending)\n",
    "df[order(df$salary), ]"
   ]
  },
  {
   "cell_type": "code",
   "execution_count": 17,
   "id": "c031cc58-84b0-4876-bafc-e16d39f49c2f",
   "metadata": {},
   "outputs": [
    {
     "data": {
      "text/html": [
       "<table>\n",
       "<thead><tr><th></th><th scope=col>name</th><th scope=col>age</th><th scope=col>salary</th></tr></thead>\n",
       "<tbody>\n",
       "\t<tr><th scope=row>2</th><td>Bob    </td><td>30     </td><td>60000  </td></tr>\n",
       "\t<tr><th scope=row>1</th><td>Alice  </td><td>25     </td><td>50000  </td></tr>\n",
       "\t<tr><th scope=row>3</th><td>Charlie</td><td>22     </td><td>45000  </td></tr>\n",
       "</tbody>\n",
       "</table>\n"
      ],
      "text/latex": [
       "\\begin{tabular}{r|lll}\n",
       "  & name & age & salary\\\\\n",
       "\\hline\n",
       "\t2 & Bob     & 30      & 60000  \\\\\n",
       "\t1 & Alice   & 25      & 50000  \\\\\n",
       "\t3 & Charlie & 22      & 45000  \\\\\n",
       "\\end{tabular}\n"
      ],
      "text/markdown": [
       "\n",
       "| <!--/--> | name | age | salary |\n",
       "|---|---|---|---|\n",
       "| 2 | Bob     | 30      | 60000   |\n",
       "| 1 | Alice   | 25      | 50000   |\n",
       "| 3 | Charlie | 22      | 45000   |\n",
       "\n"
      ],
      "text/plain": [
       "  name    age salary\n",
       "2 Bob     30  60000 \n",
       "1 Alice   25  50000 \n",
       "3 Charlie 22  45000 "
      ]
     },
     "metadata": {},
     "output_type": "display_data"
    }
   ],
   "source": [
    "# Order by age (descending)\n",
    "df[order(-df$age), ]"
   ]
  },
  {
   "cell_type": "markdown",
   "id": "ec42efa4",
   "metadata": {},
   "source": [
    "## Summary\n",
    "\n",
    "| Task                | Function / Syntax              |\n",
    "|---------------------|--------------------------------|\n",
    "| Create data frame   | `data.frame()`                 |\n",
    "| Inspect structure   | `str()`, `summary()`, `head()` |\n",
    "| Access columns      | `df$col`, `df[, col]`          |\n",
    "| Filter rows         | `df[condition, ]`              |\n",
    "| Sort rows           | `order()`                      |\n",
    "| Modify columns      | Add: `df$new <- ...`<br>Remove: `df$col <- NULL` |\n"
   ]
  }
 ],
 "metadata": {
  "kernelspec": {
   "display_name": "R",
   "language": "R",
   "name": "ir"
  },
  "language_info": {
   "codemirror_mode": "r",
   "file_extension": ".r",
   "mimetype": "text/x-r-source",
   "name": "R",
   "pygments_lexer": "r",
   "version": "3.6.1"
  }
 },
 "nbformat": 4,
 "nbformat_minor": 5
}
