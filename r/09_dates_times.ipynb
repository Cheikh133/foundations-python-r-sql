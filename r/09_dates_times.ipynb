{
 "cells": [
  {
   "cell_type": "markdown",
   "id": "381ed243",
   "metadata": {
    "id": "381ed243"
   },
   "source": [
    "# 09 – Dates and Times\n",
    "\n",
    "Core R concepts: working with dates, times, and time intervals.\n",
    "\n",
    "Part of the [Foundations: Python, R & SQL](../README.md) repository.\n"
   ]
  },
  {
   "cell_type": "code",
   "execution_count": 59,
   "id": "d94c8edd",
   "metadata": {
    "colab": {
     "base_uri": "https://localhost:8080/"
    },
    "id": "d94c8edd",
    "outputId": "cc80437a-1f50-4fbe-f24c-81d14db4d692"
   },
   "outputs": [
    {
     "name": "stdout",
     "output_type": "stream",
     "text": [
      "The rpy2.ipython extension is already loaded. To reload it, use:\n",
      "  %reload_ext rpy2.ipython\n"
     ]
    }
   ],
   "source": [
    "!pip install -q rpy2\n",
    "%load_ext rpy2.ipython"
   ]
  },
  {
   "cell_type": "code",
   "execution_count": 60,
   "id": "cb322fb1",
   "metadata": {
    "id": "cb322fb1"
   },
   "outputs": [],
   "source": [
    "%%R\n",
    "# Load lubridate for date/time handling\n",
    "library(lubridate)"
   ]
  },
  {
   "cell_type": "markdown",
   "id": "cd1e588f",
   "metadata": {
    "id": "cd1e588f"
   },
   "source": [
    "## 1. Creating Dates"
   ]
  },
  {
   "cell_type": "code",
   "execution_count": 61,
   "id": "a15ce595",
   "metadata": {
    "id": "a15ce595"
   },
   "outputs": [],
   "source": [
    "%%R\n",
    "# Parse date strings\n",
    "d1 <- ymd(\"2023-08-15\")\n",
    "d2 <- dmy(\"15-08-2023\")\n",
    "d3 <- mdy(\"August 15, 2023\")"
   ]
  },
  {
   "cell_type": "code",
   "execution_count": 62,
   "id": "9zIb0ZXktlWl",
   "metadata": {
    "colab": {
     "base_uri": "https://localhost:8080/"
    },
    "id": "9zIb0ZXktlWl",
    "outputId": "82a92b1f-60ad-45bb-c672-6aeca6a2c78a"
   },
   "outputs": [
    {
     "name": "stdout",
     "output_type": "stream",
     "text": [
      "[1] \"2023-08-15\"\n"
     ]
    }
   ],
   "source": [
    "%%R\n",
    "d1"
   ]
  },
  {
   "cell_type": "code",
   "execution_count": 63,
   "id": "LTAstQcHtloK",
   "metadata": {
    "colab": {
     "base_uri": "https://localhost:8080/"
    },
    "id": "LTAstQcHtloK",
    "outputId": "e1429690-01b4-4a7b-aff4-cbf0745c41f9"
   },
   "outputs": [
    {
     "name": "stdout",
     "output_type": "stream",
     "text": [
      "[1] \"2023-08-15\"\n"
     ]
    }
   ],
   "source": [
    "%%R\n",
    "d2"
   ]
  },
  {
   "cell_type": "code",
   "execution_count": 64,
   "id": "mIcat_rPtl4E",
   "metadata": {
    "colab": {
     "base_uri": "https://localhost:8080/"
    },
    "id": "mIcat_rPtl4E",
    "outputId": "aa2a260b-3a9b-4c24-bf1e-b36728486226"
   },
   "outputs": [
    {
     "name": "stdout",
     "output_type": "stream",
     "text": [
      "[1] \"2023-08-15\"\n"
     ]
    }
   ],
   "source": [
    "%%R\n",
    "d3"
   ]
  },
  {
   "cell_type": "markdown",
   "id": "32217e1f",
   "metadata": {
    "id": "32217e1f"
   },
   "source": [
    "## 2. Extract Components"
   ]
  },
  {
   "cell_type": "code",
   "execution_count": 65,
   "id": "4045dee5",
   "metadata": {
    "colab": {
     "base_uri": "https://localhost:8080/"
    },
    "id": "4045dee5",
    "outputId": "8a53d4f4-8c63-4abe-c859-81163e187ba7"
   },
   "outputs": [
    {
     "name": "stdout",
     "output_type": "stream",
     "text": [
      "[1] 2023\n"
     ]
    }
   ],
   "source": [
    "%%R\n",
    "year(d1)"
   ]
  },
  {
   "cell_type": "code",
   "execution_count": 66,
   "id": "g4-Ck2bNrEXU",
   "metadata": {
    "colab": {
     "base_uri": "https://localhost:8080/"
    },
    "id": "g4-Ck2bNrEXU",
    "outputId": "4bebdfa0-c660-487f-dcd2-7fb69bccebb9"
   },
   "outputs": [
    {
     "name": "stdout",
     "output_type": "stream",
     "text": [
      "[1] Aug\n",
      "12 Levels: Jan < Feb < Mar < Apr < May < Jun < Jul < Aug < Sep < ... < Dec\n"
     ]
    }
   ],
   "source": [
    "%%R\n",
    "month(d1, label = TRUE)"
   ]
  },
  {
   "cell_type": "code",
   "execution_count": 67,
   "id": "OjSOkDP8rGIM",
   "metadata": {
    "colab": {
     "base_uri": "https://localhost:8080/"
    },
    "id": "OjSOkDP8rGIM",
    "outputId": "c7486b3a-cdb4-45c6-caf3-76423255dc85"
   },
   "outputs": [
    {
     "name": "stdout",
     "output_type": "stream",
     "text": [
      "[1] 15\n"
     ]
    }
   ],
   "source": [
    "%%R\n",
    "day(d1)"
   ]
  },
  {
   "cell_type": "code",
   "execution_count": 68,
   "id": "O-JuTiserHv-",
   "metadata": {
    "colab": {
     "base_uri": "https://localhost:8080/"
    },
    "id": "O-JuTiserHv-",
    "outputId": "22ed3f00-8999-45be-811b-6d268908682b"
   },
   "outputs": [
    {
     "name": "stdout",
     "output_type": "stream",
     "text": [
      "[1] Tue\n",
      "Levels: Sun < Mon < Tue < Wed < Thu < Fri < Sat\n"
     ]
    }
   ],
   "source": [
    "%%R\n",
    "wday(d1, label = TRUE)"
   ]
  },
  {
   "cell_type": "markdown",
   "id": "806006fc",
   "metadata": {
    "id": "806006fc"
   },
   "source": [
    "## 3. Time Differences and Durations"
   ]
  },
  {
   "cell_type": "code",
   "execution_count": 69,
   "id": "f156eb7b",
   "metadata": {
    "colab": {
     "base_uri": "https://localhost:8080/"
    },
    "id": "f156eb7b",
    "outputId": "2820d559-7847-4107-ff46-157361f305e3"
   },
   "outputs": [
    {
     "name": "stdout",
     "output_type": "stream",
     "text": [
      "Time difference of 17 days\n"
     ]
    }
   ],
   "source": [
    "%%R\n",
    "d4 <- ymd(\"2023-09-01\")\n",
    "interval <- d4 - d1\n",
    "interval"
   ]
  },
  {
   "cell_type": "code",
   "execution_count": 70,
   "id": "STsgjuxIrVPy",
   "metadata": {
    "colab": {
     "base_uri": "https://localhost:8080/"
    },
    "id": "STsgjuxIrVPy",
    "outputId": "e157cf9f-ff4d-445c-c846-45713fc0b6ec"
   },
   "outputs": [
    {
     "name": "stdout",
     "output_type": "stream",
     "text": [
      "[1] \"1468800s (~2.43 weeks)\"\n"
     ]
    }
   ],
   "source": [
    "%%R\n",
    "as.duration(interval)"
   ]
  },
  {
   "cell_type": "code",
   "execution_count": 71,
   "id": "78fYlHj8rXVS",
   "metadata": {
    "colab": {
     "base_uri": "https://localhost:8080/"
    },
    "id": "78fYlHj8rXVS",
    "outputId": "01b10615-eedf-4831-e92a-d64bf5887b7f"
   },
   "outputs": [
    {
     "name": "stdout",
     "output_type": "stream",
     "text": [
      "[1] 17\n"
     ]
    }
   ],
   "source": [
    "%%R\n",
    "as.numeric(interval, units = \"days\")"
   ]
  },
  {
   "cell_type": "markdown",
   "id": "c7eff4b9",
   "metadata": {
    "id": "c7eff4b9"
   },
   "source": [
    "## 4. Working with Times"
   ]
  },
  {
   "cell_type": "code",
   "execution_count": 72,
   "id": "d2b7410e",
   "metadata": {
    "colab": {
     "base_uri": "https://localhost:8080/"
    },
    "id": "d2b7410e",
    "outputId": "95abc871-35f8-4261-90f9-804081b5c291"
   },
   "outputs": [
    {
     "name": "stdout",
     "output_type": "stream",
     "text": [
      "Time difference of 3.5 hours\n"
     ]
    }
   ],
   "source": [
    "%%R\n",
    "dt1 <- ymd_hms(\"2023-08-15 14:30:00\")\n",
    "dt2 <- ymd_hms(\"2023-08-15 18:00:00\")\n",
    "\n",
    "dt2 - dt1  # Time difference"
   ]
  },
  {
   "cell_type": "code",
   "execution_count": 73,
   "id": "FgAl1KA7ripv",
   "metadata": {
    "colab": {
     "base_uri": "https://localhost:8080/"
    },
    "id": "FgAl1KA7ripv",
    "outputId": "357d520e-6cc2-4b42-c44a-9f1c7d98307a"
   },
   "outputs": [
    {
     "name": "stdout",
     "output_type": "stream",
     "text": [
      "[1] 14\n"
     ]
    }
   ],
   "source": [
    "%%R\n",
    "hour(dt1)"
   ]
  },
  {
   "cell_type": "code",
   "execution_count": 74,
   "id": "nrajVzqFsLwt",
   "metadata": {
    "colab": {
     "base_uri": "https://localhost:8080/"
    },
    "id": "nrajVzqFsLwt",
    "outputId": "4a7fbb5a-256b-46f6-dc33-0d6a87598541"
   },
   "outputs": [
    {
     "name": "stdout",
     "output_type": "stream",
     "text": [
      "[1] 30\n"
     ]
    }
   ],
   "source": [
    "%%R\n",
    "minute(dt1)"
   ]
  },
  {
   "cell_type": "code",
   "execution_count": 75,
   "id": "ucS6J9w4sO9_",
   "metadata": {
    "colab": {
     "base_uri": "https://localhost:8080/"
    },
    "id": "ucS6J9w4sO9_",
    "outputId": "d5f864c4-fae5-4d99-d8f8-278696a2e51a"
   },
   "outputs": [
    {
     "name": "stdout",
     "output_type": "stream",
     "text": [
      "[1] 0\n"
     ]
    }
   ],
   "source": [
    "%%R\n",
    "second(dt1)"
   ]
  },
  {
   "cell_type": "markdown",
   "id": "8a310a9b",
   "metadata": {
    "id": "8a310a9b"
   },
   "source": [
    "## 5. Formatting Dates and Times"
   ]
  },
  {
   "cell_type": "code",
   "execution_count": 76,
   "id": "2c067bb7",
   "metadata": {
    "colab": {
     "base_uri": "https://localhost:8080/"
    },
    "id": "2c067bb7",
    "outputId": "15b658bf-5814-4b25-ec0c-ba361dbe74de"
   },
   "outputs": [
    {
     "name": "stdout",
     "output_type": "stream",
     "text": [
      "[1] \"Tuesday, 15 August 2023, 14:30\"\n"
     ]
    }
   ],
   "source": [
    "%%R\n",
    "format(dt1, \"%A, %d %B %Y, %H:%M\")"
   ]
  },
  {
   "cell_type": "markdown",
   "id": "87cd15dd",
   "metadata": {
    "id": "87cd15dd"
   },
   "source": [
    "## Summary\n",
    "\n",
    "| Task                  | Function          |\n",
    "|-----------------------|------------------|\n",
    "| Parse date            | `ymd()`, `dmy()` |\n",
    "| Extract components    | `year()`, `month()`, `day()` |\n",
    "| Handle intervals      | `as.duration()`, `interval` |\n",
    "| Work with datetime    | `ymd_hms()`       |\n",
    "| Format output         | `format()`        |\n",
    "\n"
   ]
  }
 ],
 "metadata": {
  "colab": {
   "provenance": [],
   "toc_visible": true
  },
  "kernelspec": {
   "display_name": "Python 3",
   "name": "python3"
  },
  "language_info": {
   "name": "python"
  }
 },
 "nbformat": 4,
 "nbformat_minor": 5
}
