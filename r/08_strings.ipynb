{
  "cells": [
    {
      "cell_type": "markdown",
      "id": "141c88bc",
      "metadata": {
        "id": "141c88bc"
      },
      "source": [
        "# 08 – Strings in R\n",
        "\n",
        "Character manipulation techniques with base R functions.\n",
        "\n",
        "---\n",
        "\n",
        "*This notebook is part of the [Foundations: Python, R & SQL](../README.md) series.*"
      ]
    },
    {
      "cell_type": "code",
      "source": [
        "!pip install -q rpy2\n",
        "%load_ext rpy2.ipython"
      ],
      "metadata": {
        "id": "r6rM-eqzm7KS"
      },
      "id": "r6rM-eqzm7KS",
      "execution_count": 3,
      "outputs": []
    },
    {
      "cell_type": "code",
      "execution_count": 4,
      "id": "ac032122",
      "metadata": {
        "id": "ac032122"
      },
      "outputs": [],
      "source": [
        "%%R\n",
        "# Create character vectors\n",
        "names <- c(\"Alice\", \"Bob\", \"Clara\")\n",
        "messages <- c(\"Hello\", \"How are you?\", \"Goodbye\")"
      ]
    },
    {
      "cell_type": "markdown",
      "id": "bf412a0a",
      "metadata": {
        "id": "bf412a0a"
      },
      "source": [
        "## 1. String Length"
      ]
    },
    {
      "cell_type": "code",
      "execution_count": 5,
      "id": "b0588157",
      "metadata": {
        "colab": {
          "base_uri": "https://localhost:8080/"
        },
        "id": "b0588157",
        "outputId": "78622088-d521-45c9-ba3e-52af31bfe168"
      },
      "outputs": [
        {
          "output_type": "stream",
          "name": "stdout",
          "text": [
            "[1] 5 3 5\n"
          ]
        }
      ],
      "source": [
        "%%R\n",
        "nchar(names)  # Number of characters in each string"
      ]
    },
    {
      "cell_type": "markdown",
      "id": "ba102f64",
      "metadata": {
        "id": "ba102f64"
      },
      "source": [
        "## 2. Substrings"
      ]
    },
    {
      "cell_type": "code",
      "execution_count": 6,
      "id": "8607ec3f",
      "metadata": {
        "colab": {
          "base_uri": "https://localhost:8080/"
        },
        "id": "8607ec3f",
        "outputId": "a69be36e-9329-4a0a-f167-e12c96a66c38"
      },
      "outputs": [
        {
          "output_type": "stream",
          "name": "stdout",
          "text": [
            "[1] \"Ali\" \"Bob\" \"Cla\"\n"
          ]
        }
      ],
      "source": [
        "%%R\n",
        "substr(names, start = 1, stop = 3)  # Extract first 3 letters"
      ]
    },
    {
      "cell_type": "markdown",
      "id": "f0847bd4",
      "metadata": {
        "id": "f0847bd4"
      },
      "source": [
        "## 3. Concatenation"
      ]
    },
    {
      "cell_type": "code",
      "execution_count": 7,
      "id": "4bc1792a",
      "metadata": {
        "colab": {
          "base_uri": "https://localhost:8080/"
        },
        "id": "4bc1792a",
        "outputId": "d151005d-0603-4823-849b-8c7fa2ad4d42"
      },
      "outputs": [
        {
          "output_type": "stream",
          "name": "stdout",
          "text": [
            "[1] \"Welcome Alice\" \"Welcome Bob\"   \"Welcome Clara\"\n"
          ]
        }
      ],
      "source": [
        "%%R\n",
        "paste(\"Welcome\", names)  # Combine elements with space by default"
      ]
    },
    {
      "cell_type": "code",
      "source": [
        "%%R\n",
        "paste(\"Welcome\", names, sep = \", \")  # Specify separator"
      ],
      "metadata": {
        "colab": {
          "base_uri": "https://localhost:8080/"
        },
        "id": "Xp2xd1DJmaaV",
        "outputId": "f8cc408e-f1be-4cee-fca1-7f71870acc88"
      },
      "id": "Xp2xd1DJmaaV",
      "execution_count": 8,
      "outputs": [
        {
          "output_type": "stream",
          "name": "stdout",
          "text": [
            "[1] \"Welcome, Alice\" \"Welcome, Bob\"   \"Welcome, Clara\"\n"
          ]
        }
      ]
    },
    {
      "cell_type": "code",
      "source": [
        "%%R\n",
        "paste0(\"User_\", 1:3)  # No separator"
      ],
      "metadata": {
        "colab": {
          "base_uri": "https://localhost:8080/"
        },
        "id": "2L48VTTQmcBE",
        "outputId": "a6e616fe-a589-48ed-c0d1-a3759dd4eca0"
      },
      "id": "2L48VTTQmcBE",
      "execution_count": 9,
      "outputs": [
        {
          "output_type": "stream",
          "name": "stdout",
          "text": [
            "[1] \"User_1\" \"User_2\" \"User_3\"\n"
          ]
        }
      ]
    },
    {
      "cell_type": "markdown",
      "id": "da7413b5",
      "metadata": {
        "id": "da7413b5"
      },
      "source": [
        "## 4. Case Conversion"
      ]
    },
    {
      "cell_type": "code",
      "execution_count": 10,
      "id": "5c9f9c5f",
      "metadata": {
        "colab": {
          "base_uri": "https://localhost:8080/"
        },
        "id": "5c9f9c5f",
        "outputId": "f7923340-96f3-418d-cc88-ea83d2138cdb"
      },
      "outputs": [
        {
          "output_type": "stream",
          "name": "stdout",
          "text": [
            "[1] \"ALICE\" \"BOB\"   \"CLARA\"\n"
          ]
        }
      ],
      "source": [
        "%%R\n",
        "toupper(names)"
      ]
    },
    {
      "cell_type": "code",
      "source": [
        "%%R\n",
        "tolower(messages)"
      ],
      "metadata": {
        "colab": {
          "base_uri": "https://localhost:8080/"
        },
        "id": "f71h2hX1mj3w",
        "outputId": "644e5fd2-90f7-4cb8-bba2-6197f5efb42e"
      },
      "id": "f71h2hX1mj3w",
      "execution_count": 11,
      "outputs": [
        {
          "output_type": "stream",
          "name": "stdout",
          "text": [
            "[1] \"hello\"        \"how are you?\" \"goodbye\"     \n"
          ]
        }
      ]
    },
    {
      "cell_type": "markdown",
      "id": "ad79883c",
      "metadata": {
        "id": "ad79883c"
      },
      "source": [
        "## 5. Pattern Matching"
      ]
    },
    {
      "cell_type": "code",
      "execution_count": 12,
      "id": "81c734ab",
      "metadata": {
        "colab": {
          "base_uri": "https://localhost:8080/"
        },
        "id": "81c734ab",
        "outputId": "79752403-b75b-49f6-96bb-f2031d4c24f4"
      },
      "outputs": [
        {
          "output_type": "stream",
          "name": "stdout",
          "text": [
            "[1] 3\n"
          ]
        }
      ],
      "source": [
        "%%R\n",
        "grep(\"a\", names)  # Return indices with letter 'a'"
      ]
    },
    {
      "cell_type": "code",
      "source": [
        "%%R\n",
        "grepl(\"a\", names)  # Return logical vector"
      ],
      "metadata": {
        "colab": {
          "base_uri": "https://localhost:8080/"
        },
        "id": "KLBJbeEymmv_",
        "outputId": "6b1b0213-f44c-432d-fad1-7ab7dc563c3d"
      },
      "id": "KLBJbeEymmv_",
      "execution_count": 13,
      "outputs": [
        {
          "output_type": "stream",
          "name": "stdout",
          "text": [
            "[1] FALSE FALSE  TRUE\n"
          ]
        }
      ]
    },
    {
      "cell_type": "code",
      "source": [
        "%%R\n",
        "sub(\"o\", \"0\", messages)  # Replace first match"
      ],
      "metadata": {
        "colab": {
          "base_uri": "https://localhost:8080/"
        },
        "id": "VZCp_UyTmpHW",
        "outputId": "2e981d4f-f5d3-4b60-a2d2-08c74efe730f"
      },
      "id": "VZCp_UyTmpHW",
      "execution_count": 14,
      "outputs": [
        {
          "output_type": "stream",
          "name": "stdout",
          "text": [
            "[1] \"Hell0\"        \"H0w are you?\" \"G0odbye\"     \n"
          ]
        }
      ]
    },
    {
      "cell_type": "code",
      "source": [
        "%%R\n",
        "gsub(\"o\", \"0\", messages)  # Replace all matches"
      ],
      "metadata": {
        "colab": {
          "base_uri": "https://localhost:8080/"
        },
        "id": "wWMBjb1zmq0o",
        "outputId": "e1ecae2b-1ae8-4084-c657-346e76e02f3f"
      },
      "id": "wWMBjb1zmq0o",
      "execution_count": 15,
      "outputs": [
        {
          "output_type": "stream",
          "name": "stdout",
          "text": [
            "[1] \"Hell0\"        \"H0w are y0u?\" \"G00dbye\"     \n"
          ]
        }
      ]
    },
    {
      "cell_type": "markdown",
      "id": "788e819b",
      "metadata": {
        "id": "788e819b"
      },
      "source": [
        "## 6. String Splitting"
      ]
    },
    {
      "cell_type": "code",
      "execution_count": 16,
      "id": "a6abfd46",
      "metadata": {
        "colab": {
          "base_uri": "https://localhost:8080/"
        },
        "id": "a6abfd46",
        "outputId": "b504786b-2920-4e0e-a037-1c1229a8dc9f"
      },
      "outputs": [
        {
          "output_type": "stream",
          "name": "stdout",
          "text": [
            "[[1]]\n",
            "[1] \"Hello\"\n",
            "\n",
            "[[2]]\n",
            "[1] \"How\"  \"are\"  \"you?\"\n",
            "\n",
            "[[3]]\n",
            "[1] \"Goodbye\"\n",
            "\n"
          ]
        }
      ],
      "source": [
        "%%R\n",
        "strsplit(\"R is great\", \" \")\n",
        "strsplit(messages, \" \")"
      ]
    },
    {
      "cell_type": "markdown",
      "id": "b00c2998",
      "metadata": {
        "id": "b00c2998"
      },
      "source": [
        "## Summary\n",
        "\n",
        "- `nchar()` gets the length of strings\n",
        "- `substr()` extracts substrings\n",
        "- `paste()` and `paste0()` concatenate strings\n",
        "- `toupper()` and `tolower()` change case\n",
        "- `grep()` and `grepl()` find patterns\n",
        "- `sub()` and `gsub()` perform substitutions\n",
        "- `strsplit()` splits strings into parts"
      ]
    }
  ],
  "metadata": {
    "colab": {
      "provenance": [],
      "toc_visible": true
    },
    "language_info": {
      "name": "python"
    },
    "kernelspec": {
      "name": "python3",
      "display_name": "Python 3"
    }
  },
  "nbformat": 4,
  "nbformat_minor": 5
}