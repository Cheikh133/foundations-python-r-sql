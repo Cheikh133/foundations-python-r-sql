{
  "cells": [
    {
      "cell_type": "markdown",
      "metadata": {
        "id": "h_wmNEGOVTuh"
      },
      "source": [
        "# 06 – Joins and Combining DataFrames\n",
        "\n",
        "How to merge, join, and bind datasets using base R and `dplyr`.\n",
        "\n",
        "*Part of the [Foundations: Python, R & SQL](../README.md) series.*"
      ]
    },
    {
      "cell_type": "code",
      "execution_count": 14,
      "metadata": {
        "language": "R",
        "colab": {
          "base_uri": "https://localhost:8080/",
          "height": 0
        },
        "id": "qYd-QQceVTum",
        "outputId": "59cf712c-ee01-451b-f060-69de26c30797"
      },
      "source": [
        "# Install and load required packages\n",
        "!pip install -q rpy2\n",
        "%load_ext rpy2.ipython"
      ],
      "outputs": [
        {
          "output_type": "stream",
          "name": "stdout",
          "text": [
            "The rpy2.ipython extension is already loaded. To reload it, use:\n",
            "  %reload_ext rpy2.ipython\n"
          ]
        }
      ]
    },
    {
      "cell_type": "code",
      "source": [
        "%%R\n",
        "library(dplyr)"
      ],
      "metadata": {
        "id": "_s9yzbUCWD7l"
      },
      "execution_count": 15,
      "outputs": []
    },
    {
      "cell_type": "markdown",
      "metadata": {
        "id": "QEjopHXnVTuq"
      },
      "source": [
        "## 1. Sample DataFrames"
      ]
    },
    {
      "cell_type": "code",
      "execution_count": 16,
      "metadata": {
        "language": "R",
        "colab": {
          "base_uri": "https://localhost:8080/",
          "height": 0
        },
        "id": "RJlUQdHyVTur",
        "outputId": "beb989ae-34d5-4365-def8-ccc5614bac46"
      },
      "source": [
        "%%R\n",
        "employees <- data.frame(\n",
        "  id = c(1, 2, 3, 4),\n",
        "  name = c(\"Alice\", \"Bob\", \"Charlie\", \"David\"),\n",
        "  department = c(\"HR\", \"IT\", \"IT\", \"Finance\")\n",
        ")\n",
        "\n",
        "salaries <- data.frame(\n",
        "  id = c(2, 3, 4, 5),\n",
        "  salary = c(50000, 55000, 60000, 45000)\n",
        ")\n",
        "employees"
      ],
      "outputs": [
        {
          "output_type": "stream",
          "name": "stdout",
          "text": [
            "  id    name department\n",
            "1  1   Alice         HR\n",
            "2  2     Bob         IT\n",
            "3  3 Charlie         IT\n",
            "4  4   David    Finance\n"
          ]
        }
      ]
    },
    {
      "cell_type": "code",
      "source": [
        "%%R\n",
        "salaries"
      ],
      "metadata": {
        "colab": {
          "base_uri": "https://localhost:8080/",
          "height": 0
        },
        "id": "rs-_ygvJWLfx",
        "outputId": "b8b1f6ec-fdc6-43b3-9e37-1b3cd088a64b"
      },
      "execution_count": 17,
      "outputs": [
        {
          "output_type": "stream",
          "name": "stdout",
          "text": [
            "  id salary\n",
            "1  2  50000\n",
            "2  3  55000\n",
            "3  4  60000\n",
            "4  5  45000\n"
          ]
        }
      ]
    },
    {
      "cell_type": "markdown",
      "metadata": {
        "id": "CvxORyroVTur"
      },
      "source": [
        "## 2. Inner Join"
      ]
    },
    {
      "cell_type": "code",
      "execution_count": 18,
      "metadata": {
        "language": "R",
        "colab": {
          "base_uri": "https://localhost:8080/",
          "height": 0
        },
        "id": "RKCW_f9tVTus",
        "outputId": "d88fb70e-b437-4499-ff91-c176d40c301c"
      },
      "source": [
        "%%R\n",
        "inner_join(employees, salaries, by = \"id\")"
      ],
      "outputs": [
        {
          "output_type": "stream",
          "name": "stdout",
          "text": [
            "  id    name department salary\n",
            "1  2     Bob         IT  50000\n",
            "2  3 Charlie         IT  55000\n",
            "3  4   David    Finance  60000\n"
          ]
        }
      ]
    },
    {
      "cell_type": "markdown",
      "metadata": {
        "id": "VGbDNKhRVTus"
      },
      "source": [
        "## 3. Left Join"
      ]
    },
    {
      "cell_type": "code",
      "execution_count": 19,
      "metadata": {
        "language": "R",
        "colab": {
          "base_uri": "https://localhost:8080/",
          "height": 0
        },
        "id": "Gq02E7WrVTut",
        "outputId": "0993df6d-ec5b-444e-8de1-4937aefab31d"
      },
      "source": [
        "%%R\n",
        "left_join(employees, salaries, by = \"id\")"
      ],
      "outputs": [
        {
          "output_type": "stream",
          "name": "stdout",
          "text": [
            "  id    name department salary\n",
            "1  1   Alice         HR     NA\n",
            "2  2     Bob         IT  50000\n",
            "3  3 Charlie         IT  55000\n",
            "4  4   David    Finance  60000\n"
          ]
        }
      ]
    },
    {
      "cell_type": "markdown",
      "metadata": {
        "id": "n9LSl6M1VTut"
      },
      "source": [
        "## 4. Right Join"
      ]
    },
    {
      "cell_type": "code",
      "execution_count": 20,
      "metadata": {
        "language": "R",
        "colab": {
          "base_uri": "https://localhost:8080/",
          "height": 0
        },
        "id": "9LmvNn4iVTut",
        "outputId": "286bfe78-6150-4c07-f1bb-fd05cc09ae53"
      },
      "source": [
        "%%R\n",
        "right_join(employees, salaries, by = \"id\")"
      ],
      "outputs": [
        {
          "output_type": "stream",
          "name": "stdout",
          "text": [
            "  id    name department salary\n",
            "1  2     Bob         IT  50000\n",
            "2  3 Charlie         IT  55000\n",
            "3  4   David    Finance  60000\n",
            "4  5    <NA>       <NA>  45000\n"
          ]
        }
      ]
    },
    {
      "cell_type": "markdown",
      "metadata": {
        "id": "__3OPMZBVTuu"
      },
      "source": [
        "## 5. Full Join"
      ]
    },
    {
      "cell_type": "code",
      "execution_count": 21,
      "metadata": {
        "language": "R",
        "colab": {
          "base_uri": "https://localhost:8080/",
          "height": 0
        },
        "id": "jYSwV0C8VTuu",
        "outputId": "024f8001-b620-4467-8679-f2797848c17c"
      },
      "source": [
        "%%R\n",
        "full_join(employees, salaries, by = \"id\")"
      ],
      "outputs": [
        {
          "output_type": "stream",
          "name": "stdout",
          "text": [
            "  id    name department salary\n",
            "1  1   Alice         HR     NA\n",
            "2  2     Bob         IT  50000\n",
            "3  3 Charlie         IT  55000\n",
            "4  4   David    Finance  60000\n",
            "5  5    <NA>       <NA>  45000\n"
          ]
        }
      ]
    },
    {
      "cell_type": "markdown",
      "metadata": {
        "id": "zQFtruKUVTuv"
      },
      "source": [
        "## 6. Binding Rows and Columns"
      ]
    },
    {
      "cell_type": "code",
      "execution_count": 22,
      "metadata": {
        "language": "R",
        "colab": {
          "base_uri": "https://localhost:8080/",
          "height": 0
        },
        "id": "yMWP9A_RVTuv",
        "outputId": "43d4b488-27e4-4a48-e40a-be7dda428974"
      },
      "source": [
        "%%R\n",
        "extra_employees <- data.frame(\n",
        "  id = c(6, 7),\n",
        "  name = c(\"Eva\", \"Frank\"),\n",
        "  department = c(\"HR\", \"IT\")\n",
        ")\n",
        "\n",
        "# Combine rows\n",
        "bind_rows(employees, extra_employees)"
      ],
      "outputs": [
        {
          "output_type": "stream",
          "name": "stdout",
          "text": [
            "  id    name department\n",
            "1  1   Alice         HR\n",
            "2  2     Bob         IT\n",
            "3  3 Charlie         IT\n",
            "4  4   David    Finance\n",
            "5  6     Eva         HR\n",
            "6  7   Frank         IT\n"
          ]
        }
      ]
    },
    {
      "cell_type": "markdown",
      "metadata": {
        "id": "2QsRewgXVTuw"
      },
      "source": [
        "## Summary\n",
        "- `inner_join()` for matching records\n",
        "- `left_join()` and `right_join()` to retain all rows from one side\n",
        "- `full_join()` for all records\n",
        "- `bind_rows()` to append vertically\n",
        "- `bind_cols()` to combine side-by-side"
      ]
    }
  ],
  "metadata": {
    "kernelspec": {
      "display_name": "Python 3",
      "language": "python",
      "name": "python3"
    },
    "language_info": {
      "name": "python"
    },
    "colab": {
      "provenance": [],
      "toc_visible": true
    }
  },
  "nbformat": 4,
  "nbformat_minor": 0
}