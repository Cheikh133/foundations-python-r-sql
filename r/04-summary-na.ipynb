{
 "cells": [
  {
   "cell_type": "markdown",
   "id": "a54ee04a",
   "metadata": {},
   "source": [
    "# 04 – Summary & Missing Data\n",
    "\n",
    "Core R concepts: summarize data and handle missing values.\n",
    "\n",
    "*Part of the [Foundations: Python, R & SQL](../README.md) series.*"
   ]
  },
  {
   "cell_type": "markdown",
   "id": "8ee705c7",
   "metadata": {},
   "source": [
    "## 1. Summary Statistics"
   ]
  },
  {
   "cell_type": "code",
   "execution_count": 1,
   "id": "e406ee29",
   "metadata": {},
   "outputs": [],
   "source": [
    "# Sample data\n",
    "data <- c(2, 4, 6, 8, 10)"
   ]
  },
  {
   "cell_type": "code",
   "execution_count": 2,
   "id": "99104d95-f9d1-4229-ba33-27a64d02f638",
   "metadata": {},
   "outputs": [
    {
     "data": {
      "text/html": [
       "6"
      ],
      "text/latex": [
       "6"
      ],
      "text/markdown": [
       "6"
      ],
      "text/plain": [
       "[1] 6"
      ]
     },
     "metadata": {},
     "output_type": "display_data"
    }
   ],
   "source": [
    "mean(data)"
   ]
  },
  {
   "cell_type": "code",
   "execution_count": 3,
   "id": "24d10fdc-0531-4780-b9c9-16a3ea23a908",
   "metadata": {},
   "outputs": [
    {
     "data": {
      "text/html": [
       "6"
      ],
      "text/latex": [
       "6"
      ],
      "text/markdown": [
       "6"
      ],
      "text/plain": [
       "[1] 6"
      ]
     },
     "metadata": {},
     "output_type": "display_data"
    }
   ],
   "source": [
    "median(data)"
   ]
  },
  {
   "cell_type": "code",
   "execution_count": 4,
   "id": "30265e92-1bb8-4b06-be96-bd27eaf725ea",
   "metadata": {},
   "outputs": [
    {
     "data": {
      "text/html": [
       "3.16227766016838"
      ],
      "text/latex": [
       "3.16227766016838"
      ],
      "text/markdown": [
       "3.16227766016838"
      ],
      "text/plain": [
       "[1] 3.162278"
      ]
     },
     "metadata": {},
     "output_type": "display_data"
    }
   ],
   "source": [
    "sd(data)"
   ]
  },
  {
   "cell_type": "code",
   "execution_count": 5,
   "id": "14befd28-eb3d-4c0e-b7a0-038055c23156",
   "metadata": {},
   "outputs": [
    {
     "data": {
      "text/html": [
       "2"
      ],
      "text/latex": [
       "2"
      ],
      "text/markdown": [
       "2"
      ],
      "text/plain": [
       "[1] 2"
      ]
     },
     "metadata": {},
     "output_type": "display_data"
    }
   ],
   "source": [
    "min(data)"
   ]
  },
  {
   "cell_type": "code",
   "execution_count": 6,
   "id": "98243bd0-35df-4d6b-8d07-b147c5760912",
   "metadata": {},
   "outputs": [
    {
     "data": {
      "text/html": [
       "10"
      ],
      "text/latex": [
       "10"
      ],
      "text/markdown": [
       "10"
      ],
      "text/plain": [
       "[1] 10"
      ]
     },
     "metadata": {},
     "output_type": "display_data"
    }
   ],
   "source": [
    "max(data)"
   ]
  },
  {
   "cell_type": "code",
   "execution_count": 7,
   "id": "86df99ce-8756-4449-9a3b-ea6be313ce79",
   "metadata": {},
   "outputs": [
    {
     "data": {
      "text/plain": [
       "   Min. 1st Qu.  Median    Mean 3rd Qu.    Max. \n",
       "      2       4       6       6       8      10 "
      ]
     },
     "metadata": {},
     "output_type": "display_data"
    }
   ],
   "source": [
    "summary(data)"
   ]
  },
  {
   "cell_type": "markdown",
   "id": "b3df422b",
   "metadata": {},
   "source": [
    "## 2. Detecting Missing Values"
   ]
  },
  {
   "cell_type": "code",
   "execution_count": 8,
   "id": "5cb6c917",
   "metadata": {},
   "outputs": [
    {
     "data": {
      "text/html": [
       "<ol class=list-inline>\n",
       "\t<li>FALSE</li>\n",
       "\t<li>TRUE</li>\n",
       "\t<li>FALSE</li>\n",
       "\t<li>TRUE</li>\n",
       "\t<li>FALSE</li>\n",
       "</ol>\n"
      ],
      "text/latex": [
       "\\begin{enumerate*}\n",
       "\\item FALSE\n",
       "\\item TRUE\n",
       "\\item FALSE\n",
       "\\item TRUE\n",
       "\\item FALSE\n",
       "\\end{enumerate*}\n"
      ],
      "text/markdown": [
       "1. FALSE\n",
       "2. TRUE\n",
       "3. FALSE\n",
       "4. TRUE\n",
       "5. FALSE\n",
       "\n",
       "\n"
      ],
      "text/plain": [
       "[1] FALSE  TRUE FALSE  TRUE FALSE"
      ]
     },
     "metadata": {},
     "output_type": "display_data"
    }
   ],
   "source": [
    "# Vector with missing values\n",
    "x <- c(5, NA, 9, NA, 3)\n",
    "\n",
    "is.na(x)"
   ]
  },
  {
   "cell_type": "code",
   "execution_count": 9,
   "id": "5b3bd061-b9bd-421b-8cdc-136bd69da88e",
   "metadata": {},
   "outputs": [
    {
     "data": {
      "text/html": [
       "2"
      ],
      "text/latex": [
       "2"
      ],
      "text/markdown": [
       "2"
      ],
      "text/plain": [
       "[1] 2"
      ]
     },
     "metadata": {},
     "output_type": "display_data"
    }
   ],
   "source": [
    "# Count of missing values\n",
    "sum(is.na(x))  "
   ]
  },
  {
   "cell_type": "code",
   "execution_count": 10,
   "id": "736296f2-5a59-4bc1-8717-8271e319fef4",
   "metadata": {},
   "outputs": [
    {
     "data": {
      "text/html": [
       "TRUE"
      ],
      "text/latex": [
       "TRUE"
      ],
      "text/markdown": [
       "TRUE"
      ],
      "text/plain": [
       "[1] TRUE"
      ]
     },
     "metadata": {},
     "output_type": "display_data"
    }
   ],
   "source": [
    "# At least one missing\n",
    "any(is.na(x))  "
   ]
  },
  {
   "cell_type": "code",
   "execution_count": 11,
   "id": "9a45a75b-a913-470d-99dd-bc42458fcea4",
   "metadata": {},
   "outputs": [
    {
     "data": {
      "text/html": [
       "FALSE"
      ],
      "text/latex": [
       "FALSE"
      ],
      "text/markdown": [
       "FALSE"
      ],
      "text/plain": [
       "[1] FALSE"
      ]
     },
     "metadata": {},
     "output_type": "display_data"
    }
   ],
   "source": [
    "# All missing\n",
    "all(is.na(x))  "
   ]
  },
  {
   "cell_type": "markdown",
   "id": "d348a810",
   "metadata": {},
   "source": [
    "## 3. Handling Missing Data"
   ]
  },
  {
   "cell_type": "code",
   "execution_count": 12,
   "id": "fcf8461c",
   "metadata": {},
   "outputs": [
    {
     "data": {
      "text/html": [
       "<ol class=list-inline>\n",
       "\t<li>5</li>\n",
       "\t<li>9</li>\n",
       "\t<li>3</li>\n",
       "</ol>\n"
      ],
      "text/latex": [
       "\\begin{enumerate*}\n",
       "\\item 5\n",
       "\\item 9\n",
       "\\item 3\n",
       "\\end{enumerate*}\n"
      ],
      "text/markdown": [
       "1. 5\n",
       "2. 9\n",
       "3. 3\n",
       "\n",
       "\n"
      ],
      "text/plain": [
       "[1] 5 9 3\n",
       "attr(,\"na.action\")\n",
       "[1] 2 4\n",
       "attr(,\"class\")\n",
       "[1] \"omit\""
      ]
     },
     "metadata": {},
     "output_type": "display_data"
    }
   ],
   "source": [
    "# Remove missing values\n",
    "x_clean <- na.omit(x)\n",
    "x_clean"
   ]
  },
  {
   "cell_type": "code",
   "execution_count": 13,
   "id": "8ce7b6b4-f33a-49da-83fe-f7b9979c37da",
   "metadata": {},
   "outputs": [
    {
     "data": {
      "text/html": [
       "<ol class=list-inline>\n",
       "\t<li>5</li>\n",
       "\t<li>5.66666666666667</li>\n",
       "\t<li>9</li>\n",
       "\t<li>5.66666666666667</li>\n",
       "\t<li>3</li>\n",
       "</ol>\n"
      ],
      "text/latex": [
       "\\begin{enumerate*}\n",
       "\\item 5\n",
       "\\item 5.66666666666667\n",
       "\\item 9\n",
       "\\item 5.66666666666667\n",
       "\\item 3\n",
       "\\end{enumerate*}\n"
      ],
      "text/markdown": [
       "1. 5\n",
       "2. 5.66666666666667\n",
       "3. 9\n",
       "4. 5.66666666666667\n",
       "5. 3\n",
       "\n",
       "\n"
      ],
      "text/plain": [
       "[1] 5.000000 5.666667 9.000000 5.666667 3.000000"
      ]
     },
     "metadata": {},
     "output_type": "display_data"
    }
   ],
   "source": [
    "# Replace missing values\n",
    "x_fixed <- ifelse(is.na(x), mean(x, na.rm = TRUE), x)\n",
    "x_fixed"
   ]
  },
  {
   "cell_type": "markdown",
   "id": "af257d2f",
   "metadata": {},
   "source": [
    "## 4. Summary for Data Frames"
   ]
  },
  {
   "cell_type": "code",
   "execution_count": 14,
   "id": "d2752128",
   "metadata": {},
   "outputs": [
    {
     "data": {
      "text/html": [
       "<table>\n",
       "<thead><tr><th scope=col>id</th><th scope=col>score</th></tr></thead>\n",
       "<tbody>\n",
       "\t<tr><td>1 </td><td>90</td></tr>\n",
       "\t<tr><td>2 </td><td>85</td></tr>\n",
       "\t<tr><td>3 </td><td>NA</td></tr>\n",
       "\t<tr><td>4 </td><td>88</td></tr>\n",
       "\t<tr><td>5 </td><td>NA</td></tr>\n",
       "</tbody>\n",
       "</table>\n"
      ],
      "text/latex": [
       "\\begin{tabular}{r|ll}\n",
       " id & score\\\\\n",
       "\\hline\n",
       "\t 1  & 90\\\\\n",
       "\t 2  & 85\\\\\n",
       "\t 3  & NA\\\\\n",
       "\t 4  & 88\\\\\n",
       "\t 5  & NA\\\\\n",
       "\\end{tabular}\n"
      ],
      "text/markdown": [
       "\n",
       "| id | score |\n",
       "|---|---|\n",
       "| 1  | 90 |\n",
       "| 2  | 85 |\n",
       "| 3  | NA |\n",
       "| 4  | 88 |\n",
       "| 5  | NA |\n",
       "\n"
      ],
      "text/plain": [
       "  id score\n",
       "1 1  90   \n",
       "2 2  85   \n",
       "3 3  NA   \n",
       "4 4  88   \n",
       "5 5  NA   "
      ]
     },
     "metadata": {},
     "output_type": "display_data"
    }
   ],
   "source": [
    "df <- data.frame(\n",
    "  id = 1:5,\n",
    "  score = c(90, 85, NA, 88, NA)\n",
    ")\n",
    "\n",
    "df"
   ]
  },
  {
   "cell_type": "code",
   "execution_count": 15,
   "id": "4197529b-d383-40be-bb9b-acb801b6ecca",
   "metadata": {},
   "outputs": [
    {
     "data": {
      "text/plain": [
       "       id        score      \n",
       " Min.   :1   Min.   :85.00  \n",
       " 1st Qu.:2   1st Qu.:86.50  \n",
       " Median :3   Median :88.00  \n",
       " Mean   :3   Mean   :87.67  \n",
       " 3rd Qu.:4   3rd Qu.:89.00  \n",
       " Max.   :5   Max.   :90.00  \n",
       "             NA's   :2      "
      ]
     },
     "metadata": {},
     "output_type": "display_data"
    }
   ],
   "source": [
    "summary(df)"
   ]
  },
  {
   "cell_type": "code",
   "execution_count": 16,
   "id": "08c23ca6-b717-4db8-9cae-ee249912b2a5",
   "metadata": {},
   "outputs": [
    {
     "data": {
      "text/html": [
       "<ol class=list-inline>\n",
       "\t<li>FALSE</li>\n",
       "\t<li>FALSE</li>\n",
       "\t<li>TRUE</li>\n",
       "\t<li>FALSE</li>\n",
       "\t<li>TRUE</li>\n",
       "</ol>\n"
      ],
      "text/latex": [
       "\\begin{enumerate*}\n",
       "\\item FALSE\n",
       "\\item FALSE\n",
       "\\item TRUE\n",
       "\\item FALSE\n",
       "\\item TRUE\n",
       "\\end{enumerate*}\n"
      ],
      "text/markdown": [
       "1. FALSE\n",
       "2. FALSE\n",
       "3. TRUE\n",
       "4. FALSE\n",
       "5. TRUE\n",
       "\n",
       "\n"
      ],
      "text/plain": [
       "[1] FALSE FALSE  TRUE FALSE  TRUE"
      ]
     },
     "metadata": {},
     "output_type": "display_data"
    }
   ],
   "source": [
    "is.na(df$score)"
   ]
  },
  {
   "cell_type": "markdown",
   "id": "4c18b2fb",
   "metadata": {},
   "source": [
    "## Summary\n",
    "\n",
    "| Task                       | Function / Syntax                   |\n",
    "|----------------------------|-------------------------------------|\n",
    "| Mean, median, std dev      | `mean()`, `median()`, `sd()`        |\n",
    "| Detect NA                  | `is.na()`, `sum(is.na())`           |\n",
    "| Remove NAs                 | `na.omit()`                         |\n",
    "| Replace NAs                | `ifelse(is.na(x), value, x)`        |\n",
    "| Summary for data frames    | `summary(df)`|\n"
   ]
  }
 ],
 "metadata": {
  "kernelspec": {
   "display_name": "R",
   "language": "R",
   "name": "ir"
  },
  "language_info": {
   "codemirror_mode": "r",
   "file_extension": ".r",
   "mimetype": "text/x-r-source",
   "name": "R",
   "pygments_lexer": "r",
   "version": "3.6.1"
  }
 },
 "nbformat": 4,
 "nbformat_minor": 5
}
