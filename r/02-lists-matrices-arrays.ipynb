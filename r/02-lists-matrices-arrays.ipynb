{
 "cells": [
  {
   "cell_type": "markdown",
   "id": "04449059",
   "metadata": {},
   "source": [
    "# 02 – Lists, Matrices, and Arrays\n",
    "\n",
    "Core R concepts: creating and working with compound data structures.\n",
    "\n",
    "*Part of the [Foundations: Python, R & SQL](../README.md) series.*"
   ]
  },
  {
   "cell_type": "markdown",
   "id": "c9a875d8",
   "metadata": {},
   "source": [
    "## 1. Lists\n",
    "\n",
    "Lists can contain elements of different types and structures. Useful for grouped results or complex data."
   ]
  },
  {
   "cell_type": "code",
   "execution_count": 1,
   "id": "5f2af186",
   "metadata": {},
   "outputs": [],
   "source": [
    "# Create a list\n",
    "person <- list(name = \"Alice\", age = 30, scores = c(90, 85, 88))"
   ]
  },
  {
   "cell_type": "code",
   "execution_count": 2,
   "id": "62f7fc3a-0e09-4ad7-9a1f-d26c6aef6cb9",
   "metadata": {},
   "outputs": [
    {
     "data": {
      "text/html": [
       "'Alice'"
      ],
      "text/latex": [
       "'Alice'"
      ],
      "text/markdown": [
       "'Alice'"
      ],
      "text/plain": [
       "[1] \"Alice\""
      ]
     },
     "metadata": {},
     "output_type": "display_data"
    },
    {
     "data": {
      "text/html": [
       "<ol class=list-inline>\n",
       "\t<li>90</li>\n",
       "\t<li>85</li>\n",
       "\t<li>88</li>\n",
       "</ol>\n"
      ],
      "text/latex": [
       "\\begin{enumerate*}\n",
       "\\item 90\n",
       "\\item 85\n",
       "\\item 88\n",
       "\\end{enumerate*}\n"
      ],
      "text/markdown": [
       "1. 90\n",
       "2. 85\n",
       "3. 88\n",
       "\n",
       "\n"
      ],
      "text/plain": [
       "[1] 90 85 88"
      ]
     },
     "metadata": {},
     "output_type": "display_data"
    },
    {
     "data": {
      "text/html": [
       "85"
      ],
      "text/latex": [
       "85"
      ],
      "text/markdown": [
       "85"
      ],
      "text/plain": [
       "[1] 85"
      ]
     },
     "metadata": {},
     "output_type": "display_data"
    }
   ],
   "source": [
    "# Access elements\n",
    "person$name\n",
    "person[[\"scores\"]]\n",
    "person[[3]][2]  # second score"
   ]
  },
  {
   "cell_type": "markdown",
   "id": "9105f4f8",
   "metadata": {},
   "source": [
    "## 2. Matrices\n",
    "\n",
    "Matrices are 2D structures with homogeneous data types. Created using the `matrix()` function."
   ]
  },
  {
   "cell_type": "code",
   "execution_count": 3,
   "id": "3cc6e286",
   "metadata": {},
   "outputs": [
    {
     "name": "stdout",
     "output_type": "stream",
     "text": [
      "     [,1] [,2] [,3]\n",
      "[1,]    1    3    5\n",
      "[2,]    2    4    6\n"
     ]
    }
   ],
   "source": [
    "# Create a matrix (fill by column)\n",
    "m1 <- matrix(1:6, nrow = 2, ncol = 3)\n",
    "print(m1)"
   ]
  },
  {
   "cell_type": "code",
   "execution_count": 4,
   "id": "0dae39b3-8ef7-4f19-bf5a-916565233b55",
   "metadata": {},
   "outputs": [
    {
     "name": "stdout",
     "output_type": "stream",
     "text": [
      "[1] 3\n"
     ]
    }
   ],
   "source": [
    "# Access elements\n",
    "print(m1[1, 2])"
   ]
  },
  {
   "cell_type": "code",
   "execution_count": 5,
   "id": "503f6b8b-efaa-4c12-a1d7-244b910edebb",
   "metadata": {},
   "outputs": [
    {
     "data": {
      "text/html": [
       "<ol class=list-inline>\n",
       "\t<li>5</li>\n",
       "\t<li>6</li>\n",
       "</ol>\n"
      ],
      "text/latex": [
       "\\begin{enumerate*}\n",
       "\\item 5\n",
       "\\item 6\n",
       "\\end{enumerate*}\n"
      ],
      "text/markdown": [
       "1. 5\n",
       "2. 6\n",
       "\n",
       "\n"
      ],
      "text/plain": [
       "[1] 5 6"
      ]
     },
     "metadata": {},
     "output_type": "display_data"
    }
   ],
   "source": [
    "m1[, 3]  # third column"
   ]
  },
  {
   "cell_type": "markdown",
   "id": "44efb849",
   "metadata": {},
   "source": [
    "### Matrix operations"
   ]
  },
  {
   "cell_type": "code",
   "execution_count": 6,
   "id": "8c9ee73d",
   "metadata": {},
   "outputs": [
    {
     "name": "stdout",
     "output_type": "stream",
     "text": [
      "     [,1] [,2] [,3]\n",
      "[1,]    6    4    2\n",
      "[2,]    5    3    1\n"
     ]
    }
   ],
   "source": [
    "# Basic arithmetic\n",
    "m2 <- matrix(6:1, nrow = 2)\n",
    "print(m2)"
   ]
  },
  {
   "cell_type": "code",
   "execution_count": 7,
   "id": "1c437009-f204-4a62-9429-ee4ac0b6bba7",
   "metadata": {},
   "outputs": [
    {
     "data": {
      "text/html": [
       "<table>\n",
       "<tbody>\n",
       "\t<tr><td>7</td><td>7</td><td>7</td></tr>\n",
       "\t<tr><td>7</td><td>7</td><td>7</td></tr>\n",
       "</tbody>\n",
       "</table>\n"
      ],
      "text/latex": [
       "\\begin{tabular}{lll}\n",
       "\t 7 & 7 & 7\\\\\n",
       "\t 7 & 7 & 7\\\\\n",
       "\\end{tabular}\n"
      ],
      "text/markdown": [
       "\n",
       "| 7 | 7 | 7 |\n",
       "| 7 | 7 | 7 |\n",
       "\n"
      ],
      "text/plain": [
       "     [,1] [,2] [,3]\n",
       "[1,] 7    7    7   \n",
       "[2,] 7    7    7   "
      ]
     },
     "metadata": {},
     "output_type": "display_data"
    },
    {
     "data": {
      "text/html": [
       "<table>\n",
       "<tbody>\n",
       "\t<tr><td> 6</td><td>12</td><td>10</td></tr>\n",
       "\t<tr><td>10</td><td>12</td><td> 6</td></tr>\n",
       "</tbody>\n",
       "</table>\n"
      ],
      "text/latex": [
       "\\begin{tabular}{lll}\n",
       "\t  6 & 12 & 10\\\\\n",
       "\t 10 & 12 &  6\\\\\n",
       "\\end{tabular}\n"
      ],
      "text/markdown": [
       "\n",
       "|  6 | 12 | 10 |\n",
       "| 10 | 12 |  6 |\n",
       "\n"
      ],
      "text/plain": [
       "     [,1] [,2] [,3]\n",
       "[1,]  6   12   10  \n",
       "[2,] 10   12    6  "
      ]
     },
     "metadata": {},
     "output_type": "display_data"
    }
   ],
   "source": [
    "# Operations\n",
    "m1 + m2\n",
    "m1 * m2"
   ]
  },
  {
   "cell_type": "markdown",
   "id": "ca6896f9",
   "metadata": {},
   "source": [
    "## 3. Arrays\n",
    "\n",
    "Arrays extend matrices to more than two dimensions."
   ]
  },
  {
   "cell_type": "code",
   "execution_count": 8,
   "id": "4808b2ab",
   "metadata": {},
   "outputs": [
    {
     "name": "stdout",
     "output_type": "stream",
     "text": [
      ", , 1\n",
      "\n",
      "     [,1] [,2]\n",
      "[1,]    1    3\n",
      "[2,]    2    4\n",
      "\n",
      ", , 2\n",
      "\n",
      "     [,1] [,2]\n",
      "[1,]    5    7\n",
      "[2,]    6    8\n",
      "\n"
     ]
    }
   ],
   "source": [
    "# Create a 3D array\n",
    "a <- array(1:8, dim = c(2, 2, 2))\n",
    "print(a)"
   ]
  },
  {
   "cell_type": "code",
   "execution_count": 9,
   "id": "145b81bd-6489-4fa3-980e-99e5b97c0b4b",
   "metadata": {},
   "outputs": [
    {
     "data": {
      "text/html": [
       "3"
      ],
      "text/latex": [
       "3"
      ],
      "text/markdown": [
       "3"
      ],
      "text/plain": [
       "[1] 3"
      ]
     },
     "metadata": {},
     "output_type": "display_data"
    },
    {
     "data": {
      "text/html": [
       "<table>\n",
       "<tbody>\n",
       "\t<tr><td>5</td><td>7</td></tr>\n",
       "\t<tr><td>6</td><td>8</td></tr>\n",
       "</tbody>\n",
       "</table>\n"
      ],
      "text/latex": [
       "\\begin{tabular}{ll}\n",
       "\t 5 & 7\\\\\n",
       "\t 6 & 8\\\\\n",
       "\\end{tabular}\n"
      ],
      "text/markdown": [
       "\n",
       "| 5 | 7 |\n",
       "| 6 | 8 |\n",
       "\n"
      ],
      "text/plain": [
       "     [,1] [,2]\n",
       "[1,] 5    7   \n",
       "[2,] 6    8   "
      ]
     },
     "metadata": {},
     "output_type": "display_data"
    }
   ],
   "source": [
    "# Accessing elements\n",
    "a[1, 2, 1]\n",
    "a[, , 2]  # second layer"
   ]
  },
  {
   "cell_type": "markdown",
   "id": "b5de4e7a",
   "metadata": {},
   "source": [
    "## Summary\n",
    "\n",
    "| Structure | Type        | Dimensions | Key Feature                     |\n",
    "|-----------|-------------|------------|----------------------------------|\n",
    "| List      | Heterogeneous | 1D        | Flexible grouping                |\n",
    "| Matrix    | Homogeneous   | 2D        | Numeric operations, compact form|\n",
    "| Array     | Homogeneous   | 3D+       | Multidimensional data support    |"
   ]
  }
 ],
 "metadata": {
  "kernelspec": {
   "display_name": "R",
   "language": "R",
   "name": "ir"
  },
  "language_info": {
   "codemirror_mode": "r",
   "file_extension": ".r",
   "mimetype": "text/x-r-source",
   "name": "R",
   "pygments_lexer": "r",
   "version": "3.6.1"
  }
 },
 "nbformat": 4,
 "nbformat_minor": 5
}
