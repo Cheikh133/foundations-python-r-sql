{
 "cells": [
  {
   "cell_type": "markdown",
   "id": "180efcb2",
   "metadata": {},
   "source": [
    "# 07 – Mini Project\n",
    "\n",
    "Example combining NumPy and Pandas to simulate and analyze product sales.\n",
    "\n",
    "---\n",
    "\n",
    "Part of the [Foundations: Python, R & SQL](../README.md) repository.\n"
   ]
  },
  {
   "cell_type": "markdown",
   "id": "c69908dd",
   "metadata": {},
   "source": [
    "## Objective\n",
    "\n",
    "Simulate a small dataset of product sales and compute basic indicators:\n",
    "- total revenue per region\n",
    "- units sold per product\n",
    "- apply a discount scenario and compare impact"
   ]
  },
  {
   "cell_type": "markdown",
   "id": "03b418e3",
   "metadata": {},
   "source": [
    "## 1. Simulate Data"
   ]
  },
  {
   "cell_type": "code",
   "execution_count": 1,
   "id": "12f7f1ae",
   "metadata": {},
   "outputs": [
    {
     "data": {
      "text/html": [
       "<div>\n",
       "<style scoped>\n",
       "    .dataframe tbody tr th:only-of-type {\n",
       "        vertical-align: middle;\n",
       "    }\n",
       "\n",
       "    .dataframe tbody tr th {\n",
       "        vertical-align: top;\n",
       "    }\n",
       "\n",
       "    .dataframe thead th {\n",
       "        text-align: right;\n",
       "    }\n",
       "</style>\n",
       "<table border=\"1\" class=\"dataframe\">\n",
       "  <thead>\n",
       "    <tr style=\"text-align: right;\">\n",
       "      <th></th>\n",
       "      <th>product</th>\n",
       "      <th>region</th>\n",
       "      <th>units_sold</th>\n",
       "      <th>unit_price</th>\n",
       "    </tr>\n",
       "  </thead>\n",
       "  <tbody>\n",
       "    <tr>\n",
       "      <th>0</th>\n",
       "      <td>Wireless Mouse</td>\n",
       "      <td>West</td>\n",
       "      <td>3</td>\n",
       "      <td>36.35</td>\n",
       "    </tr>\n",
       "    <tr>\n",
       "      <th>1</th>\n",
       "      <td>USB-C Cable</td>\n",
       "      <td>West</td>\n",
       "      <td>7</td>\n",
       "      <td>44.16</td>\n",
       "    </tr>\n",
       "    <tr>\n",
       "      <th>2</th>\n",
       "      <td>Wireless Mouse</td>\n",
       "      <td>North</td>\n",
       "      <td>4</td>\n",
       "      <td>21.07</td>\n",
       "    </tr>\n",
       "    <tr>\n",
       "      <th>3</th>\n",
       "      <td>Wireless Mouse</td>\n",
       "      <td>North</td>\n",
       "      <td>9</td>\n",
       "      <td>28.69</td>\n",
       "    </tr>\n",
       "    <tr>\n",
       "      <th>4</th>\n",
       "      <td>USB-C Cable</td>\n",
       "      <td>West</td>\n",
       "      <td>3</td>\n",
       "      <td>21.38</td>\n",
       "    </tr>\n",
       "  </tbody>\n",
       "</table>\n",
       "</div>"
      ],
      "text/plain": [
       "          product region  units_sold  unit_price\n",
       "0  Wireless Mouse   West           3       36.35\n",
       "1     USB-C Cable   West           7       44.16\n",
       "2  Wireless Mouse  North           4       21.07\n",
       "3  Wireless Mouse  North           9       28.69\n",
       "4     USB-C Cable   West           3       21.38"
      ]
     },
     "execution_count": 1,
     "metadata": {},
     "output_type": "execute_result"
    }
   ],
   "source": [
    "import pandas as pd\n",
    "import numpy as np\n",
    "\n",
    "np.random.seed(42)\n",
    "\n",
    "products = ['USB-C Cable', 'HDMI Adapter', 'Wireless Mouse']\n",
    "regions = ['North', 'South', 'East', 'West']\n",
    "\n",
    "data = {\n",
    "    'product': np.random.choice(products, size=20),\n",
    "    'region': np.random.choice(regions, size=20),\n",
    "    'units_sold': np.random.randint(1, 10, size=20),\n",
    "    'unit_price': np.random.uniform(15, 50, size=20).round(2)\n",
    "}\n",
    "\n",
    "df = pd.DataFrame(data)\n",
    "df.head()"
   ]
  },
  {
   "cell_type": "markdown",
   "id": "2b5ad9c4",
   "metadata": {},
   "source": [
    "## 2. Revenue Calculation"
   ]
  },
  {
   "cell_type": "code",
   "execution_count": 2,
   "id": "dc81c597",
   "metadata": {},
   "outputs": [
    {
     "data": {
      "text/html": [
       "<div>\n",
       "<style scoped>\n",
       "    .dataframe tbody tr th:only-of-type {\n",
       "        vertical-align: middle;\n",
       "    }\n",
       "\n",
       "    .dataframe tbody tr th {\n",
       "        vertical-align: top;\n",
       "    }\n",
       "\n",
       "    .dataframe thead th {\n",
       "        text-align: right;\n",
       "    }\n",
       "</style>\n",
       "<table border=\"1\" class=\"dataframe\">\n",
       "  <thead>\n",
       "    <tr style=\"text-align: right;\">\n",
       "      <th></th>\n",
       "      <th>product</th>\n",
       "      <th>region</th>\n",
       "      <th>units_sold</th>\n",
       "      <th>unit_price</th>\n",
       "      <th>revenue</th>\n",
       "    </tr>\n",
       "  </thead>\n",
       "  <tbody>\n",
       "    <tr>\n",
       "      <th>0</th>\n",
       "      <td>Wireless Mouse</td>\n",
       "      <td>West</td>\n",
       "      <td>3</td>\n",
       "      <td>36.35</td>\n",
       "      <td>109.05</td>\n",
       "    </tr>\n",
       "    <tr>\n",
       "      <th>1</th>\n",
       "      <td>USB-C Cable</td>\n",
       "      <td>West</td>\n",
       "      <td>7</td>\n",
       "      <td>44.16</td>\n",
       "      <td>309.12</td>\n",
       "    </tr>\n",
       "    <tr>\n",
       "      <th>2</th>\n",
       "      <td>Wireless Mouse</td>\n",
       "      <td>North</td>\n",
       "      <td>4</td>\n",
       "      <td>21.07</td>\n",
       "      <td>84.28</td>\n",
       "    </tr>\n",
       "    <tr>\n",
       "      <th>3</th>\n",
       "      <td>Wireless Mouse</td>\n",
       "      <td>North</td>\n",
       "      <td>9</td>\n",
       "      <td>28.69</td>\n",
       "      <td>258.21</td>\n",
       "    </tr>\n",
       "    <tr>\n",
       "      <th>4</th>\n",
       "      <td>USB-C Cable</td>\n",
       "      <td>West</td>\n",
       "      <td>3</td>\n",
       "      <td>21.38</td>\n",
       "      <td>64.14</td>\n",
       "    </tr>\n",
       "  </tbody>\n",
       "</table>\n",
       "</div>"
      ],
      "text/plain": [
       "          product region  units_sold  unit_price  revenue\n",
       "0  Wireless Mouse   West           3       36.35   109.05\n",
       "1     USB-C Cable   West           7       44.16   309.12\n",
       "2  Wireless Mouse  North           4       21.07    84.28\n",
       "3  Wireless Mouse  North           9       28.69   258.21\n",
       "4     USB-C Cable   West           3       21.38    64.14"
      ]
     },
     "execution_count": 2,
     "metadata": {},
     "output_type": "execute_result"
    }
   ],
   "source": [
    "df['revenue'] = df['units_sold'] * df['unit_price']\n",
    "df.head()"
   ]
  },
  {
   "cell_type": "markdown",
   "id": "8f7d6aab",
   "metadata": {},
   "source": [
    "## 3. Aggregated Indicators"
   ]
  },
  {
   "cell_type": "code",
   "execution_count": 3,
   "id": "43e220d7",
   "metadata": {},
   "outputs": [
    {
     "data": {
      "text/plain": [
       "region\n",
       "West     1330.40\n",
       "North     954.71\n",
       "East      915.59\n",
       "South     377.74\n",
       "Name: revenue, dtype: float64"
      ]
     },
     "execution_count": 3,
     "metadata": {},
     "output_type": "execute_result"
    }
   ],
   "source": [
    "# Total revenue per region\n",
    "df.groupby('region')['revenue'].sum().sort_values(ascending=False)"
   ]
  },
  {
   "cell_type": "code",
   "execution_count": 4,
   "id": "357f5f3f",
   "metadata": {},
   "outputs": [
    {
     "data": {
      "text/plain": [
       "product\n",
       "Wireless Mouse    51\n",
       "USB-C Cable       28\n",
       "HDMI Adapter      27\n",
       "Name: units_sold, dtype: int32"
      ]
     },
     "execution_count": 4,
     "metadata": {},
     "output_type": "execute_result"
    }
   ],
   "source": [
    "# Units sold per product\n",
    "df.groupby('product')['units_sold'].sum().sort_values(ascending=False)"
   ]
  },
  {
   "cell_type": "markdown",
   "id": "27891048",
   "metadata": {},
   "source": [
    "## 4. Promotion Scenario\n",
    "\n",
    "Apply a 10% discount on all products and compute new revenue."
   ]
  },
  {
   "cell_type": "code",
   "execution_count": 5,
   "id": "4de64ae5",
   "metadata": {},
   "outputs": [
    {
     "name": "stdout",
     "output_type": "stream",
     "text": [
      "Revenue loss due to discount: $357.84\n"
     ]
    }
   ],
   "source": [
    "df['discounted_price'] = df['unit_price'] * 0.9 # df['unit_price']-0.1*df['unit_price']\n",
    "df['new_revenue'] = df['discounted_price'] * df['units_sold']\n",
    "impact = df['revenue'].sum() - df['new_revenue'].sum()\n",
    "print(f\"Revenue loss due to discount: ${impact:.2f}\")"
   ]
  },
  {
   "cell_type": "markdown",
   "id": "1686489e",
   "metadata": {},
   "source": [
    "## Summary\n",
    "\n",
    "- Simulated realistic product sales data\n",
    "- Calculated key metrics with pandas\n",
    "- Applied a pricing scenario and measured the impact"
   ]
  }
 ],
 "metadata": {
  "kernelspec": {
   "display_name": "Python [conda env:base] *",
   "language": "python",
   "name": "conda-base-py"
  },
  "language_info": {
   "codemirror_mode": {
    "name": "ipython",
    "version": 3
   },
   "file_extension": ".py",
   "mimetype": "text/x-python",
   "name": "python",
   "nbconvert_exporter": "python",
   "pygments_lexer": "ipython3",
   "version": "3.12.7"
  }
 },
 "nbformat": 4,
 "nbformat_minor": 5
}
