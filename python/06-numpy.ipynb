{
 "cells": [
  {
   "cell_type": "markdown",
   "id": "5215afc8",
   "metadata": {},
   "source": [
    "# 06 – NumPy\n",
    "\n",
    "Core operations using NumPy arrays: creation, manipulation, computation, and selection.\n",
    "\n",
    "---\n",
    "\n",
    "Part of the [Foundations: Python, R & SQL](../README.md) repository.\n"
   ]
  },
  {
   "cell_type": "markdown",
   "id": "9bf40563",
   "metadata": {},
   "source": [
    "## 1. Creating Arrays\n",
    "\n",
    "Use `np.array`, `np.zeros`, or `np.ones` to create NumPy arrays."
   ]
  },
  {
   "cell_type": "code",
   "execution_count": 1,
   "id": "cfe96f2f",
   "metadata": {},
   "outputs": [
    {
     "data": {
      "text/plain": [
       "(array([1, 2, 3]),\n",
       " array([[0., 0., 0.],\n",
       "        [0., 0., 0.]]),\n",
       " array([[1., 1.],\n",
       "        [1., 1.]]))"
      ]
     },
     "execution_count": 1,
     "metadata": {},
     "output_type": "execute_result"
    }
   ],
   "source": [
    "import numpy as np\n",
    "\n",
    "a = np.array([1, 2, 3])\n",
    "b = np.zeros((2, 3))\n",
    "c = np.ones((2, 2))\n",
    "a, b, c"
   ]
  },
  {
   "cell_type": "markdown",
   "id": "9fd784f5",
   "metadata": {},
   "source": [
    "## 2. Indexing and Slicing"
   ]
  },
  {
   "cell_type": "code",
   "execution_count": 2,
   "id": "bd591135",
   "metadata": {},
   "outputs": [
    {
     "name": "stdout",
     "output_type": "stream",
     "text": [
      "Element at row 0, col 1: 2\n",
      "First row: [1 2 3]\n"
     ]
    },
    {
     "data": {
      "text/plain": [
       "array([[0, 0, 0],\n",
       "       [0, 5, 6]])"
      ]
     },
     "execution_count": 2,
     "metadata": {},
     "output_type": "execute_result"
    }
   ],
   "source": [
    "x = np.array([[1, 2, 3], \n",
    "              [4, 5, 6]])\n",
    "print(\"Element at row 0, col 1:\", x[0, 1])\n",
    "print(\"First row:\", x[0, :])\n",
    "x[x < 5] = 0\n",
    "x"
   ]
  },
  {
   "cell_type": "markdown",
   "id": "0bcd01a4",
   "metadata": {},
   "source": [
    "## 3. Mathematical Operations"
   ]
  },
  {
   "cell_type": "code",
   "execution_count": 3,
   "id": "7f61f998",
   "metadata": {},
   "outputs": [
    {
     "data": {
      "text/plain": [
       "(array([ 2.71828183,  7.3890561 , 20.08553692]),\n",
       " array([0.84147098, 0.90929743, 0.14112001]),\n",
       " array([0.        , 0.69314718, 1.09861229]),\n",
       " array([3, 4, 5]),\n",
       " array([3, 6, 9]))"
      ]
     },
     "execution_count": 3,
     "metadata": {},
     "output_type": "execute_result"
    }
   ],
   "source": [
    "x = np.array([1, 2, 3])\n",
    "np.exp(x), np.sin(x), np.log(x), x + 2, x * 3"
   ]
  },
  {
   "cell_type": "markdown",
   "id": "6e12be65",
   "metadata": {},
   "source": [
    "## 4. Statistical Methods"
   ]
  },
  {
   "cell_type": "code",
   "execution_count": 4,
   "id": "b01cf2d3",
   "metadata": {},
   "outputs": [
    {
     "data": {
      "text/plain": [
       "(5.5, 22, 2, 9, 2.692582403567252, 2, 3)"
      ]
     },
     "execution_count": 4,
     "metadata": {},
     "output_type": "execute_result"
    }
   ],
   "source": [
    "x = np.array([4, 7, 2, 9])\n",
    "x.mean(), x.sum(), x.min(), x.max(), x.std(), x.argmin(), x.argmax()"
   ]
  },
  {
   "cell_type": "markdown",
   "id": "ed22ee2d",
   "metadata": {},
   "source": [
    "## 5. Transposing Arrays"
   ]
  },
  {
   "cell_type": "code",
   "execution_count": 5,
   "id": "b28d49b8",
   "metadata": {},
   "outputs": [
    {
     "data": {
      "text/plain": [
       "array([[1, 3],\n",
       "       [2, 4]])"
      ]
     },
     "execution_count": 5,
     "metadata": {},
     "output_type": "execute_result"
    }
   ],
   "source": [
    "mat = np.array([[1, 2], \n",
    "                [3, 4]])\n",
    "mat.T"
   ]
  },
  {
   "cell_type": "markdown",
   "id": "9de68f1c",
   "metadata": {},
   "source": [
    "## 6. Conditional Indexing"
   ]
  },
  {
   "cell_type": "code",
   "execution_count": 6,
   "id": "d605b42d",
   "metadata": {},
   "outputs": [
    {
     "data": {
      "text/plain": [
       "array([[15, 30]])"
      ]
     },
     "execution_count": 6,
     "metadata": {},
     "output_type": "execute_result"
    }
   ],
   "source": [
    "x = np.array([[5, 10], \n",
    "              [15, 30], \n",
    "              [20, 45]])\n",
    "x[(x[:, 1] > 10) & (x[:, 1] <= 40)]"
   ]
  },
  {
   "cell_type": "markdown",
   "id": "2f8c662e",
   "metadata": {},
   "source": [
    "## 7. Combining Arrays"
   ]
  },
  {
   "cell_type": "code",
   "execution_count": 7,
   "id": "9deef853",
   "metadata": {},
   "outputs": [
    {
     "data": {
      "text/plain": [
       "array([[ 1, 10],\n",
       "       [ 2, 20],\n",
       "       [ 3, 30]])"
      ]
     },
     "execution_count": 7,
     "metadata": {},
     "output_type": "execute_result"
    }
   ],
   "source": [
    "a = np.array([1, 2, 3])\n",
    "b = np.array([10, 20, 30])\n",
    "np.column_stack((a, b))"
   ]
  },
  {
   "cell_type": "markdown",
   "id": "b907f210",
   "metadata": {},
   "source": [
    "## 8. Computing Business Metrics"
   ]
  },
  {
   "cell_type": "code",
   "execution_count": 8,
   "id": "f6afad72",
   "metadata": {},
   "outputs": [
    {
     "data": {
      "text/plain": [
       "95"
      ]
     },
     "execution_count": 8,
     "metadata": {},
     "output_type": "execute_result"
    }
   ],
   "source": [
    "unit_price = np.array([10, 15, 20])\n",
    "quantities = np.array([1, 3, 2])\n",
    "ca = unit_price * quantities\n",
    "ca.sum()  # Total revenue"
   ]
  },
  {
   "cell_type": "markdown",
   "id": "43abdf10",
   "metadata": {},
   "source": [
    "## 9. Unique Values"
   ]
  },
  {
   "cell_type": "code",
   "execution_count": 9,
   "id": "10061702",
   "metadata": {},
   "outputs": [
    {
     "data": {
      "text/plain": [
       "(array([1, 2, 3, 4]), array([2, 2, 1, 1], dtype=int64))"
      ]
     },
     "execution_count": 9,
     "metadata": {},
     "output_type": "execute_result"
    }
   ],
   "source": [
    "x = np.array([1, 2, 2, 3, 1, 4])\n",
    "np.unique(x, return_counts=True)"
   ]
  },
  {
   "cell_type": "markdown",
   "id": "fdf2e3b7",
   "metadata": {},
   "source": [
    "## 10. Applying Promotions"
   ]
  },
  {
   "cell_type": "code",
   "execution_count": 10,
   "id": "0080ebfc",
   "metadata": {},
   "outputs": [
    {
     "data": {
      "text/plain": [
       "88.5"
      ]
     },
     "execution_count": 10,
     "metadata": {},
     "output_type": "execute_result"
    }
   ],
   "source": [
    "promotions = np.array([0.8, 0.9, 1.0])  # discount factors\n",
    "new_prices = unit_price * promotions\n",
    "new_ca = (new_prices * quantities).sum()\n",
    "new_ca"
   ]
  },
  {
   "cell_type": "markdown",
   "id": "6f895dfe",
   "metadata": {},
   "source": [
    "## Summary Table\n",
    "\n",
    "| Functionality             | Syntax / Usage                               | Description                                  |\n",
    "|---------------------------|-----------------------------------------------|----------------------------------------------|\n",
    "| Array Creation            | `np.zeros()`, `np.ones()`, `np.array()`       | Create arrays with fixed shape and values    |\n",
    "| Indexing and Slicing      | `x[i, j]`, `x[start:stop, :]`                 | Access parts of an array                     |\n",
    "| Mathematical Operations   | `np.exp(x)`              | Element-wise computation                     |\n",
    "| Statistics                | `mean()`, `sum()`, `std()`, `argmax()`        | Analyze numeric arrays                       |\n",
    "| Transpose                 | `x.T`                                         | Flip rows and columns                        |\n",
    "| Conditional Indexing      | `x[x < 0]`, `x[x[:,1] > 10]`                  | Filter elements based on conditions          |\n",
    "| Combine Arrays            | `np.column_stack((A, B))`                     | Merge arrays column-wise                     |\n",
    "| Unique Elements           | `np.unique(x, return_counts=True)`            | Count distinct elements                      |"
   ]
  }
 ],
 "metadata": {
  "kernelspec": {
   "display_name": "Python [conda env:base] *",
   "language": "python",
   "name": "conda-base-py"
  },
  "language_info": {
   "codemirror_mode": {
    "name": "ipython",
    "version": 3
   },
   "file_extension": ".py",
   "mimetype": "text/x-python",
   "name": "python",
   "nbconvert_exporter": "python",
   "pygments_lexer": "ipython3",
   "version": "3.12.7"
  }
 },
 "nbformat": 4,
 "nbformat_minor": 5
}
