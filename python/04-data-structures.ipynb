{
 "cells": [
  {
   "cell_type": "markdown",
   "id": "ca4a9d08",
   "metadata": {},
   "source": [
    "# 04 – Data Structures\n",
    "\n",
    "Core Python concepts: working with lists, tuples, dictionaries, and sets.\n",
    "\n",
    "---\n",
    "\n",
    "Part of the [Foundations: Python, R & SQL](../README.md) repository.\n"
   ]
  },
  {
   "cell_type": "markdown",
   "id": "0dd971ba",
   "metadata": {},
   "source": [
    "## 1. Lists\n",
    "\n",
    "Ordered, mutable collections.\n",
    "Access elements with indices. Add, remove, or update items."
   ]
  },
  {
   "cell_type": "code",
   "execution_count": 1,
   "id": "586a7210",
   "metadata": {},
   "outputs": [
    {
     "name": "stdout",
     "output_type": "stream",
     "text": [
      "apple\n",
      "['apple', 'grape', 'orange']\n"
     ]
    }
   ],
   "source": [
    "fruits = ['apple', 'banana', 'cherry']\n",
    "print(fruits[0])  # apple\n",
    "\n",
    "fruits.append('orange')\n",
    "fruits.remove('banana')\n",
    "fruits[1] = 'grape'\n",
    "print(fruits)"
   ]
  },
  {
   "cell_type": "markdown",
   "id": "44ac2722",
   "metadata": {},
   "source": [
    "## 2. Tuples\n",
    "\n",
    "Ordered, immutable collections. Useful for fixed data."
   ]
  },
  {
   "cell_type": "code",
   "execution_count": 2,
   "id": "f67fef7d",
   "metadata": {},
   "outputs": [
    {
     "name": "stdout",
     "output_type": "stream",
     "text": [
      "Width: 1920\n",
      "Height: 1080\n"
     ]
    }
   ],
   "source": [
    "dimensions = (1920, 1080)\n",
    "print(f\"Width: {dimensions[0]}\")\n",
    "print(f\"Height: {dimensions[1]}\")"
   ]
  },
  {
   "cell_type": "markdown",
   "id": "6b197fc2",
   "metadata": {},
   "source": [
    "## 3. Dictionaries\n",
    "\n",
    "Mutable key-value pairs for structured and efficient data access.  \n",
    "Each key must be unique."
   ]
  },
  {
   "cell_type": "code",
   "execution_count": 3,
   "id": "022d6873",
   "metadata": {},
   "outputs": [
    {
     "name": "stdout",
     "output_type": "stream",
     "text": [
      "Alice\n",
      "{'name': 'Alice', 'age': 31, 'is_member': True, 'city': 'Paris'}\n"
     ]
    }
   ],
   "source": [
    "person = {\n",
    "    'name': 'Alice',\n",
    "    'age': 30,\n",
    "    'is_member': True\n",
    "}\n",
    "\n",
    "print(person['name'])\n",
    "\n",
    "# Modify existing entry\n",
    "person['age'] = 31\n",
    "\n",
    "# Add a new key-value pair\n",
    "person['city'] = 'Paris'\n",
    "\n",
    "print(person)\n"
   ]
  },
  {
   "cell_type": "markdown",
   "id": "5f8d72e7",
   "metadata": {},
   "source": [
    "## 4. Sets\n",
    "\n",
    "Mutable, unordered collections of unique elements.  \n",
    "Elements are not duplicated, and the order is not preserved."
   ]
  },
  {
   "cell_type": "code",
   "execution_count": 4,
   "id": "f38dd884",
   "metadata": {},
   "outputs": [
    {
     "name": "stdout",
     "output_type": "stream",
     "text": [
      "{'yellow', 'green', 'blue'}\n"
     ]
    }
   ],
   "source": [
    "colors = {'red', 'blue', 'green'}\n",
    "colors.add('yellow')\n",
    "colors.add('blue')  # no effect, already present\n",
    "colors.remove('red')\n",
    "print(colors)"
   ]
  },
  {
   "cell_type": "markdown",
   "id": "b291f55b",
   "metadata": {},
   "source": [
    "## Summary\n",
    "\n",
    "- Use **lists** for ordered, mutable sequences\n",
    "- Use **tuples** for ordered, immutable collections\n",
    "- Use **dictionaries** for mutable key-value mappings (unique keys)\n",
    "- Use **sets** for mutable, unordered collections of unique elements"
   ]
  }
 ],
 "metadata": {
  "kernelspec": {
   "display_name": "Python [conda env:base] *",
   "language": "python",
   "name": "conda-base-py"
  },
  "language_info": {
   "codemirror_mode": {
    "name": "ipython",
    "version": 3
   },
   "file_extension": ".py",
   "mimetype": "text/x-python",
   "name": "python",
   "nbconvert_exporter": "python",
   "pygments_lexer": "ipython3",
   "version": "3.12.7"
  }
 },
 "nbformat": 4,
 "nbformat_minor": 5
}
