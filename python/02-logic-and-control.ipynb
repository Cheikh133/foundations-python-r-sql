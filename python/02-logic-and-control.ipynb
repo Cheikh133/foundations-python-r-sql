{
 "cells": [
  {
   "cell_type": "markdown",
   "id": "8a64524b",
   "metadata": {},
   "source": [
    "# 02 – Logic and Control Flow\n",
    "\n",
    "Core Python concepts: conditionals, loops, and logical operators.\n",
    "\n",
    "---\n",
    "\n",
    "Part of the [Foundations: Python, R & SQL](../README.md) repository.\n"
   ]
  },
  {
   "cell_type": "markdown",
   "id": "3abd7107",
   "metadata": {},
   "source": [
    "## 1. Conditional Statements\n",
    "\n",
    "Use `if`, `elif`, and `else` to control the flow based on conditions."
   ]
  },
  {
   "cell_type": "code",
   "execution_count": 1,
   "id": "d36924d8",
   "metadata": {},
   "outputs": [
    {
     "name": "stdout",
     "output_type": "stream",
     "text": [
      "It's mild.\n"
     ]
    }
   ],
   "source": [
    "temperature = 18\n",
    "\n",
    "if temperature > 25:\n",
    "    print(\"It's warm.\")\n",
    "elif temperature > 15:\n",
    "    print(\"It's mild.\")\n",
    "else:\n",
    "    print(\"It's cold.\")"
   ]
  },
  {
   "cell_type": "markdown",
   "id": "2d886aed",
   "metadata": {},
   "source": [
    "## 2. Logical Operators\n",
    "\n",
    "Use `and`, `or`, and `not` to combine or reverse conditions in expressions.age = 20"
   ]
  },
  {
   "cell_type": "code",
   "execution_count": 2,
   "id": "6e2da894",
   "metadata": {},
   "outputs": [
    {
     "name": "stdout",
     "output_type": "stream",
     "text": [
      "Entry allowed.\n",
      "Non-member access\n"
     ]
    }
   ],
   "source": [
    "age = 20\n",
    "has_id = True\n",
    "is_member = False\n",
    "\n",
    "# Access control based on multiple conditions\n",
    "if age >= 18 and has_id:\n",
    "    print(\"Entry allowed.\")\n",
    "else:\n",
    "    print(\"Entry denied.\")\n",
    "\n",
    "# Example with OR\n",
    "if age < 18 or not has_id:\n",
    "    print(\"Verification required.\")\n",
    "\n",
    "# Example with NOT\n",
    "if not is_member:\n",
    "    print(\"Non-member access\")"
   ]
  },
  {
   "cell_type": "markdown",
   "id": "0a767957",
   "metadata": {},
   "source": [
    "## 3. `for` Loops\n",
    "\n",
    "Use `for` to iterate over a sequence."
   ]
  },
  {
   "cell_type": "code",
   "execution_count": 3,
   "id": "9a865869",
   "metadata": {},
   "outputs": [
    {
     "name": "stdout",
     "output_type": "stream",
     "text": [
      "Item: apple\n",
      "Item: banana\n",
      "Item: cherry\n"
     ]
    }
   ],
   "source": [
    "items = ['apple', 'banana', 'cherry']\n",
    "\n",
    "for item in items:\n",
    "    print(\"Item:\", item)"
   ]
  },
  {
   "cell_type": "markdown",
   "id": "536c618d",
   "metadata": {},
   "source": [
    "## 4. `while` Loops\n",
    "\n",
    "`while` loops continue as long as a condition is true."
   ]
  },
  {
   "cell_type": "code",
   "execution_count": 4,
   "id": "9522e10d",
   "metadata": {},
   "outputs": [
    {
     "name": "stdout",
     "output_type": "stream",
     "text": [
      "Count: 0\n",
      "Count: 1\n",
      "Count: 2\n"
     ]
    }
   ],
   "source": [
    "count = 0\n",
    "while count < 3:\n",
    "    print(\"Count:\", count)\n",
    "    count += 1"
   ]
  },
  {
   "cell_type": "markdown",
   "id": "e56d027f",
   "metadata": {},
   "source": [
    "## 5. `break`, `continue`, and `pass`\n",
    "\n",
    "- `break` exits the loop early\n",
    "- `continue` skips the current iteration\n",
    "- `pass` does nothing (placeholder)"
   ]
  },
  {
   "cell_type": "code",
   "execution_count": 5,
   "id": "9cc2212a",
   "metadata": {},
   "outputs": [
    {
     "name": "stdout",
     "output_type": "stream",
     "text": [
      "0\n",
      "1\n",
      "2\n",
      "4\n"
     ]
    }
   ],
   "source": [
    "for number in range(5):\n",
    "    if number == 3:\n",
    "        continue  # skip 3\n",
    "    print(number)"
   ]
  },
  {
   "cell_type": "markdown",
   "id": "1ec2fe87",
   "metadata": {},
   "source": [
    "## Summary\n",
    "\n",
    "- Conditional statements control execution flow\n",
    "- Logical operators combine or negate expressions\n",
    "- Loops repeat actions; `break` and `continue` fine-tune behavior"
   ]
  }
 ],
 "metadata": {
  "kernelspec": {
   "display_name": "Python [conda env:base] *",
   "language": "python",
   "name": "conda-base-py"
  },
  "language_info": {
   "codemirror_mode": {
    "name": "ipython",
    "version": 3
   },
   "file_extension": ".py",
   "mimetype": "text/x-python",
   "name": "python",
   "nbconvert_exporter": "python",
   "pygments_lexer": "ipython3",
   "version": "3.12.7"
  }
 },
 "nbformat": 4,
 "nbformat_minor": 5
}
