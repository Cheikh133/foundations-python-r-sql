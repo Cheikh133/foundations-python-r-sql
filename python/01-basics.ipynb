{
 "cells": [
  {
   "cell_type": "markdown",
   "id": "aaeb719e",
   "metadata": {},
   "source": [
    "# 01 – Basics\n",
    "\n",
    "Core Python concepts: variables, data types, and basic operations.\n",
    "\n",
    "---\n",
    "\n",
    "Part of the [Foundations: Python, R & SQL](../README.md) repository."
   ]
  },
  {
   "cell_type": "markdown",
   "id": "d6666d06",
   "metadata": {},
   "source": [
    "## 1. Variables and Assignment\n",
    "In Python, variables are created by assigning a value using the `=` operator. Variable names should follow standard naming conventions."
   ]
  },
  {
   "cell_type": "code",
   "execution_count": 1,
   "id": "d0e41765",
   "metadata": {},
   "outputs": [],
   "source": [
    "name = \"Alice\"\n",
    "age = 30\n",
    "height = 1.68\n",
    "is_student = True"
   ]
  },
  {
   "cell_type": "markdown",
   "id": "666b1662",
   "metadata": {},
   "source": [
    "Check the type of each variable using `type()`:"
   ]
  },
  {
   "cell_type": "code",
   "execution_count": 2,
   "id": "1ad28a13",
   "metadata": {},
   "outputs": [
    {
     "data": {
      "text/plain": [
       "(str, int, float, bool)"
      ]
     },
     "execution_count": 2,
     "metadata": {},
     "output_type": "execute_result"
    }
   ],
   "source": [
    "type(name), type(age), type(height), type(is_student)"
   ]
  },
  {
   "cell_type": "markdown",
   "id": "d0262b0b",
   "metadata": {},
   "source": [
    "### Naming Rules\n",
    "- Variable names must start with a letter or underscore\n",
    "- Cannot start with a number\n",
    "- Avoid special characters and spaces"
   ]
  },
  {
   "cell_type": "code",
   "execution_count": 3,
   "id": "951c3f01",
   "metadata": {},
   "outputs": [],
   "source": [
    "# Invalid variable name example (uncomment to test)\n",
    "# 1name = \"Invalid\""
   ]
  },
  {
   "cell_type": "markdown",
   "id": "100c8359",
   "metadata": {},
   "source": [
    "## 2. Data Types\n",
    "Core types used in practice:\n",
    "- `int`: whole numbers\n",
    "- `float`: decimal numbers\n",
    "- `str`: text\n",
    "- `bool`: True or False"
   ]
  },
  {
   "cell_type": "code",
   "execution_count": 4,
   "id": "f5a60b06",
   "metadata": {},
   "outputs": [],
   "source": [
    "price = 19.99\n",
    "quantity = 3\n",
    "product = \"USB-C Cable\"\n",
    "available = True"
   ]
  },
  {
   "cell_type": "markdown",
   "id": "03ba30bf",
   "metadata": {},
   "source": [
    "## 3. Basic Operations\n",
    "Python supports standard arithmetic operators:"
   ]
  },
  {
   "cell_type": "code",
   "execution_count": 5,
   "id": "1a9c5ba4",
   "metadata": {},
   "outputs": [
    {
     "name": "stdout",
     "output_type": "stream",
     "text": [
      "Total cost: 59.97\n"
     ]
    }
   ],
   "source": [
    "total = price * quantity\n",
    "print(\"Total cost:\", total)"
   ]
  },
  {
   "cell_type": "markdown",
   "id": "a6319895",
   "metadata": {},
   "source": [
    "Additional operators:\n",
    "- `+` addition\n",
    "- `-` subtraction\n",
    "- `/` division\n",
    "- `//` integer division\n",
    "- `%` modulo\n",
    "- `**` exponentiation"
   ]
  },
  {
   "cell_type": "code",
   "execution_count": 6,
   "id": "601cb45e",
   "metadata": {},
   "outputs": [
    {
     "name": "stdout",
     "output_type": "stream",
     "text": [
      "3.5\n",
      "3\n"
     ]
    }
   ],
   "source": [
    "# Division vs integer division\n",
    "print(7 / 2)\n",
    "print(7 // 2)"
   ]
  },
  {
   "cell_type": "code",
   "execution_count": 7,
   "id": "d374fc91",
   "metadata": {},
   "outputs": [
    {
     "name": "stdout",
     "output_type": "stream",
     "text": [
      "Average: 15.0\n"
     ]
    }
   ],
   "source": [
    "# Calculating an average\n",
    "values = [10, 15, 20]\n",
    "average = sum(values) / len(values)\n",
    "print(\"Average:\", average)"
   ]
  },
  {
   "cell_type": "markdown",
   "id": "4266d376",
   "metadata": {},
   "source": [
    "## 4. Comments\n",
    "Use comments to explain logic and assumptions."
   ]
  },
  {
   "cell_type": "code",
   "execution_count": 8,
   "id": "e45316c1",
   "metadata": {},
   "outputs": [
    {
     "name": "stdout",
     "output_type": "stream",
     "text": [
      "Area: 50\n"
     ]
    }
   ],
   "source": [
    "# Calculate rectangle area\n",
    "width = 5\n",
    "height = 10\n",
    "area = width * height\n",
    "print(\"Area:\", area)"
   ]
  },
  {
   "cell_type": "markdown",
   "id": "7882dd9d",
   "metadata": {},
   "source": [
    "## 5. Print Statements\n",
    "`print()` displays output during execution. Use `f-strings` for readable formatting."
   ]
  },
  {
   "cell_type": "code",
   "execution_count": 9,
   "id": "af4c8e08",
   "metadata": {},
   "outputs": [
    {
     "name": "stdout",
     "output_type": "stream",
     "text": [
      "Product: USB-C Cable\n",
      "3 units of USB-C Cable at $19.99 each\n"
     ]
    }
   ],
   "source": [
    "print(\"Product:\", product)\n",
    "print(f\"{quantity} units of {product} at ${price:.2f} each\")"
   ]
  },
  {
   "cell_type": "markdown",
   "id": "be72674f",
   "metadata": {},
   "source": [
    "## Summary\n",
    "- Variables store values of different types.\n",
    "- Basic arithmetic operations are essential for calculations.\n",
    "- Clean formatting and clear comments are key to maintainable code."
   ]
  }
 ],
 "metadata": {
  "kernelspec": {
   "display_name": "Python [conda env:base] *",
   "language": "python",
   "name": "conda-base-py"
  },
  "language_info": {
   "codemirror_mode": {
    "name": "ipython",
    "version": 3
   },
   "file_extension": ".py",
   "mimetype": "text/x-python",
   "name": "python",
   "nbconvert_exporter": "python",
   "pygments_lexer": "ipython3",
   "version": "3.12.7"
  }
 },
 "nbformat": 4,
 "nbformat_minor": 5
}
