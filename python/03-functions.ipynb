{
 "cells": [
  {
   "cell_type": "markdown",
   "id": "1bbd574d",
   "metadata": {},
   "source": [
    "# 03 – Functions\n",
    "\n",
    "Core Python concepts: defining and calling functions with inputs and outputs.\n",
    "\n",
    "---\n",
    "\n",
    "Part of the [Foundations: Python, R & SQL](../README.md) repository.\n"
   ]
  },
  {
   "cell_type": "markdown",
   "id": "55839fba",
   "metadata": {},
   "source": [
    "## 1. Defining Functions\n",
    "\n",
    "Use `def` to define reusable blocks of code."
   ]
  },
  {
   "cell_type": "code",
   "execution_count": 1,
   "id": "5d9eca05",
   "metadata": {},
   "outputs": [
    {
     "name": "stdout",
     "output_type": "stream",
     "text": [
      "Hello, Alice!\n"
     ]
    }
   ],
   "source": [
    "def greet(name):\n",
    "    print(f\"Hello, {name}!\")\n",
    "\n",
    "greet(\"Alice\")"
   ]
  },
  {
   "cell_type": "markdown",
   "id": "94253c19",
   "metadata": {},
   "source": [
    "## 2. Parameters and Return Values\n",
    "\n",
    "Functions can take inputs and return outputs."
   ]
  },
  {
   "cell_type": "code",
   "execution_count": 2,
   "id": "720257d0",
   "metadata": {},
   "outputs": [
    {
     "name": "stdout",
     "output_type": "stream",
     "text": [
      "Sum: 8\n"
     ]
    }
   ],
   "source": [
    "def add(x, y):\n",
    "    return x + y\n",
    "\n",
    "result = add(5, 3)\n",
    "print(\"Sum:\", result)"
   ]
  },
  {
   "cell_type": "markdown",
   "id": "eb115343",
   "metadata": {},
   "source": [
    "## 3. Default and Named Arguments\n",
    "\n",
    "You can define default values and use named arguments when calling a function."
   ]
  },
  {
   "cell_type": "code",
   "execution_count": 3,
   "id": "cde3c1f8",
   "metadata": {},
   "outputs": [
    {
     "name": "stdout",
     "output_type": "stream",
     "text": [
      "Hello, Marie!\n",
      "Bonjour, Jean!\n"
     ]
    }
   ],
   "source": [
    "def greet(name, language=\"English\"):\n",
    "    if language == \"English\":\n",
    "        print(f\"Hello, {name}!\")\n",
    "    elif language == \"French\":\n",
    "        print(f\"Bonjour, {name}!\")\n",
    "\n",
    "greet(\"Marie\")\n",
    "greet(\"Jean\", language=\"French\")"
   ]
  },
  {
   "cell_type": "markdown",
   "id": "4e7b5c1d",
   "metadata": {},
   "source": [
    "## 4. Practical Example\n",
    "\n",
    "Use functions to encapsulate and reuse logic."
   ]
  },
  {
   "cell_type": "code",
   "execution_count": 4,
   "id": "1c4cb0cd",
   "metadata": {},
   "outputs": [
    {
     "name": "stdout",
     "output_type": "stream",
     "text": [
      "Area: 20\n"
     ]
    }
   ],
   "source": [
    "def calculate_area(length, width):\n",
    "    return length * width\n",
    "\n",
    "area = calculate_area(5, 4)\n",
    "print(\"Area:\", area)"
   ]
  },
  {
   "cell_type": "markdown",
   "id": "19d92dc5-199f-4499-9511-9b229cbeb315",
   "metadata": {},
   "source": [
    "## Built-in Functions\n",
    "\n",
    "The Python interpreter includes many functions and types that are always available.\n",
    "\n",
    "They are listed in the official documentation:  \n",
    "👉 [https://docs.python.org/3/library/functions.html](https://docs.python.org/3/library/functions.html)"
   ]
  },
  {
   "cell_type": "markdown",
   "id": "02cc6dc9",
   "metadata": {},
   "source": [
    "## Summary\n",
    "\n",
    "- Use `def` to declare a function\n",
    "- Parameters make functions flexible and reusable\n",
    "- Functions help organize logic and reduce repetition"
   ]
  }
 ],
 "metadata": {
  "kernelspec": {
   "display_name": "Python [conda env:base] *",
   "language": "python",
   "name": "conda-base-py"
  },
  "language_info": {
   "codemirror_mode": {
    "name": "ipython",
    "version": 3
   },
   "file_extension": ".py",
   "mimetype": "text/x-python",
   "name": "python",
   "nbconvert_exporter": "python",
   "pygments_lexer": "ipython3",
   "version": "3.12.7"
  }
 },
 "nbformat": 4,
 "nbformat_minor": 5
}
